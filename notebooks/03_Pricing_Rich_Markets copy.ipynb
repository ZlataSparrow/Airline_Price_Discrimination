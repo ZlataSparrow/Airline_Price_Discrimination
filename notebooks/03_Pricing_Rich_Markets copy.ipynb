{
 "cells": [
  {
   "cell_type": "markdown",
   "metadata": {},
   "source": [
    "# Airline Pricing: Rich Market Segmentation\n",
    "\n",
    "This notebook analyzes airline fare pricing strategies by segmenting travel behavior (business vs leisure) and exploring route-based price variation. We explore:\n",
    "\n",
    "- How relative fare compares across segments\n",
    "- Which routes have higher fares\n",
    "- Regression models to identify significant predictors of fare levels"
   ]
  },
  {
   "cell_type": "code",
   "execution_count": 14,
   "metadata": {},
   "outputs": [],
   "source": [
    "import os\n",
    "import sys\n",
    "import warnings\n",
    "from datetime import datetime as dt\n",
    "\n",
    "import numpy as np\n",
    "import pandas as pd\n",
    "import statsmodels.formula.api as smf\n",
    "from IPython.core.display import HTML\n",
    "import seaborn as sns\n",
    "\n",
    "import pandas as pd\n",
    "import numpy as np\n",
    "import statsmodels.formula.api as smf\n",
    "from sklearn.model_selection import KFold\n",
    "\n",
    "import matplotlib.pyplot as plt\n",
    "import matplotlib.dates as mdates\n",
    "\n",
    "warnings.filterwarnings(\"ignore\")\n"
   ]
  },
  {
   "cell_type": "markdown",
   "metadata": {},
   "source": [
    "### I. Key Questions & Hypotheses"
   ]
  },
  {
   "cell_type": "markdown",
   "metadata": {},
   "source": [
    "💡 Key Questions to Guide This Analysis:\n",
    "\n",
    "\n",
    "\t1.\tDo airlines charge higher prices in wealthier markets — even for similar routes?\n",
    "→ Is market income level a pricing lever?\n",
    "\n",
    "\n",
    "\t2.\tHow does competition affect pricing — and does this effect depend on market richness?\n",
    "→ Does adding more carriers lower prices equally in rich vs. non-rich markets?\n",
    "\n",
    "\n",
    "\t3.\tDo small, luxury-focused destinations like Aspen and Jackson Hole behave differently?\n",
    "→ Are prices in these markets insulated from competition due to inelastic demand?\n",
    "\n",
    "\n",
    "\t4.\tCan we detect strategic price discrimination — where airlines exploit demand elasticity across different market types?\n",
    "→ Is this consistent with third-degree price discrimination?\n",
    "\n",
    "\n",
    "\t5.\tWhat would prices and revenues look like if competition or pricing were uniform across markets?\n",
    "→ Can we simulate counterfactuals to understand the gain from discriminatory pricing?"
   ]
  },
  {
   "cell_type": "markdown",
   "metadata": {},
   "source": [
    "### II. Data Loading"
   ]
  },
  {
   "cell_type": "code",
   "execution_count": 2,
   "metadata": {},
   "outputs": [],
   "source": [
    "data = pd.read_pickle(\"../data/Airlines_tickets_data_EDA_ready.pkl\")"
   ]
  },
  {
   "cell_type": "markdown",
   "metadata": {},
   "source": [
    "### III. Data Overview & Feature Construction"
   ]
  },
  {
   "cell_type": "markdown",
   "metadata": {},
   "source": [
    "#### 3.1 Data Description"
   ]
  },
  {
   "cell_type": "code",
   "execution_count": 3,
   "metadata": {},
   "outputs": [
    {
     "name": "stdout",
     "output_type": "stream",
     "text": [
      "Dataset dimensions: (2297983, 93)\n"
     ]
    }
   ],
   "source": [
    "print(\"Dataset dimensions:\", data.shape)"
   ]
  },
  {
   "cell_type": "code",
   "execution_count": 4,
   "metadata": {},
   "outputs": [
    {
     "name": "stdout",
     "output_type": "stream",
     "text": [
      "          avgprice        stops   n_carriers\n",
      "count 2,297,983.00 2,297,983.00 2,297,983.00\n",
      "mean        429.61         1.17         4.48\n",
      "std         247.12         0.46         2.42\n",
      "min           0.00         0.00         1.00\n",
      "25%         269.00         1.00         3.00\n",
      "50%         401.19         1.00         4.00\n",
      "75%         542.33         1.00         6.00\n",
      "max       7,063.00         3.00        17.00\n"
     ]
    }
   ],
   "source": [
    "desc = data[['avgprice', 'stops', 'n_carriers']].describe()\n",
    "with pd.option_context('display.float_format', '{:,.2f}'.format):\n",
    "    print(desc)"
   ]
  },
  {
   "cell_type": "markdown",
   "metadata": {},
   "source": [
    "#### 3.2 Feature Engineering"
   ]
  },
  {
   "cell_type": "markdown",
   "metadata": {},
   "source": [
    "I select a set of \"rich\" US cities based on their national reputation for high income, economic significance, and concentration of affluent residents. \n",
    "\n",
    "These cities — San Francisco, New York, Boston, Seattle, Los Angeles, Washington, and Chicago — are commonly recognized as major economic centers with higher-than-average wealth.\n",
    "\n",
    "My goal in identifying these \"rich\" cities is to investigate whether airlines charge higher prices in wealthier markets, even for similar routes. \n",
    "By flagging trips that originate from or arrive at these cities, we can analyze patterns of price discrimination and assess if market income level is a significant lever in airline pricing strategies."
   ]
  },
  {
   "cell_type": "code",
   "execution_count": 5,
   "metadata": {},
   "outputs": [],
   "source": [
    "rich_cities = ['San Francisco', 'New York', 'Boston', 'Seattle', 'Los Angeles', 'Washington', 'Chicago']\n",
    "data['rich_origin'] = data['city_O'].isin(rich_cities).astype(int)\n",
    "data['rich_destination'] = data['city_D'].isin(rich_cities).astype(int)"
   ]
  },
  {
   "cell_type": "code",
   "execution_count": 6,
   "metadata": {},
   "outputs": [
    {
     "name": "stdout",
     "output_type": "stream",
     "text": [
      "Count of rich origin: 18251\n",
      "Count of rich destination: 18433\n",
      "\n",
      "Rich origin: 0.79%  \n",
      "rich destination: 0.80%\n"
     ]
    }
   ],
   "source": [
    "print(\"Count of rich origin:\", data['rich_origin'].sum())\n",
    "print(\"Count of rich destination:\", data['rich_destination'].sum())\n",
    "\n",
    "from IPython.display import display, Markdown\n",
    "n = len(data)\n",
    "print()\n",
    "print((f\"Rich origin: {data['rich_origin'].sum()/n:.2%}  \\nrich destination: {data['rich_destination'].sum()/n:.2%}\"))"
   ]
  },
  {
   "cell_type": "code",
   "execution_count": 7,
   "metadata": {},
   "outputs": [],
   "source": [
    "# Add log_avg_price (lo_avg) for linearity & variance stabilization\n",
    "data['log_avgprice'] = np.log(data['avgprice'])\n",
    "data = data[np.isfinite(data['log_avgprice'])]"
   ]
  },
  {
   "cell_type": "markdown",
   "metadata": {},
   "source": [
    "# INSGITHS"
   ]
  },
  {
   "cell_type": "code",
   "execution_count": 8,
   "metadata": {},
   "outputs": [
    {
     "data": {
      "text/plain": [
       "Index(['origin', 'finaldest', 'return', 'year', 'quarter', 'airports',\n",
       "       'return_sym', 'stops', 'avgprice', 'passengers', 'itinfare',\n",
       "       'sharelargest', 'share16', 'share9E', 'share9L', 'shareAA', 'shareAS',\n",
       "       'shareB6', 'shareCO', 'shareCP', 'shareCS', 'shareDL', 'shareEV',\n",
       "       'shareF8', 'shareF9', 'shareFL', 'shareG4', 'shareG7', 'shareHA',\n",
       "       'shareL3', 'shareMQ', 'shareNK', 'shareOH', 'shareOO', 'shareOW',\n",
       "       'shareQX', 'shareRP', 'shareS5', 'shareSY', 'shareU5', 'shareUA',\n",
       "       'shareUS', 'shareVX', 'shareWN', 'shareXE', 'shareXJ', 'shareYV',\n",
       "       'shareYX', 'shareZW', 'treated', 'smallmkt', 'code_O', 'icao_O',\n",
       "       'name_O', 'latitude_O', 'longitude_O', 'elevation_O', 'url_O',\n",
       "       'time_zone_O', 'city_code_O', 'country_O', 'city_O', 'state_O',\n",
       "       'county_O', 'type_O', 'code_D', 'icao_D', 'name_D', 'latitude_D',\n",
       "       'longitude_D', 'elevation_D', 'url_D', 'time_zone_D', 'city_code_D',\n",
       "       'country_D', 'city_D', 'state_D', 'county_D', 'type_D', 'airport_O1',\n",
       "       'city_O1', 'state_O1', 'airport_D1', 'city_D1', 'state_D1', 'hhi',\n",
       "       'route', 'carrier', 'n_carriers', 'inv_n_carriers', 'share_LCC',\n",
       "       'share_Legacy', 'carrier_type_dominant', 'rich_origin',\n",
       "       'rich_destination', 'log_avgprice'],\n",
       "      dtype='object')"
      ]
     },
     "execution_count": 8,
     "metadata": {},
     "output_type": "execute_result"
    }
   ],
   "source": [
    "data.columns"
   ]
  },
  {
   "cell_type": "markdown",
   "metadata": {},
   "source": [
    "### IV. Regression Analysis"
   ]
  },
  {
   "cell_type": "markdown",
   "metadata": {},
   "source": [
    "#### 1. Baseline Regression: Does income matter?"
   ]
  },
  {
   "cell_type": "markdown",
   "metadata": {},
   "source": [
    "Purpose: Test if richer origins/destinations have systematically higher or lower fares."
   ]
  },
  {
   "cell_type": "code",
   "execution_count": null,
   "metadata": {},
   "outputs": [
    {
     "name": "stdout",
     "output_type": "stream",
     "text": [
      "                            OLS Regression Results                            \n",
      "==============================================================================\n",
      "Dep. Variable:           log_avgprice   R-squared:                       0.001\n",
      "Model:                            OLS   Adj. R-squared:                  0.001\n",
      "Method:                 Least Squares   F-statistic:                     620.1\n",
      "Date:                Wed, 08 Oct 2025   Prob (F-statistic):          5.57e-270\n",
      "Time:                        16:38:18   Log-Likelihood:            -2.5505e+06\n",
      "No. Observations:             2288970   AIC:                         5.101e+06\n",
      "Df Residuals:                 2288967   BIC:                         5.101e+06\n",
      "Df Model:                           2                                         \n",
      "Covariance Type:            nonrobust                                         \n",
      "====================================================================================\n",
      "                       coef    std err          t      P>|t|      [0.025      0.975]\n",
      "------------------------------------------------------------------------------------\n",
      "Intercept            5.8782      0.000    1.2e+04      0.000       5.877       5.879\n",
      "rich_origin         -0.1602      0.005    -29.138      0.000      -0.171      -0.149\n",
      "rich_destination    -0.1085      0.005    -19.870      0.000      -0.119      -0.098\n",
      "==============================================================================\n",
      "Omnibus:                  1155722.136   Durbin-Watson:                   0.989\n",
      "Prob(Omnibus):                  0.000   Jarque-Bera (JB):         10387838.553\n",
      "Skew:                          -2.261   Prob(JB):                         0.00\n",
      "Kurtosis:                      12.406   Cond. No.                         11.3\n",
      "==============================================================================\n",
      "\n",
      "Notes:\n",
      "[1] Standard Errors assume that the covariance matrix of the errors is correctly specified.\n"
     ]
    }
   ],
   "source": [
    "baseline_m0 = smf.ols('log_avgprice ~ rich_origin + rich_destination', data=data).fit()\n",
    "print(baseline_m1.summary())"
   ]
  },
  {
   "cell_type": "markdown",
   "metadata": {},
   "source": [
    "The baseline regression shows that routes involving higher-income (rich) origin or destination cities tend to have *lower average prices*. This suggests that passengers flying to or from wealthier cities generally pay less, on average, for airfare.\n",
    "\n",
    " **What might explain this?**\n",
    "* Rich cities are often large metro areas and major airline hubs (e.g., LAX, JFK, SFO).\n",
    "* These markets typically have more airlines competing for passengers, which increases supply and puts downward pressure on fares.\n",
    "* While fares per passenger are lower, the total revenue in these markets may still be higher due to the large volume of travelers."
   ]
  },
  {
   "cell_type": "markdown",
   "metadata": {},
   "source": [
    "#### Next Step: Modeling Approach\n",
    "\n",
    "Before jumping into more complex models, I wanted to make sure the basics were solid and the results were actually trustworthy. The dataset is huge, so running everything at once would be both time-consuming and unnecessary. Instead, I used a smart shortcut — working with a 15% random sample that’s still representative but much faster to process.\n",
    "\n",
    "I ran OLS with robust standard errors to keep the estimates reliable even if the data isn’t perfectly clean. Then, I repeated the regression on a few random subsamples to check that the coefficients stay stable — a good sign that the results aren’t just random noise. Finally, I added a quick 5-fold cross-validation to make sure the model’s R² holds up out of sample.\n",
    "\n",
    "This setup gives me confidence in the findings and builds a strong foundation before moving on to more advanced modeling."
   ]
  },
  {
   "cell_type": "markdown",
   "metadata": {},
   "source": [
    "#### 2. Competition Regression: Does competition affect pricing?"
   ]
  },
  {
   "cell_type": "markdown",
   "metadata": {},
   "source": [
    "Purpose: Add market structure variables (n_carriers, hhi, stops) to explain pricing variation."
   ]
  },
  {
   "cell_type": "code",
   "execution_count": 32,
   "metadata": {},
   "outputs": [
    {
     "name": "stdout",
     "output_type": "stream",
     "text": [
      "Sampled 343,346 rows out of 2,288,970 total.\n",
      "\n",
      "=== Competition Model Summary (Robust SEs) ===\n",
      "                            OLS Regression Results                            \n",
      "==============================================================================\n",
      "Dep. Variable:           log_avgprice   R-squared:                       0.075\n",
      "Model:                            OLS   Adj. R-squared:                  0.075\n",
      "Method:                 Least Squares   F-statistic:                     3825.\n",
      "Date:                Wed, 08 Oct 2025   Prob (F-statistic):               0.00\n",
      "Time:                        16:38:35   Log-Likelihood:            -3.6838e+05\n",
      "No. Observations:              343346   AIC:                         7.368e+05\n",
      "Df Residuals:                  343340   BIC:                         7.368e+05\n",
      "Df Model:                           5                                         \n",
      "Covariance Type:                  HC3                                         \n",
      "====================================================================================\n",
      "                       coef    std err          z      P>|z|      [0.025      0.975]\n",
      "------------------------------------------------------------------------------------\n",
      "Intercept            5.1814      0.005    949.700      0.000       5.171       5.192\n",
      "n_carriers           0.0531      0.001     97.331      0.000       0.052       0.054\n",
      "hhi                 6.9e-06      2e-07     34.536      0.000    6.51e-06    7.29e-06\n",
      "stops                0.3131      0.003     92.780      0.000       0.306       0.320\n",
      "rich_origin         -0.1082      0.014     -7.725      0.000      -0.136      -0.081\n",
      "rich_destination    -0.0795      0.014     -5.869      0.000      -0.106      -0.053\n",
      "==============================================================================\n",
      "Omnibus:                   188163.644   Durbin-Watson:                   1.994\n",
      "Prob(Omnibus):                  0.000   Jarque-Bera (JB):          2101009.165\n",
      "Skew:                          -2.429   Prob(JB):                         0.00\n",
      "Kurtosis:                      14.102   Cond. No.                     1.68e+05\n",
      "==============================================================================\n",
      "\n",
      "Notes:\n",
      "[1] Standard Errors are heteroscedasticity robust (HC3)\n",
      "[2] The condition number is large, 1.68e+05. This might indicate that there are\n",
      "strong multicollinearity or other numerical problems.\n",
      "\n",
      "=== Coefficient Stability Across Subsamples ===\n",
      "                      mean           std\n",
      "Intercept         5.181319  3.906930e-03\n",
      "n_carriers        0.053086  4.095306e-04\n",
      "hhi               0.000007  1.691375e-07\n",
      "stops             0.313704  1.836999e-03\n",
      "rich_origin      -0.092409  9.814209e-03\n",
      "rich_destination -0.073226  7.455340e-03\n"
     ]
    },
    {
     "data": {
      "image/png": "[encoded data removed]",
      "text/plain": [
       "<Figure size 800x500 with 1 Axes>"
      ]
     },
     "metadata": {},
     "output_type": "display_data"
    },
    {
     "name": "stdout",
     "output_type": "stream",
     "text": [
      "\n",
      "=== Cross-Validation (Optional) ===\n",
      "Mean out-of-sample R²: 0.0750 ± 0.0017\n",
      "\n",
      "=== Coefficient Stability Across CV Folds ===\n",
      "                      mean           std\n",
      "Intercept         5.181352  2.316095e-03\n",
      "n_carriers        0.053083  2.152880e-04\n",
      "hhi               0.000007  1.576310e-07\n",
      "stops             0.313075  9.522193e-04\n",
      "rich_origin      -0.108213  1.053551e-02\n",
      "rich_destination -0.079486  4.825110e-03\n"
     ]
    }
   ],
   "source": [
    "# --- 1. Randomly sample 15% of the dataset ---\n",
    "sample_frac = 0.15\n",
    "data_sample = data.sample(frac=sample_frac, random_state=42)\n",
    "print(f\"Sampled {len(data_sample):,} rows out of {len(data):,} total.\")\n",
    "\n",
    "# --- 2. Run OLS with robust standard errors (HC3) ---\n",
    "formula = 'log_avgprice ~ n_carriers + hhi + stops + rich_origin + rich_destination'\n",
    "competion_m2 = smf.ols(formula=formula, data=data_sample).fit(cov_type='HC3')\n",
    "\n",
    "print(\"\\n=== Competition Model Summary (Robust SEs) ===\")\n",
    "print(competion_m2.summary())\n",
    "\n",
    "# --- 3. Repeat with 3–5 random subsamples to check coefficient stability ---\n",
    "n_runs = 5\n",
    "coeffs = []\n",
    "\n",
    "for i in range(n_runs):\n",
    "    s = data.sample(frac=sample_frac, random_state=42 + i)\n",
    "    m = smf.ols(formula=formula, data=s).fit(cov_type='HC3')\n",
    "    coeffs.append(m.params)\n",
    "\n",
    "coeffs_df = pd.DataFrame(coeffs)\n",
    "print(\"\\n=== Coefficient Stability Across Subsamples ===\")\n",
    "print(coeffs_df.describe().T[['mean', 'std']])\n",
    "\n",
    "# Optional: visualize coefficient stability\n",
    "import matplotlib.pyplot as plt\n",
    "coeffs_df[['n_carriers','hhi','stops','rich_origin','rich_destination']].plot.box(figsize=(8,5))\n",
    "plt.title(\"Coefficient Stability Across Random Subsamples\")\n",
    "plt.ylabel(\"Coefficient value\")\n",
    "plt.grid(alpha=0.3)\n",
    "plt.show()\n",
    "\n",
    "# --- 4. Optional: 5-Fold Cross-Validation on one subsample ---\n",
    "print(\"\\n=== Cross-Validation (Optional) ===\")\n",
    "\n",
    "kf = KFold(n_splits=5, shuffle=True, random_state=42)\n",
    "cv_r2, cv_coefs = [], []\n",
    "\n",
    "data_cv = data_sample.copy()\n",
    "for fold, (train_idx, test_idx) in enumerate(kf.split(data_cv)):\n",
    "    train, test = data_cv.iloc[train_idx], data_cv.iloc[test_idx]\n",
    "    m_cv = smf.ols(formula=formula, data=train).fit()\n",
    "    y_pred = m_cv.predict(test)\n",
    "    r2 = 1 - np.sum((test['log_avgprice'] - y_pred)**2) / np.sum((test['log_avgprice'] - test['log_avgprice'].mean())**2)\n",
    "    cv_r2.append(r2)\n",
    "    cv_coefs.append(m_cv.params)\n",
    "\n",
    "print(f\"Mean out-of-sample R²: {np.mean(cv_r2):.4f} ± {np.std(cv_r2):.4f}\")\n",
    "\n",
    "cv_coefs_df = pd.DataFrame(cv_coefs)\n",
    "print(\"\\n=== Coefficient Stability Across CV Folds ===\")\n",
    "print(cv_coefs_df.describe().T[['mean', 'std']])"
   ]
  },
  {
   "cell_type": "markdown",
   "metadata": {},
   "source": [
    "The competition model builds on the simple baseline by adding key market structure variables — the number of carriers, market concentration (HHI), and the number of stops. Once these factors are included, the model’s performance improves noticeably (R² rises from 0.001 to 0.075), meaning fares are far better explained when we account for competition dynamics. Prices increase in more concentrated markets and fall as the number of carriers rises, clearly reflecting competitive pressure. Routes with stops are also consistently more expensive, which likely captures longer or less direct flights.\n",
    "\n",
    "Markets with wealthier origins or destinations still show slightly lower fares, but competition explains most of the variation. Coefficients remain stable across subsamples and CV folds, suggesting a reliable pattern. Overall, the results highlight that market competition — not just route characteristics — is the main force shaping airline pricing."
   ]
  },
  {
   "cell_type": "markdown",
   "metadata": {},
   "source": [
    "#### 3. Interaction Model: Does competition work differently in rich vs. poor markets?"
   ]
  },
  {
   "cell_type": "markdown",
   "metadata": {},
   "source": [
    "Purpose: Allow the impact of competition to differ by market income level."
   ]
  },
  {
   "cell_type": "code",
   "execution_count": 29,
   "metadata": {},
   "outputs": [
    {
     "name": "stdout",
     "output_type": "stream",
     "text": [
      "Sampled 343,346 rows out of 2,288,970 total.\n",
      "\n",
      "=== Interaction Model Summary (Robust SEs) ===\n",
      "                            OLS Regression Results                            \n",
      "==============================================================================\n",
      "Dep. Variable:           log_avgprice   R-squared:                       0.075\n",
      "Model:                            OLS   Adj. R-squared:                  0.075\n",
      "Method:                 Least Squares   F-statistic:                     2141.\n",
      "Date:                Wed, 08 Oct 2025   Prob (F-statistic):               0.00\n",
      "Time:                        16:38:47   Log-Likelihood:            -3.6835e+05\n",
      "No. Observations:              343346   AIC:                         7.367e+05\n",
      "Df Residuals:                  343336   BIC:                         7.368e+05\n",
      "Df Model:                           9                                         \n",
      "Covariance Type:                  HC3                                         \n",
      "===============================================================================================\n",
      "                                  coef    std err          z      P>|z|      [0.025      0.975]\n",
      "-----------------------------------------------------------------------------------------------\n",
      "Intercept                       5.1817      0.005    947.106      0.000       5.171       5.192\n",
      "n_carriers                      0.0533      0.001     97.060      0.000       0.052       0.054\n",
      "rich_origin                    -0.0834      0.047     -1.759      0.079      -0.176       0.010\n",
      "n_carriers:rich_origin         -0.0094      0.006     -1.445      0.148      -0.022       0.003\n",
      "rich_destination               -0.1155      0.046     -2.511      0.012      -0.206      -0.025\n",
      "n_carriers:rich_destination    -0.0254      0.006     -4.105      0.000      -0.037      -0.013\n",
      "hhi                          6.808e-06   2.01e-07     33.811      0.000    6.41e-06     7.2e-06\n",
      "hhi:rich_origin              7.037e-07    2.4e-06      0.294      0.769      -4e-06     5.4e-06\n",
      "hhi:rich_destination         1.059e-05   2.25e-06      4.703      0.000    6.18e-06     1.5e-05\n",
      "stops                           0.3130      0.003     92.766      0.000       0.306       0.320\n",
      "==============================================================================\n",
      "Omnibus:                   188184.270   Durbin-Watson:                   1.994\n",
      "Prob(Omnibus):                  0.000   Jarque-Bera (JB):          2101939.263\n",
      "Skew:                          -2.430   Prob(JB):                         0.00\n",
      "Kurtosis:                      14.105   Cond. No.                     6.39e+05\n",
      "==============================================================================\n",
      "\n",
      "Notes:\n",
      "[1] Standard Errors are heteroscedasticity robust (HC3)\n",
      "[2] The condition number is large, 6.39e+05. This might indicate that there are\n",
      "strong multicollinearity or other numerical problems.\n",
      "\n",
      "=== Coefficient Stability Across Subsamples ===\n",
      "                                     mean           std\n",
      "Intercept                    5.181272e+00  3.867834e-03\n",
      "n_carriers                   5.337359e-02  4.012698e-04\n",
      "rich_origin                 -4.709847e-02  6.065135e-02\n",
      "n_carriers:rich_origin      -1.297800e-02  7.219842e-03\n",
      "rich_destination            -6.152525e-02  4.182827e-02\n",
      "n_carriers:rich_destination -2.932080e-02  4.429634e-03\n",
      "hhi                          6.756154e-06  1.589589e-07\n",
      "hhi:rich_origin              2.390545e-07  2.710933e-06\n",
      "hhi:rich_destination         8.242812e-06  1.836203e-06\n",
      "stops                        3.135134e-01  1.809513e-03\n"
     ]
    },
    {
     "data": {
      "image/png": "[encoded data removed]",
      "text/plain": [
       "<Figure size 800x500 with 1 Axes>"
      ]
     },
     "metadata": {},
     "output_type": "display_data"
    },
    {
     "name": "stdout",
     "output_type": "stream",
     "text": [
      "\n",
      "=== Cross-Validation (Optional) ===\n",
      "Mean out-of-sample R²: 0.0752 ± 0.0017\n",
      "\n",
      "=== Coefficient Stability Across CV Folds ===\n",
      "                                     mean           std\n",
      "Intercept                    5.181651e+00  2.413913e-03\n",
      "n_carriers                   5.332691e-02  2.316092e-04\n",
      "rich_origin                 -8.378709e-02  9.077727e-03\n",
      "n_carriers:rich_origin      -9.336422e-03  2.757299e-03\n",
      "rich_destination            -1.155493e-01  2.023480e-02\n",
      "n_carriers:rich_destination -2.533072e-02  2.843500e-03\n",
      "hhi                          6.808525e-06  1.596647e-07\n",
      "hhi:rich_origin              7.211707e-07  5.205254e-07\n",
      "hhi:rich_destination         1.058600e-05  6.999161e-07\n",
      "stops                        3.129577e-01  9.346954e-04\n"
     ]
    }
   ],
   "source": [
    "# --- 1. Randomly sample 15% of the dataset ---\n",
    "sample_frac = 0.15\n",
    "data_sample = data.sample(frac=sample_frac, random_state=42)\n",
    "print(f\"Sampled {len(data_sample):,} rows out of {len(data):,} total.\")\n",
    "\n",
    "# --- 2. Run OLS with robust standard errors (HC3) ---\n",
    "formula = 'log_avgprice ~ n_carriers * rich_origin + n_carriers * rich_destination + hhi * rich_origin + hhi * rich_destination + stops'\n",
    "interaction_m3 = smf.ols(formula=formula, data=data_sample).fit(cov_type='HC3')\n",
    "\n",
    "print(\"\\n=== Interaction Model Summary (Robust SEs) ===\")\n",
    "print(interaction_m3.summary())\n",
    "\n",
    "# --- 3. Repeat with 3–5 random subsamples to check coefficient stability ---\n",
    "n_runs = 5\n",
    "coeffs = []\n",
    "\n",
    "for i in range(n_runs):\n",
    "    s = data.sample(frac=sample_frac, random_state=42 + i)\n",
    "    m = smf.ols(formula=formula, data=s).fit(cov_type='HC3')\n",
    "    coeffs.append(m.params)\n",
    "\n",
    "coeffs_df = pd.DataFrame(coeffs)\n",
    "print(\"\\n=== Coefficient Stability Across Subsamples ===\")\n",
    "print(coeffs_df.describe().T[['mean', 'std']])\n",
    "\n",
    "# Optional: visualize coefficient stability\n",
    "import matplotlib.pyplot as plt\n",
    "coeffs_df[['n_carriers', 'rich_origin', 'n_carriers:rich_origin', \n",
    "           'rich_destination', 'n_carriers:rich_destination', \n",
    "           'hhi', 'hhi:rich_origin', 'hhi:rich_destination', 'stops']].plot.box(figsize=(8,5))\n",
    "plt.title(\"Coefficient Stability Across Random Subsamples\")\n",
    "plt.ylabel(\"Coefficient value\")\n",
    "plt.grid(alpha=0.3)\n",
    "plt.show()\n",
    "\n",
    "# --- 4. Optional: 5-Fold Cross-Validation on one subsample ---\n",
    "print(\"\\n=== Cross-Validation (Optional) ===\")\n",
    "\n",
    "kf = KFold(n_splits=5, shuffle=True, random_state=42)\n",
    "cv_r2, cv_coefs = [], []\n",
    "\n",
    "data_cv = data_sample.copy()\n",
    "for fold, (train_idx, test_idx) in enumerate(kf.split(data_cv)):\n",
    "    train, test = data_cv.iloc[train_idx], data_cv.iloc[test_idx]\n",
    "    m_cv = smf.ols(formula=formula, data=train).fit()\n",
    "    y_pred = m_cv.predict(test)\n",
    "    r2 = 1 - np.sum((test['log_avgprice'] - y_pred)**2) / np.sum((test['log_avgprice'] - test['log_avgprice'].mean())**2)\n",
    "    cv_r2.append(r2)\n",
    "    cv_coefs.append(m_cv.params)\n",
    "\n",
    "print(f\"Mean out-of-sample R²: {np.mean(cv_r2):.4f} ± {np.std(cv_r2):.4f}\")\n",
    "\n",
    "cv_coefs_df = pd.DataFrame(cv_coefs)\n",
    "print(\"\\n=== Coefficient Stability Across CV Folds ===\")\n",
    "print(cv_coefs_df.describe().T[['mean', 'std']])"
   ]
  },
  {
   "cell_type": "markdown",
   "metadata": {},
   "source": [
    "Interaction Model vs. Competition Model\n",
    "\n",
    "Compared to the baseline competition model, the interaction model keeps the overall explanatory power nearly identical (R² ≈ 0.075), but it adds important nuance. The inclusion of interaction terms allows us to test whether the effects of competition (number of carriers, market concentration) vary between wealthier and less wealthy routes.\n",
    "\n",
    "The results show that while the main effects of competition remain strong and positive — more carriers still correlate with lower fares — the interaction between carriers and rich destinations is negative and significant. This means that in richer destination markets, the usual price-reducing impact of competition is weaker, suggesting airlines maintain higher prices even when more carriers are present.\n",
    "\n",
    "Other interactions (e.g., with HHI or rich origins) are statistically weaker, but the model reveals subtle signs of differential pricing behavior tied to market wealth. In short: competition matters, but not equally everywhere — richer destinations appear more price-insulated."
   ]
  },
  {
   "cell_type": "markdown",
   "metadata": {},
   "source": [
    "#### 4. Market Type Model: Small vs. Large Markets"
   ]
  },
  {
   "cell_type": "markdown",
   "metadata": {},
   "source": [
    "##### 4.1 Small Market Model\n",
    "\n",
    "Purpose: Check if low-volume (“small”) markets price differently"
   ]
  },
  {
   "cell_type": "code",
   "execution_count": 34,
   "metadata": {},
   "outputs": [
    {
     "name": "stdout",
     "output_type": "stream",
     "text": [
      "Sampled 343,346 rows out of 2,288,970 total.\n",
      "\n",
      "=== Market Type Model Summary (Robust SEs) ===\n",
      "                            OLS Regression Results                            \n",
      "==============================================================================\n",
      "Dep. Variable:           log_avgprice   R-squared:                       0.218\n",
      "Model:                            OLS   Adj. R-squared:                  0.218\n",
      "Method:                 Least Squares   F-statistic:                     1664.\n",
      "Date:                Wed, 08 Oct 2025   Prob (F-statistic):               0.00\n",
      "Time:                        16:39:41   Log-Likelihood:            -3.3964e+05\n",
      "No. Observations:              343346   AIC:                         6.794e+05\n",
      "Df Residuals:                  343303   BIC:                         6.798e+05\n",
      "Df Model:                          42                                         \n",
      "Covariance Type:                  HC3                                         \n",
      "====================================================================================\n",
      "                       coef    std err          z      P>|z|      [0.025      0.975]\n",
      "------------------------------------------------------------------------------------\n",
      "Intercept            4.3961      0.013    333.794      0.000       4.370       4.422\n",
      "C(carrier)[T.9E]     0.2005      0.006     36.066      0.000       0.190       0.211\n",
      "C(carrier)[T.9L]     0.0892      0.015      5.953      0.000       0.060       0.119\n",
      "C(carrier)[T.AA]     0.0979      0.006     17.651      0.000       0.087       0.109\n",
      "C(carrier)[T.AS]    -0.0768      0.013     -5.828      0.000      -0.103      -0.051\n",
      "C(carrier)[T.B6]    -0.3830      0.014    -27.527      0.000      -0.410      -0.356\n",
      "C(carrier)[T.CO]     0.2016      0.012     16.481      0.000       0.178       0.226\n",
      "C(carrier)[T.CP]     0.2199      0.012     18.562      0.000       0.197       0.243\n",
      "C(carrier)[T.CS]     1.2436      0.065     19.019      0.000       1.115       1.372\n",
      "C(carrier)[T.DL]     0.1623      0.005     31.626      0.000       0.152       0.172\n",
      "C(carrier)[T.EV]     0.1731      0.005     32.337      0.000       0.163       0.184\n",
      "C(carrier)[T.F8]     0.0333      0.094      0.356      0.722      -0.150       0.217\n",
      "C(carrier)[T.F9]    -0.1894      0.014    -14.017      0.000      -0.216      -0.163\n",
      "C(carrier)[T.FL]    -0.7058      0.014    -50.497      0.000      -0.733      -0.678\n",
      "C(carrier)[T.G4]    -1.7013      0.020    -85.330      0.000      -1.740      -1.662\n",
      "C(carrier)[T.G7]     0.1501      0.011     13.664      0.000       0.129       0.172\n",
      "C(carrier)[T.HA]     0.1300      0.031      4.141      0.000       0.068       0.192\n",
      "C(carrier)[T.L3]    -0.3061      0.070     -4.348      0.000      -0.444      -0.168\n",
      "C(carrier)[T.MQ]     0.1090      0.006     17.229      0.000       0.097       0.121\n",
      "C(carrier)[T.NK]    -1.1298      0.030    -38.110      0.000      -1.188      -1.072\n",
      "C(carrier)[T.OH]    -0.0034      0.012     -0.285      0.776      -0.026       0.020\n",
      "C(carrier)[T.OO]     0.1483      0.006     25.599      0.000       0.137       0.160\n",
      "C(carrier)[T.OW]     0.0064      0.023      0.275      0.784      -0.039       0.052\n",
      "C(carrier)[T.QX]    -0.2392      0.014    -17.651      0.000      -0.266      -0.213\n",
      "C(carrier)[T.RP]     0.0115      0.029      0.396      0.692      -0.045       0.068\n",
      "C(carrier)[T.S5]     0.0880      0.018      4.767      0.000       0.052       0.124\n",
      "C(carrier)[T.SY]    -2.1234      0.047    -44.803      0.000      -2.216      -2.031\n",
      "C(carrier)[T.U5]    -1.1182      0.087    -12.822      0.000      -1.289      -0.947\n",
      "C(carrier)[T.UA]     0.2884      0.007     44.132      0.000       0.276       0.301\n",
      "C(carrier)[T.US]     0.0204      0.006      3.280      0.001       0.008       0.033\n",
      "C(carrier)[T.VX]    -0.1669      0.069     -2.419      0.016      -0.302      -0.032\n",
      "C(carrier)[T.WN]    -0.4383      0.006    -68.937      0.000      -0.451      -0.426\n",
      "C(carrier)[T.XE]     0.1528      0.012     12.756      0.000       0.129       0.176\n",
      "C(carrier)[T.XJ]     0.0792      0.023      3.464      0.001       0.034       0.124\n",
      "C(carrier)[T.YV]     0.0815      0.011      7.394      0.000       0.060       0.103\n",
      "C(carrier)[T.YX]     0.0110      0.009      1.162      0.245      -0.008       0.030\n",
      "C(carrier)[T.ZW]    -0.0023      0.012     -0.197      0.844      -0.026       0.021\n",
      "smallmkt_num         1.0712      0.012     91.413      0.000       1.048       1.094\n",
      "n_carriers           0.0218      0.001     39.831      0.000       0.021       0.023\n",
      "hhi                2.74e-07   2.03e-07      1.353      0.176   -1.23e-07    6.71e-07\n",
      "stops                0.2312      0.003     79.085      0.000       0.225       0.237\n",
      "rich_origin         -0.1397      0.013    -10.455      0.000      -0.166      -0.114\n",
      "rich_destination    -0.0986      0.013     -7.763      0.000      -0.123      -0.074\n",
      "==============================================================================\n",
      "Omnibus:                   205763.641   Durbin-Watson:                   1.995\n",
      "Prob(Omnibus):                  0.000   Jarque-Bera (JB):          3296834.976\n",
      "Skew:                          -2.599   Prob(JB):                         0.00\n",
      "Kurtosis:                      17.263   Cond. No.                     4.39e+06\n",
      "==============================================================================\n",
      "\n",
      "Notes:\n",
      "[1] Standard Errors are heteroscedasticity robust (HC3)\n",
      "[2] The condition number is large, 4.39e+06. This might indicate that there are\n",
      "strong multicollinearity or other numerical problems.\n",
      "\n",
      "=== Coefficient Stability Across Subsamples ===\n",
      "                          mean           std\n",
      "Intercept         4.397512e+00  9.107330e-03\n",
      "C(carrier)[T.9E]  2.015212e-01  4.567556e-03\n",
      "C(carrier)[T.9L]  1.029544e-01  9.070634e-03\n",
      "C(carrier)[T.AA]  1.010076e-01  5.952222e-03\n",
      "C(carrier)[T.AS] -7.675684e-02  3.602416e-03\n",
      "C(carrier)[T.B6] -3.890451e-01  1.212991e-02\n",
      "C(carrier)[T.CO]  1.912580e-01  1.325453e-02\n",
      "C(carrier)[T.CP]  2.203467e-01  8.384115e-03\n",
      "C(carrier)[T.CS]  1.212976e+00  5.707639e-02\n",
      "C(carrier)[T.DL]  1.605971e-01  3.548028e-03\n",
      "C(carrier)[T.EV]  1.735822e-01  9.625498e-04\n",
      "C(carrier)[T.F8] -3.225375e-02  4.611669e-02\n",
      "C(carrier)[T.F9] -2.040377e-01  9.675564e-03\n",
      "C(carrier)[T.FL] -7.085258e-01  5.842310e-03\n",
      "C(carrier)[T.G4] -1.718595e+00  1.306792e-02\n",
      "C(carrier)[T.G7]  1.615918e-01  9.620930e-03\n",
      "C(carrier)[T.HA]  2.061518e-01  4.981395e-02\n",
      "C(carrier)[T.L3] -2.897442e-01  3.419692e-02\n",
      "C(carrier)[T.MQ]  1.103773e-01  4.868347e-03\n",
      "C(carrier)[T.NK] -1.095775e+00  2.709480e-02\n",
      "C(carrier)[T.OH] -1.043495e-03  1.071297e-02\n",
      "C(carrier)[T.OO]  1.489639e-01  6.694411e-03\n",
      "C(carrier)[T.OW]  2.730457e-02  1.562221e-02\n",
      "C(carrier)[T.QX] -2.420119e-01  5.788138e-03\n",
      "C(carrier)[T.RP]  3.916030e-02  1.870104e-02\n",
      "C(carrier)[T.S5]  9.413893e-02  1.089517e-02\n",
      "C(carrier)[T.SY] -2.149603e+00  4.334882e-02\n",
      "C(carrier)[T.U5] -1.245957e+00  1.981625e-01\n",
      "C(carrier)[T.UA]  2.809852e-01  8.060004e-03\n",
      "C(carrier)[T.US]  2.022952e-02  2.580060e-03\n",
      "C(carrier)[T.VX] -1.682465e-01  2.957605e-02\n",
      "C(carrier)[T.WN] -4.451478e-01  6.045059e-03\n",
      "C(carrier)[T.XE]  1.443061e-01  8.986337e-03\n",
      "C(carrier)[T.XJ]  4.089037e-02  2.305107e-02\n",
      "C(carrier)[T.YV]  6.441668e-02  1.010278e-02\n",
      "C(carrier)[T.YX]  1.516453e-02  7.768532e-03\n",
      "C(carrier)[T.ZW]  6.938143e-04  5.199553e-03\n",
      "smallmkt_num      1.068316e+00  6.543680e-03\n",
      "n_carriers        2.166189e-02  4.207347e-04\n",
      "hhi               2.071294e-07  1.652577e-07\n",
      "stops             2.335466e-01  2.596963e-03\n",
      "rich_origin      -1.287443e-01  8.957919e-03\n",
      "rich_destination -8.898387e-02  9.280044e-03\n"
     ]
    },
    {
     "data": {
      "image/png": "[encoded data removed]",
      "text/plain": [
       "<Figure size 800x500 with 1 Axes>"
      ]
     },
     "metadata": {},
     "output_type": "display_data"
    },
    {
     "name": "stdout",
     "output_type": "stream",
     "text": [
      "\n",
      "=== Cross-Validation (Optional) ===\n",
      "Mean out-of-sample R²: 0.2173 ± 0.0038\n",
      "\n",
      "=== Coefficient Stability Across CV Folds ===\n",
      "                          mean           std\n",
      "Intercept         4.396064e+00  3.384541e-03\n",
      "C(carrier)[T.9E]  2.005407e-01  4.902280e-03\n",
      "C(carrier)[T.9L]  8.918929e-02  5.348703e-03\n",
      "C(carrier)[T.AA]  9.791032e-02  1.984323e-03\n",
      "C(carrier)[T.AS] -7.679228e-02  1.583898e-02\n",
      "C(carrier)[T.B6] -3.830128e-01  1.061102e-02\n",
      "C(carrier)[T.CO]  2.015529e-01  3.876330e-03\n",
      "C(carrier)[T.CP]  2.199687e-01  4.408129e-03\n",
      "C(carrier)[T.CS]  1.242829e+00  4.415396e-02\n",
      "C(carrier)[T.DL]  1.622746e-01  2.704161e-03\n",
      "C(carrier)[T.EV]  1.730605e-01  2.811954e-03\n",
      "C(carrier)[T.F8]  3.562083e-02  5.685258e-02\n",
      "C(carrier)[T.F9] -1.894491e-01  8.079576e-03\n",
      "C(carrier)[T.FL] -7.058122e-01  6.697413e-03\n",
      "C(carrier)[T.G4] -1.701382e+00  1.494495e-02\n",
      "C(carrier)[T.G7]  1.501295e-01  6.856745e-03\n",
      "C(carrier)[T.HA]  1.300115e-01  1.686412e-02\n",
      "C(carrier)[T.L3] -3.057172e-01  2.815534e-02\n",
      "C(carrier)[T.MQ]  1.090186e-01  4.945551e-03\n",
      "C(carrier)[T.NK] -1.129510e+00  2.345300e-02\n",
      "C(carrier)[T.OH] -3.358998e-03  8.544179e-03\n",
      "C(carrier)[T.OO]  1.482661e-01  5.100522e-03\n",
      "C(carrier)[T.OW]  6.318251e-03  1.832784e-02\n",
      "C(carrier)[T.QX] -2.392276e-01  9.043046e-03\n",
      "C(carrier)[T.RP]  1.151623e-02  1.393405e-02\n",
      "C(carrier)[T.S5]  8.799185e-02  3.386213e-03\n",
      "C(carrier)[T.SY] -2.123376e+00  1.803647e-02\n",
      "C(carrier)[T.U5] -1.118303e+00  4.413309e-02\n",
      "C(carrier)[T.UA]  2.884055e-01  2.082029e-03\n",
      "C(carrier)[T.US]  2.044059e-02  4.159153e-03\n",
      "C(carrier)[T.VX] -1.672737e-01  9.863404e-03\n",
      "C(carrier)[T.WN] -4.382844e-01  4.727688e-03\n",
      "C(carrier)[T.XE]  1.528723e-01  5.405986e-03\n",
      "C(carrier)[T.XJ]  7.918962e-02  7.013837e-03\n",
      "C(carrier)[T.YV]  8.156408e-02  4.635247e-03\n",
      "C(carrier)[T.YX]  1.098603e-02  8.157565e-03\n",
      "C(carrier)[T.ZW] -2.285517e-03  2.878017e-03\n",
      "smallmkt_num      1.071268e+00  1.551758e-03\n",
      "n_carriers        2.181475e-02  2.429767e-04\n",
      "hhi               2.743907e-07  2.024798e-07\n",
      "stops             2.312232e-01  1.020960e-03\n",
      "rich_origin      -1.397607e-01  1.157961e-02\n",
      "rich_destination -9.861968e-02  3.056503e-03\n"
     ]
    }
   ],
   "source": [
    "# --- 1. Randomly sample 15% of the dataset ---\n",
    "sample_frac = 0.15\n",
    "# Ensure smallmkt is numeric (0/1) for regression\n",
    "data = data.copy()\n",
    "data['smallmkt_num'] = data['smallmkt'].astype(int)\n",
    "\n",
    "data_sample = data.sample(frac=sample_frac, random_state=42)\n",
    "print(f\"Sampled {len(data_sample):,} rows out of {len(data):,} total.\")\n",
    "\n",
    "# --- 2. Run OLS with robust standard errors (HC3) ---\n",
    "formula = 'log_avgprice ~ smallmkt_num + n_carriers + hhi + stops + rich_origin + rich_destination + C(carrier)'\n",
    "small_market_m41 = smf.ols(formula=formula, data=data_sample).fit(cov_type='HC3')\n",
    "\n",
    "print(\"\\n=== Market Type Model Summary (Robust SEs) ===\")\n",
    "print(small_market_m41.summary())\n",
    "\n",
    "# --- 3. Repeat with 3–5 random subsamples to check coefficient stability ---\n",
    "n_runs = 5\n",
    "coeffs = []\n",
    "\n",
    "for i in range(n_runs):\n",
    "    s = data.sample(frac=sample_frac, random_state=42 + i)\n",
    "    m = smf.ols(formula=formula, data=s).fit(cov_type='HC3')\n",
    "    coeffs.append(m.params)\n",
    "\n",
    "coeffs_df = pd.DataFrame(coeffs)\n",
    "print(\"\\n=== Coefficient Stability Across Subsamples ===\")\n",
    "print(coeffs_df.describe().T[['mean', 'std']])\n",
    "\n",
    "# Optional: visualize coefficient stability\n",
    "import matplotlib.pyplot as plt\n",
    "coeffs_df[['smallmkt_num', 'n_carriers', 'hhi', 'stops', 'rich_origin', 'rich_destination']].plot.box(figsize=(8,5))\n",
    "plt.title(\"Coefficient Stability Across Random Subsamples\")\n",
    "plt.ylabel(\"Coefficient value\")\n",
    "plt.grid(alpha=0.3)\n",
    "plt.show()\n",
    "\n",
    "# --- 4. Optional: 5-Fold Cross-Validation on one subsample ---\n",
    "print(\"\\n=== Cross-Validation (Optional) ===\")\n",
    "\n",
    "kf = KFold(n_splits=5, shuffle=True, random_state=42)\n",
    "cv_r2, cv_coefs = [], []\n",
    "\n",
    "data_cv = data_sample.copy()\n",
    "for fold, (train_idx, test_idx) in enumerate(kf.split(data_cv)):\n",
    "    train, test = data_cv.iloc[train_idx], data_cv.iloc[test_idx]\n",
    "    m_cv = smf.ols(formula=formula, data=train).fit()\n",
    "    y_pred = m_cv.predict(test)\n",
    "    r2 = 1 - np.sum((test['log_avgprice'] - y_pred)**2) / np.sum((test['log_avgprice'] - test['log_avgprice'].mean())**2)\n",
    "    cv_r2.append(r2)\n",
    "    cv_coefs.append(m_cv.params)\n",
    "\n",
    "print(f\"Mean out-of-sample R²: {np.mean(cv_r2):.4f} ± {np.std(cv_r2):.4f}\")\n",
    "\n",
    "cv_coefs_df = pd.DataFrame(cv_coefs)\n",
    "print(\"\\n=== Coefficient Stability Across CV Folds ===\")\n",
    "print(cv_coefs_df.describe().T[['mean', 'std']])"
   ]
  },
  {
   "cell_type": "markdown",
   "metadata": {},
   "source": [
    "Market Type Model\n",
    "\n",
    "In this model, I added market size (small vs. large markets) and carrier fixed effects to better explain price differences. Once these factors were included, the model’s explanatory power improved a lot — the R² increased from 0.075 to 0.218, meaning it can now explain more of the variation in ticket prices.\n",
    "\n",
    "The variable smallmkt_num turned out to be very strong and positive (~1.07), showing that small or low-traffic markets have much higher average fares even when we control for competition, number of stops, and the airline itself. This suggests that airlines charge more where there’s less demand and fewer flight options.\n",
    "\n",
    "Other effects remain consistent: more carriers and more stops are still linked to higher fares, while routes involving richer cities tend to be a bit cheaper. The stability check across subsamples shows that the coefficients barely change — meaning the results are solid and reliable."
   ]
  },
  {
   "cell_type": "markdown",
   "metadata": {},
   "source": [
    "##### 4.2 Luxury Market Model\n",
    "\n",
    "Purpose: Tests if premium routes like Aspen or Jackson have higher fares despite competition"
   ]
  },
  {
   "cell_type": "code",
   "execution_count": 35,
   "metadata": {},
   "outputs": [],
   "source": [
    "data['aspen_route'] = ((data['city_O'] == 'Aspen') | (data['city_D'] == 'Aspen')).astype(int)\n",
    "data['jackson_route'] = ((data['city_O'] == 'Jackson') | (data['city_D'] == 'Jackson')).astype(int)"
   ]
  },
  {
   "cell_type": "code",
   "execution_count": null,
   "metadata": {},
   "outputs": [
    {
     "name": "stdout",
     "output_type": "stream",
     "text": [
      "Sampled 343,346 rows out of 2,288,970 total.\n",
      "\n",
      "=== Base Model Summary (Robust SEs) ===\n",
      "                            OLS Regression Results                            \n",
      "==============================================================================\n",
      "Dep. Variable:           log_avgprice   R-squared:                       0.218\n",
      "Model:                            OLS   Adj. R-squared:                  0.218\n",
      "Method:                 Least Squares   F-statistic:                     1589.\n",
      "Date:                Wed, 08 Oct 2025   Prob (F-statistic):               0.00\n",
      "Time:                        16:42:51   Log-Likelihood:            -3.3962e+05\n",
      "No. Observations:              343346   AIC:                         6.793e+05\n",
      "Df Residuals:                  343301   BIC:                         6.798e+05\n",
      "Df Model:                          44                                         \n",
      "Covariance Type:                  HC3                                         \n",
      "====================================================================================\n",
      "                       coef    std err          z      P>|z|      [0.025      0.975]\n",
      "------------------------------------------------------------------------------------\n",
      "Intercept            4.3966      0.013    333.838      0.000       4.371       4.422\n",
      "C(carrier)[T.9E]     0.2005      0.006     36.065      0.000       0.190       0.211\n",
      "C(carrier)[T.9L]     0.0887      0.015      5.920      0.000       0.059       0.118\n",
      "C(carrier)[T.AA]     0.0976      0.006     17.597      0.000       0.087       0.108\n",
      "C(carrier)[T.AS]    -0.0769      0.013     -5.836      0.000      -0.103      -0.051\n",
      "C(carrier)[T.B6]    -0.3830      0.014    -27.531      0.000      -0.410      -0.356\n",
      "C(carrier)[T.CO]     0.2007      0.012     16.416      0.000       0.177       0.225\n",
      "C(carrier)[T.CP]     0.2199      0.012     18.556      0.000       0.197       0.243\n",
      "C(carrier)[T.CS]     1.2435      0.065     19.021      0.000       1.115       1.372\n",
      "C(carrier)[T.DL]     0.1619      0.005     31.545      0.000       0.152       0.172\n",
      "C(carrier)[T.EV]     0.1725      0.005     32.242      0.000       0.162       0.183\n",
      "C(carrier)[T.F8]     0.0334      0.094      0.357      0.721      -0.150       0.217\n",
      "C(carrier)[T.F9]    -0.1921      0.014    -14.209      0.000      -0.219      -0.166\n",
      "C(carrier)[T.FL]    -0.7059      0.014    -50.505      0.000      -0.733      -0.679\n",
      "C(carrier)[T.G4]    -1.7011      0.020    -85.328      0.000      -1.740      -1.662\n",
      "C(carrier)[T.G7]     0.1465      0.011     13.331      0.000       0.125       0.168\n",
      "C(carrier)[T.HA]     0.1299      0.031      4.136      0.000       0.068       0.191\n",
      "C(carrier)[T.L3]    -0.3329      0.070     -4.723      0.000      -0.471      -0.195\n",
      "C(carrier)[T.MQ]     0.1088      0.006     17.193      0.000       0.096       0.121\n",
      "C(carrier)[T.NK]    -1.1298      0.030    -38.113      0.000      -1.188      -1.072\n",
      "C(carrier)[T.OH]    -0.0034      0.012     -0.289      0.772      -0.027       0.020\n",
      "C(carrier)[T.OO]     0.1454      0.006     25.011      0.000       0.134       0.157\n",
      "C(carrier)[T.OW]     0.0062      0.023      0.266      0.791      -0.039       0.052\n",
      "C(carrier)[T.QX]    -0.2392      0.014    -17.651      0.000      -0.266      -0.213\n",
      "C(carrier)[T.RP]     0.0113      0.029      0.391      0.695      -0.045       0.068\n",
      "C(carrier)[T.S5]     0.0856      0.018      4.635      0.000       0.049       0.122\n",
      "C(carrier)[T.SY]    -2.1233      0.047    -44.805      0.000      -2.216      -2.030\n",
      "C(carrier)[T.U5]    -1.1182      0.087    -12.823      0.000      -1.289      -0.947\n",
      "C(carrier)[T.UA]     0.2865      0.007     43.819      0.000       0.274       0.299\n",
      "C(carrier)[T.US]     0.0203      0.006      3.256      0.001       0.008       0.032\n",
      "C(carrier)[T.VX]    -0.1672      0.069     -2.424      0.015      -0.302      -0.032\n",
      "C(carrier)[T.WN]    -0.4384      0.006    -68.958      0.000      -0.451      -0.426\n",
      "C(carrier)[T.XE]     0.1520      0.012     12.684      0.000       0.129       0.176\n",
      "C(carrier)[T.XJ]     0.0792      0.023      3.464      0.001       0.034       0.124\n",
      "C(carrier)[T.YV]     0.0814      0.011      7.379      0.000       0.060       0.103\n",
      "C(carrier)[T.YX]     0.0098      0.009      1.040      0.298      -0.009       0.028\n",
      "C(carrier)[T.ZW]    -0.0023      0.012     -0.194      0.846      -0.026       0.021\n",
      "smallmkt_num         1.0709      0.012     91.377      0.000       1.048       1.094\n",
      "aspen_route          0.1126      0.018      6.143      0.000       0.077       0.148\n",
      "jackson_route        0.0337      0.019      1.775      0.076      -0.004       0.071\n",
      "n_carriers           0.0218      0.001     39.769      0.000       0.021       0.023\n",
      "hhi               2.526e-07   2.03e-07      1.247      0.212   -1.44e-07     6.5e-07\n",
      "stops                0.2314      0.003     79.144      0.000       0.226       0.237\n",
      "rich_origin         -0.1391      0.013    -10.409      0.000      -0.165      -0.113\n",
      "rich_destination    -0.0982      0.013     -7.737      0.000      -0.123      -0.073\n",
      "==============================================================================\n",
      "Omnibus:                   205877.577   Durbin-Watson:                   1.995\n",
      "Prob(Omnibus):                  0.000   Jarque-Bera (JB):          3303471.424\n",
      "Skew:                          -2.600   Prob(JB):                         0.00\n",
      "Kurtosis:                      17.278   Cond. No.                     4.39e+06\n",
      "==============================================================================\n",
      "\n",
      "Notes:\n",
      "[1] Standard Errors are heteroscedasticity robust (HC3)\n",
      "[2] The condition number is large, 4.39e+06. This might indicate that there are\n",
      "strong multicollinearity or other numerical problems.\n",
      "\n",
      "=== Coefficient Stability Across Subsamples ===\n",
      "                          mean           std\n",
      "Intercept         4.398071e+00  9.173958e-03\n",
      "C(carrier)[T.9E]  2.015325e-01  4.570549e-03\n",
      "C(carrier)[T.9L]  1.025576e-01  9.112757e-03\n",
      "C(carrier)[T.AA]  1.006364e-01  5.918363e-03\n",
      "C(carrier)[T.AS] -7.683386e-02  3.617704e-03\n",
      "C(carrier)[T.B6] -3.890768e-01  1.210828e-02\n",
      "C(carrier)[T.CO]  1.905277e-01  1.308794e-02\n",
      "C(carrier)[T.CP]  2.202723e-01  8.380626e-03\n",
      "C(carrier)[T.CS]  1.212937e+00  5.706367e-02\n",
      "C(carrier)[T.DL]  1.600849e-01  3.466359e-03\n",
      "C(carrier)[T.EV]  1.729766e-01  9.603223e-04\n",
      "C(carrier)[T.F8] -3.212062e-02  4.607645e-02\n",
      "C(carrier)[T.F9] -2.071032e-01  9.745993e-03\n",
      "C(carrier)[T.FL] -7.085643e-01  5.846204e-03\n",
      "C(carrier)[T.G4] -1.718456e+00  1.306987e-02\n",
      "C(carrier)[T.G7]  1.582365e-01  9.664151e-03\n",
      "C(carrier)[T.HA]  2.060222e-01  4.981844e-02\n",
      "C(carrier)[T.L3] -3.177545e-01  3.402991e-02\n",
      "C(carrier)[T.MQ]  1.100903e-01  4.815415e-03\n",
      "C(carrier)[T.NK] -1.095764e+00  2.709784e-02\n",
      "C(carrier)[T.OH] -1.029883e-03  1.074358e-02\n",
      "C(carrier)[T.OO]  1.459566e-01  6.493211e-03\n",
      "C(carrier)[T.OW]  2.711082e-02  1.565110e-02\n",
      "C(carrier)[T.QX] -2.420357e-01  5.828408e-03\n",
      "C(carrier)[T.RP]  3.916819e-02  1.878147e-02\n",
      "C(carrier)[T.S5]  9.219093e-02  1.105303e-02\n",
      "C(carrier)[T.SY] -2.149451e+00  4.334731e-02\n",
      "C(carrier)[T.U5] -1.245927e+00  1.981602e-01\n",
      "C(carrier)[T.UA]  2.786445e-01  8.198755e-03\n",
      "C(carrier)[T.US]  2.011150e-02  2.566966e-03\n",
      "C(carrier)[T.VX] -1.685693e-01  2.956152e-02\n",
      "C(carrier)[T.WN] -4.452340e-01  6.034813e-03\n",
      "C(carrier)[T.XE]  1.434740e-01  8.878115e-03\n",
      "C(carrier)[T.XJ]  4.090673e-02  2.305902e-02\n",
      "C(carrier)[T.YV]  6.421846e-02  1.011794e-02\n",
      "C(carrier)[T.YX]  1.396880e-02  7.734915e-03\n",
      "C(carrier)[T.ZW]  7.759160e-04  5.215441e-03\n",
      "smallmkt_num      1.067941e+00  6.613605e-03\n",
      "aspen_route       1.098452e-01  1.122115e-02\n",
      "jackson_route     4.997818e-02  1.620177e-02\n",
      "n_carriers        2.162103e-02  4.222724e-04\n",
      "hhi               1.886159e-07  1.627224e-07\n",
      "stops             2.337230e-01  2.588533e-03\n",
      "rich_origin      -1.282555e-01  8.910900e-03\n",
      "rich_destination -8.866670e-02  9.200901e-03\n"
     ]
    },
    {
     "data": {
      "image/png": "[encoded data removed]",
      "text/plain": [
       "<Figure size 800x500 with 1 Axes>"
      ]
     },
     "metadata": {},
     "output_type": "display_data"
    },
    {
     "name": "stdout",
     "output_type": "stream",
     "text": [
      "\n",
      "=== Cross-Validation (Optional) ===\n",
      "Mean out-of-sample R²: 0.2175 ± 0.0039\n",
      "\n",
      "=== Coefficient Stability Across CV Folds ===\n",
      "                          mean           std\n",
      "Intercept         4.396603e+00  3.398745e-03\n",
      "C(carrier)[T.9E]  2.005309e-01  4.897735e-03\n",
      "C(carrier)[T.9L]  8.872748e-02  5.368269e-03\n",
      "C(carrier)[T.AA]  9.761631e-02  1.983206e-03\n",
      "C(carrier)[T.AS] -7.688554e-02  1.584215e-02\n",
      "C(carrier)[T.B6] -3.830602e-01  1.059395e-02\n",
      "C(carrier)[T.CO]  2.007325e-01  3.891780e-03\n",
      "C(carrier)[T.CP]  2.199055e-01  4.413116e-03\n",
      "C(carrier)[T.CS]  1.242795e+00  4.413516e-02\n",
      "C(carrier)[T.DL]  1.618949e-01  2.675740e-03\n",
      "C(carrier)[T.EV]  1.725364e-01  2.785542e-03\n",
      "C(carrier)[T.F8]  3.569002e-02  5.685736e-02\n",
      "C(carrier)[T.F9] -1.921112e-01  7.966208e-03\n",
      "C(carrier)[T.FL] -7.058953e-01  6.690595e-03\n",
      "C(carrier)[T.G4] -1.701254e+00  1.494477e-02\n",
      "C(carrier)[T.G7]  1.464761e-01  6.697308e-03\n",
      "C(carrier)[T.HA]  1.298683e-01  1.687357e-02\n",
      "C(carrier)[T.L3] -3.323182e-01  2.874754e-02\n",
      "C(carrier)[T.MQ]  1.087941e-01  4.945217e-03\n",
      "C(carrier)[T.NK] -1.129503e+00  2.344909e-02\n",
      "C(carrier)[T.OH] -3.414698e-03  8.554655e-03\n",
      "C(carrier)[T.OO]  1.453845e-01  5.215367e-03\n",
      "C(carrier)[T.OW]  6.101952e-03  1.836054e-02\n",
      "C(carrier)[T.QX] -2.392278e-01  9.055250e-03\n",
      "C(carrier)[T.RP]  1.136427e-02  1.398078e-02\n",
      "C(carrier)[T.S5]  8.556816e-02  3.514742e-03\n",
      "C(carrier)[T.SY] -2.123234e+00  1.802642e-02\n",
      "C(carrier)[T.U5] -1.118323e+00  4.413132e-02\n",
      "C(carrier)[T.UA]  2.865027e-01  2.167417e-03\n",
      "C(carrier)[T.US]  2.028657e-02  4.156326e-03\n",
      "C(carrier)[T.VX] -1.676045e-01  9.872100e-03\n",
      "C(carrier)[T.WN] -4.383926e-01  4.730638e-03\n",
      "C(carrier)[T.XE]  1.520906e-01  5.271534e-03\n",
      "C(carrier)[T.XJ]  7.919970e-02  6.991006e-03\n",
      "C(carrier)[T.YV]  8.138743e-02  4.649268e-03\n",
      "C(carrier)[T.YX]  9.830321e-03  8.185278e-03\n",
      "C(carrier)[T.ZW] -2.252687e-03  2.862671e-03\n",
      "smallmkt_num      1.070966e+00  1.553277e-03\n",
      "aspen_route       1.126494e-01  7.480140e-03\n",
      "jackson_route     3.373777e-02  1.023261e-02\n",
      "n_carriers        2.178232e-02  2.462207e-04\n",
      "hhi               2.529377e-07  2.022863e-07\n",
      "stops             2.313793e-01  1.025985e-03\n",
      "rich_origin      -1.391475e-01  1.158188e-02\n",
      "rich_destination -9.825782e-02  3.015867e-03\n"
     ]
    }
   ],
   "source": [
    "# --- 1. Randomly sample 15% of the dataset ---\n",
    "sample_frac = 0.15\n",
    "# Ensure smallmkt is numeric (0/1) for regression\n",
    "data = data.copy()\n",
    "data['smallmkt_num'] = data['smallmkt'].astype(int)\n",
    "\n",
    "data_sample = data.sample(frac=sample_frac, random_state=42)\n",
    "print(f\"Sampled {len(data_sample):,} rows out of {len(data):,} total.\")\n",
    "\n",
    "# --- 2. Run OLS with robust standard errors (HC3) ---\n",
    "formula = 'log_avgprice ~ smallmkt_num + aspen_route + jackson_route + n_carriers + hhi + stops + rich_origin + rich_destination + C(carrier)'\n",
    "premium_m42 = smf.ols(formula=formula, data=data_sample).fit(cov_type='HC3')\n",
    "\n",
    "print(\"\\n=== Premium Market Model Summary (Robust SEs) ===\")\n",
    "print(premium_m42.summary())\n",
    "\n",
    "# --- 3. Repeat with 3–5 random subsamples to check coefficient stability ---\n",
    "n_runs = 5\n",
    "coeffs = []\n",
    "\n",
    "for i in range(n_runs):\n",
    "    s = data.sample(frac=sample_frac, random_state=42 + i)\n",
    "    m = smf.ols(formula=formula, data=s).fit(cov_type='HC3')\n",
    "    coeffs.append(m.params)\n",
    "\n",
    "coeffs_df = pd.DataFrame(coeffs)\n",
    "print(\"\\n=== Coefficient Stability Across Subsamples ===\")\n",
    "print(coeffs_df.describe().T[['mean', 'std']])\n",
    "\n",
    "# Optional: visualize coefficient stability\n",
    "import matplotlib.pyplot as plt\n",
    "coeffs_df[['smallmkt_num', 'aspen_route', 'jackson_route', 'n_carriers', 'hhi', 'stops', 'rich_origin', 'rich_destination']].plot.box(figsize=(8,5))\n",
    "plt.title(\"Coefficient Stability Across Random Subsamples\")\n",
    "plt.ylabel(\"Coefficient value\")\n",
    "plt.grid(alpha=0.3)\n",
    "plt.show()\n",
    "\n",
    "# --- 4. Optional: 5-Fold Cross-Validation on one subsample ---\n",
    "print(\"\\n=== Cross-Validation (Optional) ===\")\n",
    "\n",
    "kf = KFold(n_splits=5, shuffle=True, random_state=42)\n",
    "cv_r2, cv_coefs = [], []\n",
    "\n",
    "data_cv = data_sample.copy()\n",
    "for fold, (train_idx, test_idx) in enumerate(kf.split(data_cv)):\n",
    "    train, test = data_cv.iloc[train_idx], data_cv.iloc[test_idx]\n",
    "    m_cv = smf.ols(formula=formula, data=train).fit()\n",
    "    y_pred = m_cv.predict(test)\n",
    "    r2 = 1 - np.sum((test['log_avgprice'] - y_pred)**2) / np.sum((test['log_avgprice'] - test['log_avgprice'].mean())**2)\n",
    "    cv_r2.append(r2)\n",
    "    cv_coefs.append(m_cv.params)\n",
    "\n",
    "print(f\"Mean out-of-sample R²: {np.mean(cv_r2):.4f} ± {np.std(cv_r2):.4f}\")\n",
    "\n",
    "cv_coefs_df = pd.DataFrame(cv_coefs)\n",
    "print(\"\\n=== Coefficient Stability Across CV Folds ===\")\n",
    "print(cv_coefs_df.describe().T[['mean', 'std']])"
   ]
  },
  {
   "cell_type": "markdown",
   "metadata": {},
   "source": [
    "Market Type Model with Aspen & Jackson Routes\n",
    "\n",
    "In this version, I added two special indicators — aspen_route and jackson_route — to check whether high-end leisure destinations show different pricing patterns. Both Aspen and Jackson Hole are known luxury resort markets, attracting travelers who are typically less price-sensitive. So, if airlines practice any form of third-degree price discrimination, we’d expect these routes to have higher fares even after controlling for market size, competition, and carrier.\n",
    "\n",
    "The results line up perfectly with that idea: both route coefficients are positive, with Aspen being clearly significant and Jackson close to it. This suggests that flying to luxury resort destinations comes with a built-in price premium, reflecting airlines’ ability to capture extra consumer willingness to pay.\n",
    "\n",
    "Interestingly, overall model fit (R² ≈ 0.218) doesn’t increase — meaning these routes don’t drive the general structure of fares but rather represent niche price discrimination pockets. Other effects like smallmkt_num, n_carriers, and stops stay stable, confirming that the main pricing dynamics remain competition-driven, while Aspen and Jackson stand out as unique high-income markets where pricing power is stronger."
   ]
  },
  {
   "cell_type": "markdown",
   "metadata": {},
   "source": [
    "##### 4.3 Luxury Competition Market Model\n",
    "\n",
    "Purpose: Tests whether Aspen and Jackson routes are less sensitive to competition, indicating possible price discrimination."
   ]
  },
  {
   "cell_type": "code",
   "execution_count": null,
   "metadata": {},
   "outputs": [
    {
     "name": "stdout",
     "output_type": "stream",
     "text": [
      "Sampled 343,346 rows out of 2,288,970 total.\n",
      "\n",
      "=== Base Model Summary (Robust SEs) ===\n",
      "                            OLS Regression Results                            \n",
      "==============================================================================\n",
      "Dep. Variable:           log_avgprice   R-squared:                       0.218\n",
      "Model:                            OLS   Adj. R-squared:                  0.218\n",
      "Method:                 Least Squares   F-statistic:                     1461.\n",
      "Date:                Wed, 08 Oct 2025   Prob (F-statistic):               0.00\n",
      "Time:                        16:44:43   Log-Likelihood:            -3.3960e+05\n",
      "No. Observations:              343346   AIC:                         6.793e+05\n",
      "Df Residuals:                  343297   BIC:                         6.798e+05\n",
      "Df Model:                          48                                         \n",
      "Covariance Type:                  HC3                                         \n",
      "============================================================================================\n",
      "                               coef    std err          z      P>|z|      [0.025      0.975]\n",
      "--------------------------------------------------------------------------------------------\n",
      "Intercept                    4.3949      0.013    333.592      0.000       4.369       4.421\n",
      "C(carrier)[T.9E]             0.2005      0.006     36.058      0.000       0.190       0.211\n",
      "C(carrier)[T.9L]             0.0886      0.015      5.917      0.000       0.059       0.118\n",
      "C(carrier)[T.AA]             0.0976      0.006     17.599      0.000       0.087       0.109\n",
      "C(carrier)[T.AS]            -0.0766      0.013     -5.817      0.000      -0.102      -0.051\n",
      "C(carrier)[T.B6]            -0.3827      0.014    -27.512      0.000      -0.410      -0.355\n",
      "C(carrier)[T.CO]             0.2007      0.012     16.413      0.000       0.177       0.225\n",
      "C(carrier)[T.CP]             0.2197      0.012     18.544      0.000       0.196       0.243\n",
      "C(carrier)[T.CS]             1.2432      0.065     19.015      0.000       1.115       1.371\n",
      "C(carrier)[T.DL]             0.1618      0.005     31.522      0.000       0.152       0.172\n",
      "C(carrier)[T.EV]             0.1727      0.005     32.260      0.000       0.162       0.183\n",
      "C(carrier)[T.F8]             0.0331      0.094      0.354      0.724      -0.150       0.216\n",
      "C(carrier)[T.F9]            -0.1930      0.014    -14.280      0.000      -0.219      -0.166\n",
      "C(carrier)[T.FL]            -0.7055      0.014    -50.467      0.000      -0.733      -0.678\n",
      "C(carrier)[T.G4]            -1.7010      0.020    -85.308      0.000      -1.740      -1.662\n",
      "C(carrier)[T.G7]             0.1471      0.011     13.429      0.000       0.126       0.169\n",
      "C(carrier)[T.HA]             0.1301      0.031      4.143      0.000       0.069       0.192\n",
      "C(carrier)[T.L3]            -0.3379      0.071     -4.784      0.000      -0.476      -0.199\n",
      "C(carrier)[T.MQ]             0.1087      0.006     17.175      0.000       0.096       0.121\n",
      "C(carrier)[T.NK]            -1.1295      0.030    -38.099      0.000      -1.188      -1.071\n",
      "C(carrier)[T.OH]            -0.0036      0.012     -0.306      0.760      -0.027       0.019\n",
      "C(carrier)[T.OO]             0.1451      0.006     24.957      0.000       0.134       0.157\n",
      "C(carrier)[T.OW]             0.0060      0.023      0.261      0.794      -0.039       0.051\n",
      "C(carrier)[T.QX]            -0.2391      0.014    -17.643      0.000      -0.266      -0.213\n",
      "C(carrier)[T.RP]             0.0110      0.029      0.382      0.702      -0.046       0.068\n",
      "C(carrier)[T.S5]             0.0860      0.018      4.666      0.000       0.050       0.122\n",
      "C(carrier)[T.SY]            -2.1231      0.047    -44.794      0.000      -2.216      -2.030\n",
      "C(carrier)[T.U5]            -1.1179      0.087    -12.820      0.000      -1.289      -0.947\n",
      "C(carrier)[T.UA]             0.2866      0.007     43.842      0.000       0.274       0.299\n",
      "C(carrier)[T.US]             0.0203      0.006      3.262      0.001       0.008       0.033\n",
      "C(carrier)[T.VX]            -0.1666      0.069     -2.416      0.016      -0.302      -0.031\n",
      "C(carrier)[T.WN]            -0.4377      0.006    -68.835      0.000      -0.450      -0.425\n",
      "C(carrier)[T.XE]             0.1523      0.012     12.717      0.000       0.129       0.176\n",
      "C(carrier)[T.XJ]             0.0788      0.023      3.449      0.001       0.034       0.124\n",
      "C(carrier)[T.YV]             0.0811      0.011      7.357      0.000       0.060       0.103\n",
      "C(carrier)[T.YX]             0.0096      0.009      1.020      0.308      -0.009       0.028\n",
      "C(carrier)[T.ZW]            -0.0029      0.012     -0.245      0.807      -0.026       0.020\n",
      "smallmkt_num                 1.0704      0.012     91.311      0.000       1.047       1.093\n",
      "aspen_route                  0.2503      0.078      3.218      0.001       0.098       0.403\n",
      "jackson_route                0.3269      0.066      4.916      0.000       0.197       0.457\n",
      "n_carriers                   0.0220      0.001     40.004      0.000       0.021       0.023\n",
      "hhi                       3.544e-07   2.03e-07      1.747      0.081   -4.33e-08    7.52e-07\n",
      "n_carriers:aspen_route      -0.0199      0.009     -2.202      0.028      -0.038      -0.002\n",
      "n_carriers:jackson_route    -0.0171      0.009     -1.964      0.050      -0.034   -3.67e-05\n",
      "hhi:aspen_route          -3.318e-06   3.49e-06     -0.951      0.342   -1.02e-05    3.52e-06\n",
      "hhi:jackson_route        -1.515e-05   3.42e-06     -4.427      0.000   -2.19e-05   -8.44e-06\n",
      "stops                        0.2314      0.003     79.154      0.000       0.226       0.237\n",
      "rich_origin                 -0.1390      0.013    -10.405      0.000      -0.165      -0.113\n",
      "rich_destination            -0.0984      0.013     -7.749      0.000      -0.123      -0.073\n",
      "==============================================================================\n",
      "Omnibus:                   205778.351   Durbin-Watson:                   1.995\n",
      "Prob(Omnibus):                  0.000   Jarque-Bera (JB):          3298475.332\n",
      "Skew:                          -2.599   Prob(JB):                         0.00\n",
      "Kurtosis:                      17.267   Cond. No.                     4.39e+06\n",
      "==============================================================================\n",
      "\n",
      "Notes:\n",
      "[1] Standard Errors are heteroscedasticity robust (HC3)\n",
      "[2] The condition number is large, 4.39e+06. This might indicate that there are\n",
      "strong multicollinearity or other numerical problems.\n",
      "\n",
      "=== Coefficient Stability Across Subsamples ===\n",
      "                                  mean           std\n",
      "Intercept                 4.396679e+00  9.182430e-03\n",
      "C(carrier)[T.9E]          2.014975e-01  4.561016e-03\n",
      "C(carrier)[T.9L]          1.025806e-01  9.140373e-03\n",
      "C(carrier)[T.AA]          1.006450e-01  5.944512e-03\n",
      "C(carrier)[T.AS]         -7.665285e-02  3.550671e-03\n",
      "C(carrier)[T.B6]         -3.888284e-01  1.215169e-02\n",
      "C(carrier)[T.CO]          1.905731e-01  1.307769e-02\n",
      "C(carrier)[T.CP]          2.201185e-01  8.392141e-03\n",
      "C(carrier)[T.CS]          1.212656e+00  5.712540e-02\n",
      "C(carrier)[T.DL]          1.600141e-01  3.444883e-03\n",
      "C(carrier)[T.EV]          1.730868e-01  9.336905e-04\n",
      "C(carrier)[T.F8]         -3.242320e-02  4.610943e-02\n",
      "C(carrier)[T.F9]         -2.075251e-01  9.626315e-03\n",
      "C(carrier)[T.FL]         -7.081932e-01  5.870360e-03\n",
      "C(carrier)[T.G4]         -1.718313e+00  1.304550e-02\n",
      "C(carrier)[T.G7]          1.586911e-01  9.551821e-03\n",
      "C(carrier)[T.HA]          2.062242e-01  4.984323e-02\n",
      "C(carrier)[T.L3]         -3.218826e-01  3.527948e-02\n",
      "C(carrier)[T.MQ]          1.100152e-01  4.864931e-03\n",
      "C(carrier)[T.NK]         -1.095525e+00  2.704384e-02\n",
      "C(carrier)[T.OH]         -1.212966e-03  1.071985e-02\n",
      "C(carrier)[T.OO]          1.457516e-01  6.470764e-03\n",
      "C(carrier)[T.OW]          2.701644e-02  1.566633e-02\n",
      "C(carrier)[T.QX]         -2.419568e-01  5.732827e-03\n",
      "C(carrier)[T.RP]          3.893233e-02  1.880278e-02\n",
      "C(carrier)[T.S5]          9.251449e-02  1.109251e-02\n",
      "C(carrier)[T.SY]         -2.149304e+00  4.341341e-02\n",
      "C(carrier)[T.U5]         -1.245682e+00  1.981985e-01\n",
      "C(carrier)[T.UA]          2.786676e-01  8.252681e-03\n",
      "C(carrier)[T.US]          2.015516e-02  2.583290e-03\n",
      "C(carrier)[T.VX]         -1.680399e-01  2.949497e-02\n",
      "C(carrier)[T.WN]         -4.447205e-01  6.102395e-03\n",
      "C(carrier)[T.XE]          1.436454e-01  8.925772e-03\n",
      "C(carrier)[T.XJ]          4.061707e-02  2.303286e-02\n",
      "C(carrier)[T.YV]          6.412344e-02  1.003601e-02\n",
      "C(carrier)[T.YX]          1.383037e-02  7.760025e-03\n",
      "C(carrier)[T.ZW]          3.457109e-04  5.222562e-03\n",
      "smallmkt_num              1.067553e+00  6.596598e-03\n",
      "aspen_route               1.979317e-01  3.734587e-02\n",
      "jackson_route             2.751725e-01  3.574801e-02\n",
      "n_carriers                2.176548e-02  4.299633e-04\n",
      "hhi                       2.680976e-07  1.579742e-07\n",
      "n_carriers:aspen_route   -1.448165e-02  3.604855e-03\n",
      "n_carriers:jackson_route -1.295056e-02  3.904049e-03\n",
      "hhi:aspen_route          -1.724243e-06  1.805664e-06\n",
      "hhi:jackson_route        -1.173729e-05  2.130798e-06\n",
      "stops                     2.337506e-01  2.593953e-03\n",
      "rich_origin              -1.282267e-01  8.903805e-03\n",
      "rich_destination         -8.881360e-02  9.115631e-03\n"
     ]
    },
    {
     "data": {
      "image/png": "[encoded data removed]",
      "text/plain": [
       "<Figure size 800x500 with 1 Axes>"
      ]
     },
     "metadata": {},
     "output_type": "display_data"
    },
    {
     "name": "stdout",
     "output_type": "stream",
     "text": [
      "\n",
      "=== Cross-Validation (Optional) ===\n",
      "Mean out-of-sample R²: 0.2175 ± 0.0039\n",
      "\n",
      "=== Coefficient Stability Across CV Folds ===\n",
      "                                  mean           std\n",
      "Intercept                 4.394848e+00  3.333365e-03\n",
      "C(carrier)[T.9E]          2.004941e-01  4.908692e-03\n",
      "C(carrier)[T.9L]          8.868280e-02  5.341195e-03\n",
      "C(carrier)[T.AA]          9.763431e-02  1.997061e-03\n",
      "C(carrier)[T.AS]         -7.664611e-02  1.588697e-02\n",
      "C(carrier)[T.B6]         -3.827528e-01  1.059992e-02\n",
      "C(carrier)[T.CO]          2.006798e-01  3.896465e-03\n",
      "C(carrier)[T.CP]          2.197151e-01  4.396796e-03\n",
      "C(carrier)[T.CS]          1.242426e+00  4.418764e-02\n",
      "C(carrier)[T.DL]          1.617727e-01  2.679028e-03\n",
      "C(carrier)[T.EV]          1.726647e-01  2.798206e-03\n",
      "C(carrier)[T.F8]          3.536631e-02  5.691836e-02\n",
      "C(carrier)[T.F9]         -1.930399e-01  7.813339e-03\n",
      "C(carrier)[T.FL]         -7.054384e-01  6.635783e-03\n",
      "C(carrier)[T.G4]         -1.701089e+00  1.497849e-02\n",
      "C(carrier)[T.G7]          1.470516e-01  6.570029e-03\n",
      "C(carrier)[T.HA]          1.300763e-01  1.691253e-02\n",
      "C(carrier)[T.L3]         -3.373823e-01  2.849336e-02\n",
      "C(carrier)[T.MQ]          1.086931e-01  4.965266e-03\n",
      "C(carrier)[T.NK]         -1.129213e+00  2.348415e-02\n",
      "C(carrier)[T.OH]         -3.608943e-03  8.557302e-03\n",
      "C(carrier)[T.OO]          1.451424e-01  5.299349e-03\n",
      "C(carrier)[T.OW]          6.000558e-03  1.837476e-02\n",
      "C(carrier)[T.QX]         -2.391280e-01  9.061819e-03\n",
      "C(carrier)[T.RP]          1.109502e-02  1.410109e-02\n",
      "C(carrier)[T.S5]          8.609183e-02  3.314424e-03\n",
      "C(carrier)[T.SY]         -2.123091e+00  1.807444e-02\n",
      "C(carrier)[T.U5]         -1.118049e+00  4.412915e-02\n",
      "C(carrier)[T.UA]          2.866056e-01  2.180742e-03\n",
      "C(carrier)[T.US]          2.032651e-02  4.159494e-03\n",
      "C(carrier)[T.VX]         -1.669995e-01  9.873710e-03\n",
      "C(carrier)[T.WN]         -4.377360e-01  4.752283e-03\n",
      "C(carrier)[T.XE]          1.523683e-01  5.332769e-03\n",
      "C(carrier)[T.XJ]          7.883314e-02  7.065623e-03\n",
      "C(carrier)[T.YV]          8.115360e-02  4.665463e-03\n",
      "C(carrier)[T.YX]          9.645086e-03  8.211330e-03\n",
      "C(carrier)[T.ZW]         -2.856314e-03  2.822303e-03\n",
      "smallmkt_num              1.070462e+00  1.575659e-03\n",
      "aspen_route               2.501075e-01  3.762756e-02\n",
      "jackson_route             3.263513e-01  4.456894e-02\n",
      "n_carriers                2.196845e-02  2.538691e-04\n",
      "hhi                       3.547692e-07  2.093471e-07\n",
      "n_carriers:aspen_route   -1.994189e-02  4.891369e-03\n",
      "n_carriers:jackson_route -1.704870e-02  4.832191e-03\n",
      "hhi:aspen_route          -3.293510e-06  1.373016e-06\n",
      "hhi:jackson_route        -1.513223e-05  2.584916e-06\n",
      "stops                     2.313970e-01  1.028408e-03\n",
      "rich_origin              -1.390671e-01  1.156921e-02\n",
      "rich_destination         -9.839112e-02  3.006919e-03\n"
     ]
    }
   ],
   "source": [
    "# --- 1. Randomly sample 15% of the dataset ---\n",
    "sample_frac = 0.15\n",
    "# Ensure smallmkt is numeric (0/1) for regression\n",
    "data = data.copy()\n",
    "data['smallmkt_num'] = data['smallmkt'].astype(int)\n",
    "\n",
    "data_sample = data.sample(frac=sample_frac, random_state=42)\n",
    "print(f\"Sampled {len(data_sample):,} rows out of {len(data):,} total.\")\n",
    "\n",
    "# --- 2. Run OLS with robust standard errors (HC3) ---\n",
    "formula = 'log_avgprice ~ smallmkt_num + aspen_route + jackson_route + (n_carriers + hhi) * (aspen_route + jackson_route) + stops + rich_origin + rich_destination + C(carrier)'\n",
    "premium_competiton_m43 = smf.ols(formula=formula, data=data_sample).fit(cov_type='HC3')\n",
    "\n",
    "print(\"\\n=== Premium Competition Model Summary (Robust SEs) ===\")\n",
    "print(premium_competiton_m43.summary())\n",
    "\n",
    "# --- 3. Repeat with 3–5 random subsamples to check coefficient stability ---\n",
    "n_runs = 5\n",
    "coeffs = []\n",
    "\n",
    "for i in range(n_runs):\n",
    "    s = data.sample(frac=sample_frac, random_state=42 + i)\n",
    "    m = smf.ols(formula=formula, data=s).fit(cov_type='HC3')\n",
    "    coeffs.append(m.params)\n",
    "\n",
    "coeffs_df = pd.DataFrame(coeffs)\n",
    "print(\"\\n=== Coefficient Stability Across Subsamples ===\")\n",
    "print(coeffs_df.describe().T[['mean', 'std']])\n",
    "\n",
    "# Optional: visualize coefficient stability\n",
    "import matplotlib.pyplot as plt\n",
    "coeffs_df[['smallmkt_num', 'aspen_route', 'jackson_route', 'n_carriers', 'hhi', 'stops', 'rich_origin', 'rich_destination', 'C(carrier)[T.AA]', 'C(carrier)[T.DL]', 'C(carrier)[T.UA]']].plot.box(figsize=(8,5))\n",
    "plt.title(\"Coefficient Stability Across Random Subsamples\")\n",
    "plt.ylabel(\"Coefficient value\")\n",
    "plt.grid(alpha=0.3)\n",
    "plt.show()\n",
    "\n",
    "# --- 4. Optional: 5-Fold Cross-Validation on one subsample ---\n",
    "print(\"\\n=== Cross-Validation (Optional) ===\")\n",
    "\n",
    "kf = KFold(n_splits=5, shuffle=True, random_state=42)\n",
    "cv_r2, cv_coefs = [], []\n",
    "\n",
    "data_cv = data_sample.copy()\n",
    "for fold, (train_idx, test_idx) in enumerate(kf.split(data_cv)):\n",
    "    train, test = data_cv.iloc[train_idx], data_cv.iloc[test_idx]\n",
    "    m_cv = smf.ols(formula=formula, data=train).fit()\n",
    "    y_pred = m_cv.predict(test)\n",
    "    r2 = 1 - np.sum((test['log_avgprice'] - y_pred)**2) / np.sum((test['log_avgprice'] - test['log_avgprice'].mean())**2)\n",
    "    cv_r2.append(r2)\n",
    "    cv_coefs.append(m_cv.params)\n",
    "\n",
    "print(f\"Mean out-of-sample R²: {np.mean(cv_r2):.4f} ± {np.std(cv_r2):.4f}\")\n",
    "\n",
    "cv_coefs_df = pd.DataFrame(cv_coefs)\n",
    "print(\"\\n=== Coefficient Stability Across CV Folds ===\")\n",
    "print(cv_coefs_df.describe().T[['mean', 'std']])"
   ]
  },
  {
   "cell_type": "markdown",
   "metadata": {},
   "source": [
    "How Competition Works in Luxury Markets (Aspen & Jackson)\n",
    "\n",
    "In this model, I wanted to see if competition affects ticket prices differently for luxury destinations like Aspen and Jackson Hole. These are exclusive resort towns where travelers usually have higher incomes, so airlines might not lower prices as much when more competitors enter the market.\n",
    "\n",
    "The results back this up. Both aspen_route and jackson_route still have positive and significant effects — meaning flights to these places are more expensive on average, even after controlling for everything else.\n",
    "\n",
    "The interaction terms tell the interesting part:\n",
    "* The negative interaction between competition (n_carriers) and the Aspen/Jackson routes means that when more airlines fly there, prices drop only slightly — much less than they do on regular routes.\n",
    "* The negative interaction between Jackson routes and market concentration (hhi) suggests that even if one or two airlines dominate that market, it doesn’t bring prices down much either.\n",
    "\n",
    "So overall, this model shows that Aspen and Jackson behave like protected high-end markets — competition matters less, and airlines keep fares high because passengers there are willing (and able) to pay more."
   ]
  },
  {
   "cell_type": "code",
   "execution_count": 40,
   "metadata": {},
   "outputs": [
    {
     "data": {
      "image/png": "[encoded data removed]",
      "text/plain": [
       "<Figure size 640x480 with 1 Axes>"
      ]
     },
     "metadata": {},
     "output_type": "display_data"
    }
   ],
   "source": [
    "sns.boxplot(\n",
    "    data=data, \n",
    "    x='aspen_route', \n",
    "    y='avgprice', \n",
    "    hue='smallmkt',\n",
    "    palette='coolwarm'\n",
    ")\n",
    "plt.title(\"Price Distribution: Aspen vs Non-Aspen Routes\")\n",
    "plt.xlabel(\"Aspen Route (1=yes)\")\n",
    "plt.ylabel(\"Average Price\")\n",
    "plt.show()"
   ]
  },
  {
   "cell_type": "markdown",
   "metadata": {},
   "source": [
    "The boxplot gives a clear visual of what the model captures: Aspen routes have noticeably higher average fares than other markets, especially among smaller markets, where airlines face less competition. Even after accounting for outliers, the median fare on Aspen routes sits well above comparable non-Aspen routes.\n",
    "\n",
    "This visual reinforces the idea that Aspen operates as a premium, price-insensitive market. It aligns with the regression results showing positive and significant coefficients for aspen_route, confirming that luxury destinations sustain higher fares despite competitive or market-size differences."
   ]
  },
  {
   "cell_type": "markdown",
   "metadata": {},
   "source": [
    "#### 5. Carrier Strategy Model: LCC vs. Legacy Dominance"
   ]
  },
  {
   "cell_type": "markdown",
   "metadata": {},
   "source": [
    "Purpose: Identify systematic pricing differences based on dominant carrier type."
   ]
  },
  {
   "cell_type": "code",
   "execution_count": 43,
   "metadata": {},
   "outputs": [
    {
     "name": "stdout",
     "output_type": "stream",
     "text": [
      "Sampled 343,346 rows out of 2,288,970 total.\n",
      "\n",
      "=== Carrier Strategy Model Summary (Robust SEs) ===\n",
      "                            OLS Regression Results                            \n",
      "==============================================================================\n",
      "Dep. Variable:           log_avgprice   R-squared:                       0.148\n",
      "Model:                            OLS   Adj. R-squared:                  0.148\n",
      "Method:                 Least Squares   F-statistic:                     5241.\n",
      "Date:                Wed, 08 Oct 2025   Prob (F-statistic):               0.00\n",
      "Time:                        16:47:47   Log-Likelihood:            -3.5428e+05\n",
      "No. Observations:              343346   AIC:                         7.086e+05\n",
      "Df Residuals:                  343338   BIC:                         7.087e+05\n",
      "Df Model:                           7                                         \n",
      "Covariance Type:                  HC3                                         \n",
      "===============================================================================================================\n",
      "                                                  coef    std err          z      P>|z|      [0.025      0.975]\n",
      "---------------------------------------------------------------------------------------------------------------\n",
      "Intercept                                       4.8476      0.006    782.191      0.000       4.835       4.860\n",
      "C(carrier_type_dominant)[T.Legacy-dominant]     0.6410      0.005    140.501      0.000       0.632       0.650\n",
      "C(carrier_type_dominant)[T.Mixed/Other]         0.7023      0.005    139.731      0.000       0.692       0.712\n",
      "n_carriers                                      0.0326      0.001     62.150      0.000       0.032       0.034\n",
      "hhi                                         -1.563e-06   2.26e-07     -6.928      0.000      -2e-06   -1.12e-06\n",
      "stops                                           0.2654      0.003     85.252      0.000       0.259       0.272\n",
      "rich_origin                                    -0.1576      0.014    -11.369      0.000      -0.185      -0.130\n",
      "rich_destination                               -0.1146      0.013     -8.664      0.000      -0.140      -0.089\n",
      "==============================================================================\n",
      "Omnibus:                   195115.296   Durbin-Watson:                   1.995\n",
      "Prob(Omnibus):                  0.000   Jarque-Bera (JB):          2602837.721\n",
      "Skew:                          -2.481   Prob(JB):                         0.00\n",
      "Kurtosis:                      15.542   Cond. No.                     1.68e+05\n",
      "==============================================================================\n",
      "\n",
      "Notes:\n",
      "[1] Standard Errors are heteroscedasticity robust (HC3)\n",
      "[2] The condition number is large, 1.68e+05. This might indicate that there are\n",
      "strong multicollinearity or other numerical problems.\n",
      "\n",
      "=== Coefficient Stability Across Subsamples ===\n",
      "                                                 mean           std\n",
      "Intercept                                    4.844517  3.748579e-03\n",
      "C(carrier_type_dominant)[T.Legacy-dominant]  0.646276  3.470604e-03\n",
      "C(carrier_type_dominant)[T.Mixed/Other]      0.710775  5.378060e-03\n",
      "n_carriers                                   0.032372  3.860446e-04\n",
      "hhi                                         -0.000002  1.980237e-07\n",
      "stops                                        0.265702  1.828131e-03\n",
      "rich_origin                                 -0.137769  1.165464e-02\n",
      "rich_destination                            -0.109631  6.188746e-03\n"
     ]
    },
    {
     "data": {
      "image/png": "[encoded data removed]",
      "text/plain": [
       "<Figure size 800x500 with 1 Axes>"
      ]
     },
     "metadata": {},
     "output_type": "display_data"
    },
    {
     "name": "stdout",
     "output_type": "stream",
     "text": [
      "\n",
      "=== Cross-Validation (Optional) ===\n",
      "Mean out-of-sample R²: 0.1479 ± 0.0016\n",
      "\n",
      "=== Coefficient Stability Across CV Folds ===\n",
      "                                                 mean           std\n",
      "Intercept                                    4.847599  2.016750e-03\n",
      "C(carrier_type_dominant)[T.Legacy-dominant]  0.640955  2.117847e-03\n",
      "C(carrier_type_dominant)[T.Mixed/Other]      0.702310  2.381915e-03\n",
      "n_carriers                                   0.032618  2.711025e-04\n",
      "hhi                                         -0.000002  2.025140e-07\n",
      "stops                                        0.265416  9.906562e-04\n",
      "rich_origin                                 -0.157637  1.064387e-02\n",
      "rich_destination                            -0.114583  5.194541e-03\n"
     ]
    }
   ],
   "source": [
    "# --- 1. Randomly sample 15% of the dataset ---\n",
    "sample_frac = 0.15\n",
    "data_sample = data.sample(frac=sample_frac, random_state=42)\n",
    "print(f\"Sampled {len(data_sample):,} rows out of {len(data):,} total.\")\n",
    "\n",
    "# --- 2. Run OLS with robust standard errors (HC3) ---\n",
    "formula = 'log_avgprice ~ C(carrier_type_dominant) + n_carriers + hhi + stops + rich_origin + rich_destination'\n",
    "car_stratagey_m = smf.ols(formula=formula, data=data_sample).fit(cov_type='HC3')\n",
    "\n",
    "print(\"\\n=== Carrier Strategy Model Summary (Robust SEs) ===\")\n",
    "print(car_stratagey_m.summary())\n",
    "\n",
    "# --- 3. Repeat with 3–5 random subsamples to check coefficient stability ---\n",
    "n_runs = 5\n",
    "coeffs = []\n",
    "\n",
    "for i in range(n_runs):\n",
    "    s = data.sample(frac=sample_frac, random_state=42 + i)\n",
    "    m = smf.ols(formula=formula, data=s).fit(cov_type='HC3')\n",
    "    coeffs.append(m.params)\n",
    "\n",
    "coeffs_df = pd.DataFrame(coeffs)\n",
    "print(\"\\n=== Coefficient Stability Across Subsamples ===\")\n",
    "print(coeffs_df.describe().T[['mean', 'std']])\n",
    "\n",
    "# Optional: visualize coefficient stability\n",
    "import matplotlib.pyplot as plt\n",
    "coeffs_df[['n_carriers', 'hhi', 'stops', 'rich_origin', 'rich_destination']].plot.box(figsize=(8,5))\n",
    "plt.title(\"Coefficient Stability Across Random Subsamples\")\n",
    "plt.ylabel(\"Coefficient value\")\n",
    "plt.grid(alpha=0.3)\n",
    "plt.show()\n",
    "\n",
    "# --- 4. Optional: 5-Fold Cross-Validation on one subsample ---\n",
    "print(\"\\n=== Cross-Validation (Optional) ===\")\n",
    "\n",
    "kf = KFold(n_splits=5, shuffle=True, random_state=42)\n",
    "cv_r2, cv_coefs = [], []\n",
    "\n",
    "data_cv = data_sample.copy()\n",
    "for fold, (train_idx, test_idx) in enumerate(kf.split(data_cv)):\n",
    "    train, test = data_cv.iloc[train_idx], data_cv.iloc[test_idx]\n",
    "    m_cv = smf.ols(formula=formula, data=train).fit()\n",
    "    y_pred = m_cv.predict(test)\n",
    "    r2 = 1 - np.sum((test['log_avgprice'] - y_pred)**2) / np.sum((test['log_avgprice'] - test['log_avgprice'].mean())**2)\n",
    "    cv_r2.append(r2)\n",
    "    cv_coefs.append(m_cv.params)\n",
    "\n",
    "print(f\"Mean out-of-sample R²: {np.mean(cv_r2):.4f} ± {np.std(cv_r2):.4f}\")\n",
    "\n",
    "cv_coefs_df = pd.DataFrame(cv_coefs)\n",
    "print(\"\\n=== Coefficient Stability Across CV Folds ===\")\n",
    "print(cv_coefs_df.describe().T[['mean', 'std']])"
   ]
  },
  {
   "cell_type": "markdown",
   "metadata": {},
   "source": [
    "In this model, I wanted to understand how the dominant type of airline on a route — low-cost, legacy, or mixed — affects ticket prices.\n",
    "\n",
    "The results are pretty striking:\n",
    "\t•\tLegacy-dominant routes (where big traditional airlines like American, Delta, or United control most flights) have ticket prices that are about 64% higher than routes dominated by low-cost carriers.\n",
    "\t•\tMixed routes, where both legacy and low-cost airlines operate, are even more expensive (about 70% higher). This likely happens because legacy airlines still set the tone on pricing, while low-cost carriers match rather than undercut on those routes.\n",
    "\n",
    "We also see that:\n",
    "\t•\tMore carriers (n_carriers) slightly raise prices, probably because these are busy, high-demand markets rather than truly competitive ones.\n",
    "\t•\tA higher HHI (market concentration) slightly lowers prices, meaning that when markets get too saturated or have dominant players, airlines may lower prices to keep demand stable.\n",
    "\t•\tRoutes from richer origins or destinations still show lower coefficients, suggesting that while these passengers can afford more, airlines rely less on discounting in those areas — the fares are already high enough.\n",
    "\n",
    "In short, this model shows that who dominates the market matters more than how many players exist. When legacy carriers lead, fares stay high — and even the presence of low-cost airlines doesn’t always bring them down."
   ]
  },
  {
   "cell_type": "markdown",
   "metadata": {},
   "source": [
    "### VII. Full Structural Model (Final Specification)"
   ]
  },
  {
   "cell_type": "markdown",
   "metadata": {},
   "source": [
    "Purpose: Combine all competitive, structural, and interaction effects into a single unified model.\n"
   ]
  },
  {
   "cell_type": "code",
   "execution_count": 46,
   "metadata": {},
   "outputs": [
    {
     "name": "stdout",
     "output_type": "stream",
     "text": [
      "Sampled 343,346 rows out of 2,288,970 total.\n",
      "\n",
      "=== Full Structiral Model Summary (Robust SEs) ===\n",
      "                            OLS Regression Results                            \n",
      "==============================================================================\n",
      "Dep. Variable:           log_avgprice   R-squared:                       0.222\n",
      "Model:                            OLS   Adj. R-squared:                  0.222\n",
      "Method:                 Least Squares   F-statistic:                     1510.\n",
      "Date:                Wed, 08 Oct 2025   Prob (F-statistic):               0.00\n",
      "Time:                        17:05:28   Log-Likelihood:            -3.3858e+05\n",
      "No. Observations:              343346   AIC:                         6.773e+05\n",
      "Df Residuals:                  343297   BIC:                         6.778e+05\n",
      "Df Model:                          48                                         \n",
      "Covariance Type:                  HC3                                         \n",
      "===============================================================================================================\n",
      "                                                  coef    std err          z      P>|z|      [0.025      0.975]\n",
      "---------------------------------------------------------------------------------------------------------------\n",
      "Intercept                                       4.1673      0.014    303.977      0.000       4.140       4.194\n",
      "C(carrier_type_dominant)[T.Legacy-dominant]     0.2341      0.005     44.435      0.000       0.224       0.244\n",
      "C(carrier_type_dominant)[T.Mixed/Other]         0.3259      0.005     59.569      0.000       0.315       0.337\n",
      "C(carrier)[T.9E]                                0.2000      0.006     35.895      0.000       0.189       0.211\n",
      "C(carrier)[T.9L]                                0.0778      0.015      5.201      0.000       0.049       0.107\n",
      "C(carrier)[T.AA]                                0.1480      0.006     25.992      0.000       0.137       0.159\n",
      "C(carrier)[T.AS]                               -0.0204      0.013     -1.554      0.120      -0.046       0.005\n",
      "C(carrier)[T.B6]                               -0.1238      0.014     -8.647      0.000      -0.152      -0.096\n",
      "C(carrier)[T.CO]                                0.2342      0.012     19.554      0.000       0.211       0.258\n",
      "C(carrier)[T.CP]                                0.2278      0.012     19.310      0.000       0.205       0.251\n",
      "C(carrier)[T.CS]                                1.2221      0.065     18.723      0.000       1.094       1.350\n",
      "C(carrier)[T.DL]                                0.2125      0.005     40.262      0.000       0.202       0.223\n",
      "C(carrier)[T.EV]                                0.1655      0.005     30.878      0.000       0.155       0.176\n",
      "C(carrier)[T.F8]                                0.0368      0.093      0.394      0.693      -0.146       0.220\n",
      "C(carrier)[T.F9]                                0.0527      0.014      3.745      0.000       0.025       0.080\n",
      "C(carrier)[T.FL]                               -0.6502      0.014    -46.909      0.000      -0.677      -0.623\n",
      "C(carrier)[T.G4]                               -1.4150      0.020    -69.260      0.000      -1.455      -1.375\n",
      "C(carrier)[T.G7]                                0.1600      0.011     14.549      0.000       0.138       0.182\n",
      "C(carrier)[T.HA]                                0.1389      0.031      4.427      0.000       0.077       0.200\n",
      "C(carrier)[T.L3]                               -0.3251      0.069     -4.701      0.000      -0.461      -0.190\n",
      "C(carrier)[T.MQ]                                0.0930      0.006     14.653      0.000       0.081       0.105\n",
      "C(carrier)[T.NK]                               -0.8581      0.030    -29.058      0.000      -0.916      -0.800\n",
      "C(carrier)[T.OH]                               -0.0029      0.012     -0.247      0.805      -0.026       0.020\n",
      "C(carrier)[T.OO]                                0.1373      0.006     23.715      0.000       0.126       0.149\n",
      "C(carrier)[T.OW]                               -0.0144      0.023     -0.623      0.533      -0.060       0.031\n",
      "C(carrier)[T.QX]                               -0.2525      0.013    -18.713      0.000      -0.279      -0.226\n",
      "C(carrier)[T.RP]                               -0.0009      0.029     -0.031      0.975      -0.057       0.056\n",
      "C(carrier)[T.S5]                                0.0994      0.018      5.401      0.000       0.063       0.136\n",
      "C(carrier)[T.SY]                               -1.8411      0.047    -39.204      0.000      -1.933      -1.749\n",
      "C(carrier)[T.U5]                               -1.0781      0.084    -12.818      0.000      -1.243      -0.913\n",
      "C(carrier)[T.UA]                                0.3413      0.007     50.810      0.000       0.328       0.354\n",
      "C(carrier)[T.US]                                0.0726      0.006     11.298      0.000       0.060       0.085\n",
      "C(carrier)[T.VX]                               -0.1314      0.068     -1.929      0.054      -0.265       0.002\n",
      "C(carrier)[T.WN]                               -0.1871      0.007    -25.912      0.000      -0.201      -0.173\n",
      "C(carrier)[T.XE]                                0.1473      0.012     12.321      0.000       0.124       0.171\n",
      "C(carrier)[T.XJ]                                0.0569      0.023      2.493      0.013       0.012       0.102\n",
      "C(carrier)[T.YV]                                0.0732      0.011      6.641      0.000       0.052       0.095\n",
      "C(carrier)[T.YX]                                0.0130      0.009      1.386      0.166      -0.005       0.031\n",
      "C(carrier)[T.ZW]                               -0.0147      0.012     -1.241      0.215      -0.038       0.009\n",
      "n_carriers                                      0.0215      0.001     39.186      0.000       0.020       0.023\n",
      "rich_origin                                    -0.2198      0.041     -5.392      0.000      -0.300      -0.140\n",
      "n_carriers:rich_origin                          0.0233      0.006      3.829      0.000       0.011       0.035\n",
      "rich_destination                               -0.1747      0.042     -4.184      0.000      -0.257      -0.093\n",
      "n_carriers:rich_destination                    -0.0054      0.006     -0.897      0.370      -0.017       0.006\n",
      "hhi                                         -1.976e-06   2.18e-07     -9.064      0.000    -2.4e-06   -1.55e-06\n",
      "hhi:rich_origin                             -2.125e-07   2.19e-06     -0.097      0.923    -4.5e-06    4.07e-06\n",
      "hhi:rich_destination                         7.635e-06   2.09e-06      3.659      0.000    3.55e-06    1.17e-05\n",
      "smallmkt_num                                    1.0518      0.012     90.350      0.000       1.029       1.075\n",
      "stops                                           0.2247      0.003     76.826      0.000       0.219       0.230\n",
      "==============================================================================\n",
      "Omnibus:                   207223.389   Durbin-Watson:                   1.996\n",
      "Prob(Omnibus):                  0.000   Jarque-Bera (JB):          3385829.054\n",
      "Skew:                          -2.618   Prob(JB):                         0.00\n",
      "Kurtosis:                      17.466   Cond. No.                     4.39e+06\n",
      "==============================================================================\n",
      "\n",
      "Notes:\n",
      "[1] Standard Errors are heteroscedasticity robust (HC3)\n",
      "[2] The condition number is large, 4.39e+06. This might indicate that there are\n",
      "strong multicollinearity or other numerical problems.\n",
      "\n",
      "=== Coefficient Stability Across Subsamples ===\n",
      "                                                     mean           std\n",
      "Intercept                                    4.169505e+00  1.164161e-02\n",
      "C(carrier_type_dominant)[T.Legacy-dominant]  2.328149e-01  2.244907e-03\n",
      "C(carrier_type_dominant)[T.Mixed/Other]      3.294552e-01  3.698770e-03\n",
      "C(carrier)[T.9E]                             2.000770e-01  5.427381e-03\n",
      "C(carrier)[T.9L]                             8.983876e-02  9.185027e-03\n",
      "C(carrier)[T.AA]                             1.535345e-01  6.952346e-03\n",
      "C(carrier)[T.AS]                            -1.744234e-02  5.032904e-03\n",
      "C(carrier)[T.B6]                            -1.301800e-01  1.028925e-02\n",
      "C(carrier)[T.CO]                             2.223209e-01  1.388006e-02\n",
      "C(carrier)[T.CP]                             2.282900e-01  8.373304e-03\n",
      "C(carrier)[T.CS]                             1.190916e+00  5.824298e-02\n",
      "C(carrier)[T.DL]                             2.132155e-01  3.461134e-03\n",
      "C(carrier)[T.EV]                             1.643662e-01  1.334311e-03\n",
      "C(carrier)[T.F8]                            -3.666638e-02  5.211528e-02\n",
      "C(carrier)[T.F9]                             4.277189e-02  8.135017e-03\n",
      "C(carrier)[T.FL]                            -6.517201e-01  5.595517e-03\n",
      "C(carrier)[T.G4]                            -1.430977e+00  1.286183e-02\n",
      "C(carrier)[T.G7]                             1.703875e-01  9.320668e-03\n",
      "C(carrier)[T.HA]                             2.151200e-01  4.942481e-02\n",
      "C(carrier)[T.L3]                            -3.140045e-01  3.142329e-02\n",
      "C(carrier)[T.MQ]                             9.309133e-02  4.995134e-03\n",
      "C(carrier)[T.NK]                            -8.233879e-01  2.797982e-02\n",
      "C(carrier)[T.OH]                            -1.391341e-03  1.135366e-02\n",
      "C(carrier)[T.OO]                             1.369919e-01  7.003581e-03\n",
      "C(carrier)[T.OW]                             5.624268e-03  1.503957e-02\n",
      "C(carrier)[T.QX]                            -2.559623e-01  5.858713e-03\n",
      "C(carrier)[T.RP]                             2.685817e-02  1.957926e-02\n",
      "C(carrier)[T.S5]                             1.057438e-01  1.065310e-02\n",
      "C(carrier)[T.SY]                            -1.865664e+00  4.142741e-02\n",
      "C(carrier)[T.U5]                            -1.127369e+00  1.112550e-01\n",
      "C(carrier)[T.UA]                             3.363761e-01  8.612285e-03\n",
      "C(carrier)[T.US]                             7.501239e-02  3.911784e-03\n",
      "C(carrier)[T.VX]                            -1.291770e-01  2.666084e-02\n",
      "C(carrier)[T.WN]                            -1.928979e-01  6.321847e-03\n",
      "C(carrier)[T.XE]                             1.379768e-01  9.883604e-03\n",
      "C(carrier)[T.XJ]                             1.748862e-02  2.403557e-02\n",
      "C(carrier)[T.YV]                             5.456128e-02  1.095575e-02\n",
      "C(carrier)[T.YX]                             1.607450e-02  8.168792e-03\n",
      "C(carrier)[T.ZW]                            -1.300570e-02  5.330951e-03\n",
      "n_carriers                                   2.145621e-02  3.875410e-04\n",
      "rich_origin                                 -2.168582e-01  4.602402e-02\n",
      "n_carriers:rich_origin                       2.194836e-02  6.165449e-03\n",
      "rich_destination                            -1.142514e-01  3.877242e-02\n",
      "n_carriers:rich_destination                 -1.055196e-02  4.095041e-03\n",
      "hhi                                         -2.121620e-06  1.786250e-07\n",
      "hhi:rich_origin                              7.322787e-07  2.279501e-06\n",
      "hhi:rich_destination                         5.419251e-06  1.456253e-06\n",
      "smallmkt_num                                 1.048182e+00  7.172288e-03\n",
      "stops                                        2.265142e-01  2.406849e-03\n"
     ]
    },
    {
     "data": {
      "image/png": "[encoded data removed]",
      "text/plain": [
       "<Figure size 800x500 with 1 Axes>"
      ]
     },
     "metadata": {},
     "output_type": "display_data"
    },
    {
     "name": "stdout",
     "output_type": "stream",
     "text": [
      "\n",
      "=== Cross-Validation (Optional) ===\n",
      "Mean out-of-sample R²: 0.2221 ± 0.0038\n",
      "\n",
      "=== Coefficient Stability Across CV Folds ===\n",
      "                                                     mean           std\n",
      "Intercept                                    4.167265e+00  2.251298e-03\n",
      "C(carrier_type_dominant)[T.Legacy-dominant]  2.340481e-01  2.946658e-03\n",
      "C(carrier_type_dominant)[T.Mixed/Other]      3.258446e-01  3.880206e-03\n",
      "C(carrier)[T.9E]                             1.999769e-01  4.968206e-03\n",
      "C(carrier)[T.9L]                             7.787345e-02  5.632116e-03\n",
      "C(carrier)[T.AA]                             1.479664e-01  1.704287e-03\n",
      "C(carrier)[T.AS]                            -2.047069e-02  1.549971e-02\n",
      "C(carrier)[T.B6]                            -1.238382e-01  1.073986e-02\n",
      "C(carrier)[T.CO]                             2.342058e-01  4.435665e-03\n",
      "C(carrier)[T.CP]                             2.278586e-01  3.541706e-03\n",
      "C(carrier)[T.CS]                             1.221377e+00  4.316862e-02\n",
      "C(carrier)[T.DL]                             2.125455e-01  2.343282e-03\n",
      "C(carrier)[T.EV]                             1.655255e-01  3.031155e-03\n",
      "C(carrier)[T.F8]                             3.908736e-02  5.694778e-02\n",
      "C(carrier)[T.F9]                             5.258124e-02  7.908893e-03\n",
      "C(carrier)[T.FL]                            -6.501811e-01  7.454432e-03\n",
      "C(carrier)[T.G4]                            -1.415089e+00  1.739069e-02\n",
      "C(carrier)[T.G7]                             1.600026e-01  6.865664e-03\n",
      "C(carrier)[T.HA]                             1.389229e-01  1.672878e-02\n",
      "C(carrier)[T.L3]                            -3.244817e-01  2.827013e-02\n",
      "C(carrier)[T.MQ]                             9.305023e-02  5.213319e-03\n",
      "C(carrier)[T.NK]                            -8.578951e-01  2.013521e-02\n",
      "C(carrier)[T.OH]                            -2.895439e-03  8.811005e-03\n",
      "C(carrier)[T.OO]                             1.372888e-01  4.984889e-03\n",
      "C(carrier)[T.OW]                            -1.444941e-02  1.788819e-02\n",
      "C(carrier)[T.QX]                            -2.524801e-01  9.248820e-03\n",
      "C(carrier)[T.RP]                            -8.212806e-04  1.341703e-02\n",
      "C(carrier)[T.S5]                             9.945531e-02  4.589930e-03\n",
      "C(carrier)[T.SY]                            -1.841080e+00  2.056743e-02\n",
      "C(carrier)[T.U5]                            -1.078215e+00  4.244821e-02\n",
      "C(carrier)[T.UA]                             3.413297e-01  1.683559e-03\n",
      "C(carrier)[T.US]                             7.255399e-02  3.958773e-03\n",
      "C(carrier)[T.VX]                            -1.318795e-01  1.043359e-02\n",
      "C(carrier)[T.WN]                            -1.871478e-01  2.608068e-03\n",
      "C(carrier)[T.XE]                             1.473627e-01  5.509797e-03\n",
      "C(carrier)[T.XJ]                             5.697502e-02  6.882667e-03\n",
      "C(carrier)[T.YV]                             7.318339e-02  4.766217e-03\n",
      "C(carrier)[T.YX]                             1.301248e-02  8.377636e-03\n",
      "C(carrier)[T.ZW]                            -1.465349e-02  3.093352e-03\n",
      "n_carriers                                   2.153361e-02  2.443090e-04\n",
      "rich_origin                                 -2.202026e-01  9.031839e-03\n",
      "n_carriers:rich_origin                       2.332908e-02  2.826778e-03\n",
      "rich_destination                            -1.745304e-01  1.128357e-02\n",
      "n_carriers:rich_destination                 -5.429137e-03  2.380064e-03\n",
      "hhi                                         -1.976222e-06  2.133056e-07\n",
      "hhi:rich_origin                             -1.890800e-07  8.185224e-07\n",
      "hhi:rich_destination                         7.623277e-06  7.090346e-07\n",
      "smallmkt_num                                 1.051880e+00  1.971883e-03\n",
      "stops                                        2.247029e-01  1.030992e-03\n"
     ]
    }
   ],
   "source": [
    "# --- 1. Randomly sample 15% of the dataset ---\n",
    "sample_frac = 0.15\n",
    "data_sample = data.sample(frac=sample_frac, random_state=42)\n",
    "print(f\"Sampled {len(data_sample):,} rows out of {len(data):,} total.\")\n",
    "\n",
    "# --- 2. Run OLS with robust standard errors (HC3) ---\n",
    "formula =   'log_avgprice ~ n_carriers * rich_origin + n_carriers * rich_destination + hhi * rich_origin + hhi * rich_destination + smallmkt_num + C(carrier_type_dominant) + stops + C(carrier)'\n",
    "final_m = smf.ols(formula=formula, data=data_sample).fit(cov_type='HC3')\n",
    "\n",
    "print(\"\\n=== Full Structiral Model Summary (Robust SEs) ===\")\n",
    "print(final_m.summary())\n",
    "\n",
    "# --- 3. Repeat with 3–5 random subsamples to check coefficient stability ---\n",
    "n_runs = 5\n",
    "coeffs = []\n",
    "\n",
    "for i in range(n_runs):\n",
    "    s = data.sample(frac=sample_frac, random_state=42 + i)\n",
    "    m = smf.ols(formula=formula, data=s).fit(cov_type='HC3')\n",
    "    coeffs.append(m.params)\n",
    "\n",
    "coeffs_df = pd.DataFrame(coeffs)\n",
    "print(\"\\n=== Coefficient Stability Across Subsamples ===\")\n",
    "print(coeffs_df.describe().T[['mean', 'std']])\n",
    "\n",
    "# Optional: visualize coefficient stability\n",
    "import matplotlib.pyplot as plt\n",
    "coeffs_df[['n_carriers', 'rich_origin', 'rich_destination', 'hhi', 'smallmkt_num', 'stops']].plot.box(figsize=(8,5))\n",
    "plt.title(\"Coefficient Stability Across Random Subsamples\")\n",
    "plt.ylabel(\"Coefficient value\")\n",
    "plt.grid(alpha=0.3)\n",
    "plt.show()\n",
    "\n",
    "# --- 4. Optional: 5-Fold Cross-Validation on one subsample ---\n",
    "print(\"\\n=== Cross-Validation (Optional) ===\")\n",
    "\n",
    "kf = KFold(n_splits=5, shuffle=True, random_state=42)\n",
    "cv_r2, cv_coefs = [], []\n",
    "\n",
    "data_cv = data_sample.copy()\n",
    "for fold, (train_idx, test_idx) in enumerate(kf.split(data_cv)):\n",
    "    train, test = data_cv.iloc[train_idx], data_cv.iloc[test_idx]\n",
    "    m_cv = smf.ols(formula=formula, data=train).fit()\n",
    "    y_pred = m_cv.predict(test)\n",
    "    r2 = 1 - np.sum((test['log_avgprice'] - y_pred)**2) / np.sum((test['log_avgprice'] - test['log_avgprice'].mean())**2)\n",
    "    cv_r2.append(r2)\n",
    "    cv_coefs.append(m_cv.params)\n",
    "\n",
    "print(f\"Mean out-of-sample R²: {np.mean(cv_r2):.4f} ± {np.std(cv_r2):.4f}\")\n",
    "\n",
    "cv_coefs_df = pd.DataFrame(cv_coefs)\n",
    "print(\"\\n=== Coefficient Stability Across CV Folds ===\")\n",
    "print(cv_coefs_df.describe().T[['mean', 'std']])"
   ]
  },
  {
   "cell_type": "markdown",
   "metadata": {},
   "source": [
    "This final model brings everything together: competition intensity, market structure, carrier type, income of origin/destination, and route characteristics — all in one integrated framework.\n",
    "\n",
    "What the Model Does\n",
    "\n",
    "It estimates how ticket prices (log of average fare) are influenced by both market conditions (number of carriers, HHI, small market status) and airline strategies (legacy vs. low-cost dominance), while controlling for individual carriers and wealth levels of routes.\n",
    "\n",
    "Essentially, it answers:\n",
    "\n",
    "“How do market structure and carrier behavior jointly shape airline prices across U.S. routes?”\n",
    "\n",
    "⸻\n",
    "\n",
    "💡 Key Insights\n",
    "\t1.\tStrong Structural Fit:\n",
    "\t•\tR² = 0.222, slightly higher than in previous models (0.217–0.218).\n",
    "\t•\tThis means the model captures a bit more of the real-world variation in prices — not huge, but consistent progress as structure gets richer.\n",
    "\t•\tCross-validation R² (~0.222) confirms the model generalizes well.\n",
    "\t2.\tCompetition Still Matters — But in Complex Ways:\n",
    "\t•\tn_carriers has a positive coefficient (0.0215), meaning more airlines → slightly higher prices, which may seem counterintuitive.\n",
    "\t•\tBut this aligns with economic intuition for the U.S. market: busy, high-demand routes attract more airlines, so competition coexists with high demand, keeping prices high.\n",
    "\t•\tThe interaction terms clarify this:\n",
    "\t•\tn_carriers × rich_origin → positive: competition raises prices more on richer routes, where demand is less price-sensitive.\n",
    "\t•\tn_carriers × rich_destination → insignificant: no clear competition effect on destination wealth.\n",
    "\t3.\tMarket Concentration (HHI):\n",
    "\t•\thhi is negative, confirming that higher market concentration slightly lowers prices — likely due to smaller, less competitive routes being cheaper overall.\n",
    "\t•\tBut hhi × rich_destination is positive and significant — meaning when concentrated markets serve wealthy destinations, prices rise — a sign of localized market power in premium destinations.\n",
    "\t4.\tSmall Markets Are Exceptionally Expensive:\n",
    "\t•\tsmallmkt_num ≈ 1.05 — this is the largest coefficient in the model.\n",
    "\t•\tSmall or remote airports (like Aspen, Jackson, or smaller hubs) consistently command far higher fares, even after controlling for all other variables.\n",
    "\t•\tThis confirms limited competition and operational costs (short runways, few carriers, luxury tourism) drive high pricing.\n",
    "\t5.\tCarrier Strategy Effects Remain Robust:\n",
    "\t•\tLegacy-dominant and Mixed/Other markets still show higher prices (+23% and +33%), consistent with Model 5.\n",
    "\t•\tThese effects hold even after controlling for specific carriers, reinforcing the finding that legacy airlines anchor higher fare levels.\n",
    "\t6.\tRich Origin and Destination Effects:\n",
    "\t•\trich_origin and rich_destination are negative, meaning wealthier areas have slightly lower logged prices after accounting for other variables — suggesting airlines may offer more balanced pricing in large, competitive, affluent markets (e.g., LA, SF).\n",
    "\t•\tBut the interaction terms show these relationships depend on competition — on rich routes, extra carriers don’t guarantee cheaper prices.\n",
    "\n",
    "⸻\n",
    "\n",
    "\n"
   ]
  },
  {
   "cell_type": "markdown",
   "metadata": {},
   "source": [
    "##########"
   ]
  },
  {
   "cell_type": "code",
   "execution_count": 4,
   "metadata": {},
   "outputs": [],
   "source": [
    "# Compute relative fare: price compared to average on same origin-destination & time period\n",
    "data['rel_fare'] = data.groupby(['origin', 'finaldest', 'year', 'quarter'])['avgprice'].transform(lambda x: x / x.mean())"
   ]
  },
  {
   "cell_type": "markdown",
   "metadata": {},
   "source": [
    "#### 2. Traveler Segment"
   ]
  },
  {
   "cell_type": "code",
   "execution_count": null,
   "metadata": {},
   "outputs": [],
   "source": [
    "data['segment'] = np.select(\n",
    "    [\n",
    "        (data['return']==1) & (data['stops']==0) & (data['rel_fare']>1.1),\n",
    "        (data['return']==0) & (data['stops']>0)\n",
    "    ],\n",
    "    ['business', 'leisure'],\n",
    "    default='mixed'\n",
    ")\n",
    "data['segment'].value_counts()"
   ]
  },
  {
   "cell_type": "code",
   "execution_count": 7,
   "metadata": {},
   "outputs": [
    {
     "data": {
      "text/html": [
       "<div>\n",
       "<style scoped>\n",
       "    .dataframe tbody tr th:only-of-type {\n",
       "        vertical-align: middle;\n",
       "    }\n",
       "\n",
       "    .dataframe tbody tr th {\n",
       "        vertical-align: top;\n",
       "    }\n",
       "\n",
       "    .dataframe thead th {\n",
       "        text-align: right;\n",
       "    }\n",
       "</style>\n",
       "<table border=\"1\" class=\"dataframe\">\n",
       "  <thead>\n",
       "    <tr style=\"text-align: right;\">\n",
       "      <th></th>\n",
       "      <th>count</th>\n",
       "      <th>mean</th>\n",
       "      <th>std</th>\n",
       "      <th>min</th>\n",
       "      <th>25%</th>\n",
       "      <th>50%</th>\n",
       "      <th>75%</th>\n",
       "      <th>max</th>\n",
       "    </tr>\n",
       "    <tr>\n",
       "      <th>segment</th>\n",
       "      <th></th>\n",
       "      <th></th>\n",
       "      <th></th>\n",
       "      <th></th>\n",
       "      <th></th>\n",
       "      <th></th>\n",
       "      <th></th>\n",
       "      <th></th>\n",
       "    </tr>\n",
       "  </thead>\n",
       "  <tbody>\n",
       "    <tr>\n",
       "      <th>business</th>\n",
       "      <td>30888.0</td>\n",
       "      <td>254.341396</td>\n",
       "      <td>173.743691</td>\n",
       "      <td>5.0</td>\n",
       "      <td>98.801211</td>\n",
       "      <td>234.489585</td>\n",
       "      <td>381.90823</td>\n",
       "      <td>2597.6</td>\n",
       "    </tr>\n",
       "    <tr>\n",
       "      <th>leisure</th>\n",
       "      <td>1029309.0</td>\n",
       "      <td>331.650364</td>\n",
       "      <td>192.495391</td>\n",
       "      <td>0.0</td>\n",
       "      <td>213.920000</td>\n",
       "      <td>297.800000</td>\n",
       "      <td>414.00000</td>\n",
       "      <td>4525.0</td>\n",
       "    </tr>\n",
       "    <tr>\n",
       "      <th>mixed</th>\n",
       "      <td>1284882.0</td>\n",
       "      <td>517.095244</td>\n",
       "      <td>264.892712</td>\n",
       "      <td>0.0</td>\n",
       "      <td>374.000000</td>\n",
       "      <td>484.833340</td>\n",
       "      <td>616.35297</td>\n",
       "      <td>7063.0</td>\n",
       "    </tr>\n",
       "  </tbody>\n",
       "</table>\n",
       "</div>"
      ],
      "text/plain": [
       "              count        mean         std  min         25%         50%  \\\n",
       "segment                                                                    \n",
       "business    30888.0  254.341396  173.743691  5.0   98.801211  234.489585   \n",
       "leisure   1029309.0  331.650364  192.495391  0.0  213.920000  297.800000   \n",
       "mixed     1284882.0  517.095244  264.892712  0.0  374.000000  484.833340   \n",
       "\n",
       "                75%     max  \n",
       "segment                      \n",
       "business  381.90823  2597.6  \n",
       "leisure   414.00000  4525.0  \n",
       "mixed     616.35297  7063.0  "
      ]
     },
     "execution_count": 7,
     "metadata": {},
     "output_type": "execute_result"
    },
    {
     "data": {
      "image/png": "[encoded data removed]",
      "text/plain": [
       "<Figure size 640x480 with 1 Axes>"
      ]
     },
     "metadata": {},
     "output_type": "display_data"
    }
   ],
   "source": [
    "sns.boxplot(x='segment', y='avgprice', data=data)\n",
    "data.groupby('segment')['avgprice'].describe()"
   ]
  },
  {
   "cell_type": "markdown",
   "metadata": {},
   "source": [
    "### 🔹 Section 3: Route-Level Pricing Patterns\n",
    "Include summary statistics and group-level analysis:\n",
    "```markdown\n",
    "## 3. Route-Level Pricing Patterns\n",
    "\n",
    "We explore which routes exhibit the highest average prices and potential overpricing."
   ]
  },
  {
   "cell_type": "code",
   "execution_count": 7,
   "metadata": {},
   "outputs": [
    {
     "name": "stdout",
     "output_type": "stream",
     "text": [
      "Top 10 most expensive routes (by mean avgprice):\n",
      "     route     avgprice\n",
      "0  GUM-PPG  3193.250000\n",
      "1  ORD-PPG  3045.142822\n",
      "2  DCA-SPN  3040.437500\n",
      "3  JAN-GUM  2859.000000\n",
      "4  PPG-GUM  2854.964355\n",
      "5  SPN-BOS  2783.333252\n",
      "6  AUS-SPN  2770.250000\n",
      "7  SPN-ATL  2739.666748\n",
      "8  FAI-GUM  2737.212158\n",
      "9  CID-GUM  2704.500000\n"
     ]
    },
    {
     "data": {
      "image/png": "[encoded data removed]",
      "text/plain": [
       "<Figure size 800x500 with 1 Axes>"
      ]
     },
     "metadata": {},
     "output_type": "display_data"
    },
    {
     "name": "stdout",
     "output_type": "stream",
     "text": [
      "Top 10 origin-destination pairs by mean avgprice:\n",
      "      origin finaldest     avgprice\n",
      "26314    GUM       PPG  3193.250000\n",
      "44635    ORD       PPG  3045.142822\n",
      "15800    DCA       SPN  3040.437500\n",
      "31097    JAN       GUM  2859.000000\n",
      "48001    PPG       GUM  2854.964355\n",
      "57685    SPN       BOS  2783.333252\n",
      "3991     AUS       SPN  2770.250000\n",
      "57682    SPN       ATL  2739.666748\n",
      "20474    FAI       GUM  2737.212158\n",
      "11438    CID       GUM  2704.500000\n"
     ]
    },
    {
     "data": {
      "image/png": "[encoded data removed]",
      "text/plain": [
       "<Figure size 800x500 with 1 Axes>"
      ]
     },
     "metadata": {},
     "output_type": "display_data"
    }
   ],
   "source": [
    "# Ranking of top 10 most expensive routes (by mean avgprice)\n",
    "top10_routes = (\n",
    "    data.groupby('route')['avgprice']\n",
    "    .mean()\n",
    "    .sort_values(ascending=False)\n",
    "    .head(10)\n",
    "    .reset_index()\n",
    ")\n",
    "print(\"Top 10 most expensive routes (by mean avgprice):\")\n",
    "print(top10_routes)\n",
    "\n",
    "# Histogram of avgprice\n",
    "plt.figure(figsize=(8,5))\n",
    "sns.histplot(data['avgprice'], bins=50, kde=True)\n",
    "plt.title('Distribution of Average Price')\n",
    "plt.xlabel('Average Price')\n",
    "plt.ylabel('Count')\n",
    "plt.show()\n",
    "\n",
    "# Group by origin and finaldest to check if large airports charge more\n",
    "airport_avgprice = (\n",
    "    data.groupby(['origin', 'finaldest'])['avgprice']\n",
    "    .mean()\n",
    "    .reset_index()\n",
    "    .sort_values('avgprice', ascending=False)\n",
    ")\n",
    "print(\"Top 10 origin-destination pairs by mean avgprice:\")\n",
    "print(airport_avgprice.head(10))\n",
    "\n",
    "# Optionally, check if large airports (by passenger volume) charge more\n",
    "airport_size = (\n",
    "    data.groupby('origin')['passengers']\n",
    "    .sum()\n",
    "    .reset_index()\n",
    "    .rename(columns={'passengers': 'total_passengers'})\n",
    ")\n",
    "airport_price = (\n",
    "    data.groupby('origin')['avgprice']\n",
    "    .mean()\n",
    "    .reset_index()\n",
    "    .rename(columns={'avgprice': 'mean_avgprice'})\n",
    ")\n",
    "airport_stats = pd.merge(airport_size, airport_price, on='origin')\n",
    "plt.figure(figsize=(8,5))\n",
    "sns.scatterplot(data=airport_stats, x='total_passengers', y='mean_avgprice')\n",
    "plt.title('Airport Size vs. Mean Avgprice')\n",
    "plt.xlabel('Total Passengers (by Origin)')\n",
    "plt.ylabel('Mean Avgprice')\n",
    "plt.xscale('log')\n",
    "plt.show()"
   ]
  },
  {
   "cell_type": "markdown",
   "metadata": {},
   "source": [
    "### IV. Regression Modeling"
   ]
  },
  {
   "cell_type": "code",
   "execution_count": 11,
   "metadata": {},
   "outputs": [
    {
     "name": "stdout",
     "output_type": "stream",
     "text": [
      "                            OLS Regression Results                            \n",
      "==============================================================================\n",
      "Dep. Variable:              log_price   R-squared:                       0.239\n",
      "Model:                            OLS   Adj. R-squared:                  0.238\n",
      "Method:                 Least Squares   F-statistic:                     232.2\n",
      "Date:                Mon, 06 Oct 2025   Prob (F-statistic):               0.00\n",
      "Time:                        16:24:09   Log-Likelihood:                -50483.\n",
      "No. Observations:               49807   AIC:                         1.011e+05\n",
      "Df Residuals:                   49759   BIC:                         1.015e+05\n",
      "Df Model:                          47                                         \n",
      "Covariance Type:              cluster                                         \n",
      "=========================================================================================\n",
      "                            coef    std err          z      P>|z|      [0.025      0.975]\n",
      "-----------------------------------------------------------------------------------------\n",
      "Intercept                 5.4961      0.035    158.796      0.000       5.428       5.564\n",
      "C(segment)[T.leisure]     0.0226      0.032      0.710      0.478      -0.040       0.085\n",
      "C(segment)[T.mixed]       0.4501      0.032     14.107      0.000       0.388       0.513\n",
      "C(carrier)[T.9E]          0.1220      0.016      7.764      0.000       0.091       0.153\n",
      "C(carrier)[T.9L]          0.1794      0.034      5.240      0.000       0.112       0.246\n",
      "C(carrier)[T.AA]          0.0538      0.016      3.454      0.001       0.023       0.084\n",
      "C(carrier)[T.AS]         -0.1347      0.035     -3.848      0.000      -0.203      -0.066\n",
      "C(carrier)[T.B6]         -0.5163      0.048    -10.794      0.000      -0.610      -0.423\n",
      "C(carrier)[T.CO]          0.2282      0.036      6.376      0.000       0.158       0.298\n",
      "C(carrier)[T.CP]          0.2131      0.027      7.821      0.000       0.160       0.266\n",
      "C(carrier)[T.CS]          1.2753      0.348      3.665      0.000       0.593       1.957\n",
      "C(carrier)[T.DL]          0.0850      0.015      5.848      0.000       0.057       0.114\n",
      "C(carrier)[T.EV]          0.1280      0.015      8.564      0.000       0.099       0.157\n",
      "C(carrier)[T.F8]          0.2090      0.076      2.756      0.006       0.060       0.358\n",
      "C(carrier)[T.F9]         -0.2070      0.039     -5.261      0.000      -0.284      -0.130\n",
      "C(carrier)[T.FL]         -0.7095      0.039    -18.403      0.000      -0.785      -0.634\n",
      "C(carrier)[T.G4]         -1.9720      0.074    -26.701      0.000      -2.117      -1.827\n",
      "C(carrier)[T.G7]          0.1996      0.026      7.662      0.000       0.149       0.251\n",
      "C(carrier)[T.HA]         -0.0042      0.119     -0.036      0.972      -0.237       0.228\n",
      "C(carrier)[T.L3]         -0.1508      0.094     -1.602      0.109      -0.335       0.034\n",
      "C(carrier)[T.MQ]          0.0624      0.018      3.525      0.000       0.028       0.097\n",
      "C(carrier)[T.NK]         -1.3347      0.102    -13.131      0.000      -1.534      -1.135\n",
      "C(carrier)[T.OH]          0.0437      0.030      1.462      0.144      -0.015       0.102\n",
      "C(carrier)[T.OO]          0.0991      0.016      6.234      0.000       0.068       0.130\n",
      "C(carrier)[T.OW]         -0.0180      0.065     -0.279      0.780      -0.145       0.109\n",
      "C(carrier)[T.QX]         -0.2925      0.041     -7.149      0.000      -0.373      -0.212\n",
      "C(carrier)[T.RP]          0.1245      0.066      1.887      0.059      -0.005       0.254\n",
      "C(carrier)[T.S5]          0.1637      0.040      4.106      0.000       0.086       0.242\n",
      "C(carrier)[T.SY]         -2.7565      0.158    -17.458      0.000      -3.066      -2.447\n",
      "C(carrier)[T.U5]         -0.8434      0.095     -8.882      0.000      -1.030      -0.657\n",
      "C(carrier)[T.UA]          0.2365      0.018     13.026      0.000       0.201       0.272\n",
      "C(carrier)[T.US]          0.0259      0.017      1.494      0.135      -0.008       0.060\n",
      "C(carrier)[T.VX]         -0.4046      0.417     -0.971      0.332      -1.222       0.412\n",
      "C(carrier)[T.WN]         -0.5488      0.020    -28.096      0.000      -0.587      -0.511\n",
      "C(carrier)[T.XE]          0.2523      0.029      8.593      0.000       0.195       0.310\n",
      "C(carrier)[T.XJ]          0.0791      0.051      1.558      0.119      -0.020       0.179\n",
      "C(carrier)[T.YV]          0.1159      0.028      4.207      0.000       0.062       0.170\n",
      "C(carrier)[T.YX]          0.0440      0.024      1.796      0.072      -0.004       0.092\n",
      "C(carrier)[T.ZW]          0.0485      0.029      1.646      0.100      -0.009       0.106\n",
      "C(quarter)[T.2]           0.0120      0.009      1.353      0.176      -0.005       0.029\n",
      "C(quarter)[T.3]           0.0044      0.009      0.494      0.622      -0.013       0.022\n",
      "C(quarter)[T.4]          -0.0126      0.009     -1.434      0.152      -0.030       0.005\n",
      "C(year)[T.2011]           0.0810      0.012      6.621      0.000       0.057       0.105\n",
      "C(year)[T.2012]           0.1125      0.012      9.021      0.000       0.088       0.137\n",
      "C(year)[T.2013]           0.1393      0.012     11.168      0.000       0.115       0.164\n",
      "C(year)[T.2014]           0.1746      0.012     14.321      0.000       0.151       0.199\n",
      "C(year)[T.2015]           0.1601      0.012     12.894      0.000       0.136       0.184\n",
      "C(year)[T.2016]           0.1330      0.013     10.548      0.000       0.108       0.158\n",
      "==============================================================================\n",
      "Omnibus:                    30930.077   Durbin-Watson:                   2.013\n",
      "Prob(Omnibus):                  0.000   Jarque-Bera (JB):           493922.444\n",
      "Skew:                          -2.732   Prob(JB):                         0.00\n",
      "Kurtosis:                      17.427   Cond. No.                         219.\n",
      "==============================================================================\n",
      "\n",
      "Notes:\n",
      "[1] Standard Errors are robust to cluster correlation (cluster)\n"
     ]
    }
   ],
   "source": [
    "sample = data.sample(50000, random_state=42).copy()\n",
    "sample = sample[sample['avgprice'] > 0].copy()\n",
    "sample['log_price'] = np.log(sample['avgprice'])\n",
    "relevant_cols = ['log_price', 'segment', 'carrier', 'quarter', 'year', 'route']\n",
    "sample = sample.dropna(subset=relevant_cols)\n",
    "m = smf.ols(\n",
    "    'log_price ~ C(segment) + C(carrier) + C(quarter) + C(year)',\n",
    "    data=sample\n",
    ").fit(cov_type='cluster', cov_kwds={'groups': sample['route']})\n",
    "print(m.summary())"
   ]
  },
  {
   "cell_type": "code",
   "execution_count": 12,
   "metadata": {},
   "outputs": [
    {
     "data": {
      "text/plain": [
       "<Axes: xlabel='avgprice', ylabel='Count'>"
      ]
     },
     "execution_count": 12,
     "metadata": {},
     "output_type": "execute_result"
    },
    {
     "data": {
      "image/png": "[encoded data removed]",
      "text/plain": [
       "<Figure size 640x480 with 1 Axes>"
      ]
     },
     "metadata": {},
     "output_type": "display_data"
    }
   ],
   "source": [
    "route_ex = sample[sample['route']==\"PHX-SPS\"]\n",
    "sns.histplot(route_ex, x='avgprice', hue='segment', bins=40, kde=True)"
   ]
  },
  {
   "cell_type": "code",
   "execution_count": 13,
   "metadata": {},
   "outputs": [
    {
     "data": {
      "text/html": [
       "<div>\n",
       "<style scoped>\n",
       "    .dataframe tbody tr th:only-of-type {\n",
       "        vertical-align: middle;\n",
       "    }\n",
       "\n",
       "    .dataframe tbody tr th {\n",
       "        vertical-align: top;\n",
       "    }\n",
       "\n",
       "    .dataframe thead th {\n",
       "        text-align: right;\n",
       "    }\n",
       "</style>\n",
       "<table border=\"1\" class=\"dataframe\">\n",
       "  <thead>\n",
       "    <tr style=\"text-align: right;\">\n",
       "      <th></th>\n",
       "      <th>1744051</th>\n",
       "      <th>1744030</th>\n",
       "      <th>1744056</th>\n",
       "      <th>1744059</th>\n",
       "      <th>1744036</th>\n",
       "      <th>1744028</th>\n",
       "      <th>1744052</th>\n",
       "    </tr>\n",
       "  </thead>\n",
       "  <tbody>\n",
       "    <tr>\n",
       "      <th>origin</th>\n",
       "      <td>PHX</td>\n",
       "      <td>PHX</td>\n",
       "      <td>PHX</td>\n",
       "      <td>PHX</td>\n",
       "      <td>PHX</td>\n",
       "      <td>PHX</td>\n",
       "      <td>PHX</td>\n",
       "    </tr>\n",
       "    <tr>\n",
       "      <th>finaldest</th>\n",
       "      <td>SPS</td>\n",
       "      <td>SPS</td>\n",
       "      <td>SPS</td>\n",
       "      <td>SPS</td>\n",
       "      <td>SPS</td>\n",
       "      <td>SPS</td>\n",
       "      <td>SPS</td>\n",
       "    </tr>\n",
       "    <tr>\n",
       "      <th>return</th>\n",
       "      <td>0</td>\n",
       "      <td>0</td>\n",
       "      <td>1</td>\n",
       "      <td>1</td>\n",
       "      <td>0</td>\n",
       "      <td>0</td>\n",
       "      <td>0</td>\n",
       "    </tr>\n",
       "    <tr>\n",
       "      <th>year</th>\n",
       "      <td>2016</td>\n",
       "      <td>2011</td>\n",
       "      <td>2011</td>\n",
       "      <td>2011</td>\n",
       "      <td>2012</td>\n",
       "      <td>2010</td>\n",
       "      <td>2016</td>\n",
       "    </tr>\n",
       "    <tr>\n",
       "      <th>quarter</th>\n",
       "      <td>3</td>\n",
       "      <td>2</td>\n",
       "      <td>1</td>\n",
       "      <td>4</td>\n",
       "      <td>4</td>\n",
       "      <td>4</td>\n",
       "      <td>4</td>\n",
       "    </tr>\n",
       "    <tr>\n",
       "      <th>...</th>\n",
       "      <td>...</td>\n",
       "      <td>...</td>\n",
       "      <td>...</td>\n",
       "      <td>...</td>\n",
       "      <td>...</td>\n",
       "      <td>...</td>\n",
       "      <td>...</td>\n",
       "    </tr>\n",
       "    <tr>\n",
       "      <th>segment</th>\n",
       "      <td>leisure</td>\n",
       "      <td>leisure</td>\n",
       "      <td>mixed</td>\n",
       "      <td>mixed</td>\n",
       "      <td>leisure</td>\n",
       "      <td>leisure</td>\n",
       "      <td>leisure</td>\n",
       "    </tr>\n",
       "    <tr>\n",
       "      <th>route</th>\n",
       "      <td>PHX-SPS</td>\n",
       "      <td>PHX-SPS</td>\n",
       "      <td>PHX-SPS</td>\n",
       "      <td>PHX-SPS</td>\n",
       "      <td>PHX-SPS</td>\n",
       "      <td>PHX-SPS</td>\n",
       "      <td>PHX-SPS</td>\n",
       "    </tr>\n",
       "    <tr>\n",
       "      <th>carrier</th>\n",
       "      <td>AA</td>\n",
       "      <td>AA</td>\n",
       "      <td>AA</td>\n",
       "      <td>AA</td>\n",
       "      <td>AA</td>\n",
       "      <td>AA</td>\n",
       "      <td>AA</td>\n",
       "    </tr>\n",
       "    <tr>\n",
       "      <th>log_avg_price</th>\n",
       "      <td>5.695974</td>\n",
       "      <td>4.981893</td>\n",
       "      <td>6.039064</td>\n",
       "      <td>6.210265</td>\n",
       "      <td>4.290459</td>\n",
       "      <td>5.504315</td>\n",
       "      <td>5.799093</td>\n",
       "    </tr>\n",
       "    <tr>\n",
       "      <th>log_price</th>\n",
       "      <td>5.695974</td>\n",
       "      <td>4.981893</td>\n",
       "      <td>6.039064</td>\n",
       "      <td>6.210265</td>\n",
       "      <td>4.290459</td>\n",
       "      <td>5.504315</td>\n",
       "      <td>5.799093</td>\n",
       "    </tr>\n",
       "  </tbody>\n",
       "</table>\n",
       "<p>91 rows × 7 columns</p>\n",
       "</div>"
      ],
      "text/plain": [
       "                1744051   1744030   1744056   1744059   1744036   1744028  \\\n",
       "origin              PHX       PHX       PHX       PHX       PHX       PHX   \n",
       "finaldest           SPS       SPS       SPS       SPS       SPS       SPS   \n",
       "return                0         0         1         1         0         0   \n",
       "year               2016      2011      2011      2011      2012      2010   \n",
       "quarter               3         2         1         4         4         4   \n",
       "...                 ...       ...       ...       ...       ...       ...   \n",
       "segment         leisure   leisure     mixed     mixed   leisure   leisure   \n",
       "route           PHX-SPS   PHX-SPS   PHX-SPS   PHX-SPS   PHX-SPS   PHX-SPS   \n",
       "carrier              AA        AA        AA        AA        AA        AA   \n",
       "log_avg_price  5.695974  4.981893  6.039064  6.210265  4.290459  5.504315   \n",
       "log_price      5.695974  4.981893  6.039064  6.210265  4.290459  5.504315   \n",
       "\n",
       "                1744052  \n",
       "origin              PHX  \n",
       "finaldest           SPS  \n",
       "return                0  \n",
       "year               2016  \n",
       "quarter               4  \n",
       "...                 ...  \n",
       "segment         leisure  \n",
       "route           PHX-SPS  \n",
       "carrier              AA  \n",
       "log_avg_price  5.799093  \n",
       "log_price      5.799093  \n",
       "\n",
       "[91 rows x 7 columns]"
      ]
     },
     "execution_count": 13,
     "metadata": {},
     "output_type": "execute_result"
    }
   ],
   "source": [
    "sample[sample['route']==\"PHX-SPS\"].T"
   ]
  },
  {
   "cell_type": "code",
   "execution_count": 14,
   "metadata": {},
   "outputs": [
    {
     "data": {
      "text/html": [
       "<div>\n",
       "<style scoped>\n",
       "    .dataframe tbody tr th:only-of-type {\n",
       "        vertical-align: middle;\n",
       "    }\n",
       "\n",
       "    .dataframe tbody tr th {\n",
       "        vertical-align: top;\n",
       "    }\n",
       "\n",
       "    .dataframe thead th {\n",
       "        text-align: right;\n",
       "    }\n",
       "</style>\n",
       "<table border=\"1\" class=\"dataframe\">\n",
       "  <thead>\n",
       "    <tr style=\"text-align: right;\">\n",
       "      <th></th>\n",
       "      <th>rev_actual</th>\n",
       "      <th>rev_uniform</th>\n",
       "      <th>rev_gain</th>\n",
       "    </tr>\n",
       "    <tr>\n",
       "      <th>segment</th>\n",
       "      <th></th>\n",
       "      <th></th>\n",
       "      <th></th>\n",
       "    </tr>\n",
       "  </thead>\n",
       "  <tbody>\n",
       "    <tr>\n",
       "      <th>business</th>\n",
       "      <td>4.206123e+07</td>\n",
       "      <td>4.186692e+07</td>\n",
       "      <td>0.464117</td>\n",
       "    </tr>\n",
       "    <tr>\n",
       "      <th>leisure</th>\n",
       "      <td>1.713435e+08</td>\n",
       "      <td>1.729274e+08</td>\n",
       "      <td>-0.915929</td>\n",
       "    </tr>\n",
       "    <tr>\n",
       "      <th>mixed</th>\n",
       "      <td>5.006035e+08</td>\n",
       "      <td>4.986636e+08</td>\n",
       "      <td>0.389028</td>\n",
       "    </tr>\n",
       "  </tbody>\n",
       "</table>\n",
       "</div>"
      ],
      "text/plain": [
       "            rev_actual   rev_uniform  rev_gain\n",
       "segment                                       \n",
       "business  4.206123e+07  4.186692e+07  0.464117\n",
       "leisure   1.713435e+08  1.729274e+08 -0.915929\n",
       "mixed     5.006035e+08  4.986636e+08  0.389028"
      ]
     },
     "execution_count": 14,
     "metadata": {},
     "output_type": "execute_result"
    }
   ],
   "source": [
    "# Actual revenue\n",
    "sample['rev_actual'] = sample['avgprice'] * sample['passengers']\n",
    "\n",
    "# Uniform price: charge everyone the route-quarter mean\n",
    "sample['avg_uniform'] = sample.groupby(['route','year','quarter'])['avgprice'].transform('mean')\n",
    "sample['rev_uniform'] = sample['avg_uniform'] * sample['passengers']\n",
    "\n",
    "rev_comparison = (sample.groupby('segment')[['rev_actual','rev_uniform']]\n",
    "                    .sum().assign(rev_gain=lambda x: (x.rev_actual/x.rev_uniform-1)*100))\n",
    "rev_comparison"
   ]
  },
  {
   "cell_type": "code",
   "execution_count": 15,
   "metadata": {},
   "outputs": [
    {
     "data": {
      "text/plain": [
       "<Axes: xlabel='cluster', ylabel='avgprice'>"
      ]
     },
     "execution_count": 15,
     "metadata": {},
     "output_type": "execute_result"
    },
    {
     "data": {
      "image/png": "[encoded data removed]",
      "text/plain": [
       "<Figure size 640x480 with 1 Axes>"
      ]
     },
     "metadata": {},
     "output_type": "display_data"
    }
   ],
   "source": [
    "from sklearn.preprocessing import StandardScaler\n",
    "from sklearn.cluster import KMeans\n",
    "\n",
    "X = sample[['rel_fare','stops','return']].copy()\n",
    "X = StandardScaler().fit_transform(X)\n",
    "\n",
    "sample['cluster'] = KMeans(n_clusters=2, random_state=0).fit_predict(X)\n",
    "sns.boxplot(x='cluster', y='avgprice', data=sample)"
   ]
  },
  {
   "cell_type": "code",
   "execution_count": 16,
   "metadata": {},
   "outputs": [
    {
     "data": {
      "text/plain": [
       "Index(['origin', 'finaldest', 'return', 'year', 'quarter', 'airports',\n",
       "       'return_sym', 'stops', 'avgprice', 'passengers', 'itinfare',\n",
       "       'sharelargest', 'share16', 'share9E', 'share9L', 'shareAA', 'shareAS',\n",
       "       'shareB6', 'shareCO', 'shareCP', 'shareCS', 'shareDL', 'shareEV',\n",
       "       'shareF8', 'shareF9', 'shareFL', 'shareG4', 'shareG7', 'shareHA',\n",
       "       'shareL3', 'shareMQ', 'shareNK', 'shareOH', 'shareOO', 'shareOW',\n",
       "       'shareQX', 'shareRP', 'shareS5', 'shareSY', 'shareU5', 'shareUA',\n",
       "       'shareUS', 'shareVX', 'shareWN', 'shareXE', 'shareXJ', 'shareYV',\n",
       "       'shareYX', 'shareZW', 'treated', 'smallmkt', 'code_O', 'icao_O',\n",
       "       'name_O', 'latitude_O', 'longitude_O', 'elevation_O', 'url_O',\n",
       "       'time_zone_O', 'city_code_O', 'country_O', 'city_O', 'state_O',\n",
       "       'county_O', 'type_O', 'code_D', 'icao_D', 'name_D', 'latitude_D',\n",
       "       'longitude_D', 'elevation_D', 'url_D', 'time_zone_D', 'city_code_D',\n",
       "       'country_D', 'city_D', 'state_D', 'county_D', 'type_D', 'airport_O1',\n",
       "       'city_O1', 'state_O1', 'airport_D1', 'city_D1', 'state_D1', 'rel_fare',\n",
       "       'segment', 'route', 'carrier', 'log_avg_price'],\n",
       "      dtype='object')"
      ]
     },
     "execution_count": 16,
     "metadata": {},
     "output_type": "execute_result"
    }
   ],
   "source": [
    "data.columns"
   ]
  },
  {
   "cell_type": "code",
   "execution_count": null,
   "metadata": {},
   "outputs": [],
   "source": []
  },
  {
   "cell_type": "code",
   "execution_count": 18,
   "metadata": {},
   "outputs": [
    {
     "data": {
      "text/plain": [
       "rich_origin\n",
       "0    2326529\n",
       "1      18550\n",
       "Name: count, dtype: int64"
      ]
     },
     "execution_count": 18,
     "metadata": {},
     "output_type": "execute_result"
    }
   ],
   "source": [
    "data['rich_origin'].value_counts()"
   ]
  },
  {
   "cell_type": "code",
   "execution_count": 19,
   "metadata": {},
   "outputs": [
    {
     "data": {
      "text/plain": [
       "rich_origin\n",
       "0    432.674551\n",
       "1    377.535447\n",
       "Name: avgprice, dtype: float64"
      ]
     },
     "execution_count": 19,
     "metadata": {},
     "output_type": "execute_result"
    }
   ],
   "source": [
    "data.groupby('rich_origin')['avgprice'].mean()"
   ]
  },
  {
   "cell_type": "code",
   "execution_count": 20,
   "metadata": {},
   "outputs": [
    {
     "name": "stdout",
     "output_type": "stream",
     "text": [
      "                  rich_origin  rich_destination\n",
      "rich_origin            1.0000           -0.0031\n",
      "rich_destination      -0.0031            1.0000\n"
     ]
    }
   ],
   "source": [
    "print(data[['rich_origin','rich_destination']].corr())"
   ]
  },
  {
   "cell_type": "code",
   "execution_count": 21,
   "metadata": {},
   "outputs": [
    {
     "data": {
      "text/plain": [
       "count    2.345079e+06\n",
       "mean     4.322384e+02\n",
       "std      2.528049e+02\n",
       "min      0.000000e+00\n",
       "25%      2.686667e+02\n",
       "50%      4.021892e+02\n",
       "75%      5.452000e+02\n",
       "max      7.063000e+03\n",
       "Name: avgprice, dtype: float64"
      ]
     },
     "execution_count": 21,
     "metadata": {},
     "output_type": "execute_result"
    }
   ],
   "source": [
    "data['avgprice'].describe()"
   ]
  },
  {
   "cell_type": "code",
   "execution_count": 22,
   "metadata": {},
   "outputs": [
    {
     "data": {
      "text/plain": [
       "np.int64(0)"
      ]
     },
     "execution_count": 22,
     "metadata": {},
     "output_type": "execute_result"
    }
   ],
   "source": [
    "data['avgprice'].describe()\n",
    "(data['avgprice'] <= 0).sum()\n",
    "data['avgprice'].isna().sum()"
   ]
  },
  {
   "cell_type": "code",
   "execution_count": 23,
   "metadata": {},
   "outputs": [
    {
     "data": {
      "text/plain": [
       "rich_destination\n",
       "0    2326322\n",
       "1      18757\n",
       "Name: count, dtype: int64"
      ]
     },
     "execution_count": 23,
     "metadata": {},
     "output_type": "execute_result"
    }
   ],
   "source": [
    "data['rich_origin'].value_counts(dropna=False)\n",
    "data['rich_destination'].value_counts(dropna=False)"
   ]
  },
  {
   "cell_type": "code",
   "execution_count": 24,
   "metadata": {},
   "outputs": [
    {
     "data": {
      "text/plain": [
       "Index(['origin', 'finaldest', 'return', 'year', 'quarter', 'airports',\n",
       "       'return_sym', 'stops', 'avgprice', 'passengers', 'itinfare',\n",
       "       'sharelargest', 'share16', 'share9E', 'share9L', 'shareAA', 'shareAS',\n",
       "       'shareB6', 'shareCO', 'shareCP', 'shareCS', 'shareDL', 'shareEV',\n",
       "       'shareF8', 'shareF9', 'shareFL', 'shareG4', 'shareG7', 'shareHA',\n",
       "       'shareL3', 'shareMQ', 'shareNK', 'shareOH', 'shareOO', 'shareOW',\n",
       "       'shareQX', 'shareRP', 'shareS5', 'shareSY', 'shareU5', 'shareUA',\n",
       "       'shareUS', 'shareVX', 'shareWN', 'shareXE', 'shareXJ', 'shareYV',\n",
       "       'shareYX', 'shareZW', 'treated', 'smallmkt', 'code_O', 'icao_O',\n",
       "       'name_O', 'latitude_O', 'longitude_O', 'elevation_O', 'url_O',\n",
       "       'time_zone_O', 'city_code_O', 'country_O', 'city_O', 'state_O',\n",
       "       'county_O', 'type_O', 'code_D', 'icao_D', 'name_D', 'latitude_D',\n",
       "       'longitude_D', 'elevation_D', 'url_D', 'time_zone_D', 'city_code_D',\n",
       "       'country_D', 'city_D', 'state_D', 'county_D', 'type_D', 'airport_O1',\n",
       "       'city_O1', 'state_O1', 'airport_D1', 'city_D1', 'state_D1', 'rel_fare',\n",
       "       'segment', 'route', 'carrier', 'log_avg_price', 'rich_origin',\n",
       "       'rich_destination'],\n",
       "      dtype='object')"
      ]
     },
     "execution_count": 24,
     "metadata": {},
     "output_type": "execute_result"
    }
   ],
   "source": [
    "data.columns"
   ]
  },
  {
   "cell_type": "code",
   "execution_count": 25,
   "metadata": {},
   "outputs": [],
   "source": [
    "data['rich_origin'] = data['rich_origin'].fillna(0).astype(int)\n",
    "data['rich_destination'] = data['rich_destination'].fillna(0).astype(int)"
   ]
  },
  {
   "cell_type": "code",
   "execution_count": 26,
   "metadata": {},
   "outputs": [
    {
     "name": "stdout",
     "output_type": "stream",
     "text": [
      "         avgprice  log_avg_price\n",
      "225           0.0           -inf\n",
      "237           0.0           -inf\n",
      "249           0.0           -inf\n",
      "1115          0.0           -inf\n",
      "1293          0.0           -inf\n",
      "...           ...            ...\n",
      "2342224       0.0           -inf\n",
      "2342371       0.0           -inf\n",
      "2343607       0.0           -inf\n",
      "2344318       0.0           -inf\n",
      "2345060       0.0           -inf\n",
      "\n",
      "[9796 rows x 2 columns]\n"
     ]
    }
   ],
   "source": [
    "negative_log_avgprice = data[data['log_avg_price'] < 0]\n",
    "print(negative_log_avgprice[['avgprice', 'log_avg_price']])"
   ]
  },
  {
   "cell_type": "code",
   "execution_count": 27,
   "metadata": {},
   "outputs": [
    {
     "name": "stdout",
     "output_type": "stream",
     "text": [
      "                            OLS Regression Results                            \n",
      "==============================================================================\n",
      "Dep. Variable:          log_avg_price   R-squared:                       0.000\n",
      "Model:                            OLS   Adj. R-squared:                  0.000\n",
      "Method:                 Least Squares   F-statistic:                     525.7\n",
      "Date:                Mon, 06 Oct 2025   Prob (F-statistic):          5.53e-229\n",
      "Time:                        16:24:33   Log-Likelihood:            -2.6656e+06\n",
      "No. Observations:             2335297   AIC:                         5.331e+06\n",
      "Df Residuals:                 2335294   BIC:                         5.331e+06\n",
      "Df Model:                           2                                         \n",
      "Covariance Type:            nonrobust                                         \n",
      "====================================================================================\n",
      "                       coef    std err          t      P>|t|      [0.025      0.975]\n",
      "------------------------------------------------------------------------------------\n",
      "Intercept            5.8768      0.000   1.18e+04      0.000       5.876       5.878\n",
      "rich_origin         -0.1523      0.006    -27.180      0.000      -0.163      -0.141\n",
      "rich_destination    -0.0988      0.006    -17.767      0.000      -0.110      -0.088\n",
      "==============================================================================\n",
      "Omnibus:                  1198728.922   Durbin-Watson:                   1.027\n",
      "Prob(Omnibus):                  0.000   Jarque-Bera (JB):         10876664.106\n",
      "Skew:                          -2.306   Prob(JB):                         0.00\n",
      "Kurtosis:                      12.513   Cond. No.                         11.3\n",
      "==============================================================================\n",
      "\n",
      "Notes:\n",
      "[1] Standard Errors assume that the covariance matrix of the errors is correctly specified.\n"
     ]
    }
   ],
   "source": [
    "data_no_neginf = data[~np.isneginf(data['log_avg_price'])]\n",
    "m = smf.ols('log_avg_price ~ rich_origin + rich_destination', data=data_no_neginf).fit()\n",
    "print(m.summary())"
   ]
  },
  {
   "cell_type": "markdown",
   "metadata": {},
   "source": [
    "### II. Regression"
   ]
  },
  {
   "cell_type": "markdown",
   "metadata": {},
   "source": [
    "In this regression, I examine how airline competition and market characteristics affect ticket pricing across U.S. domestic routes.\n",
    "\n",
    "The main goal is to test whether prices **decrease when more airlines operate on the same route** — a key assumption of **competitive markets**."
   ]
  },
  {
   "cell_type": "markdown",
   "metadata": {},
   "source": [
    "The variable `n_carriers` captures the number of airlines per route, serving as a proxy for competition intensity.\n",
    "\n",
    "I control for flight characteristics (`stops`), carrier-specific pricing differences (C(`carrier`)), and regional income effects (`rich_origin`, `rich_destination`) to isolate the impact of competition on fares.\n",
    "\n",
    "By analyzing these relationships, I aim to detect potential evidence of **monopoly-based price** discrimination and assess whether competition actually translates into lower consumer prices in the airline industry."
   ]
  },
  {
   "cell_type": "code",
   "execution_count": 28,
   "metadata": {},
   "outputs": [],
   "source": [
    "#create n_carriers variable\n",
    "route_comp = data.groupby('route')['carrier'].nunique().reset_index(name='n_carriers')\n",
    "data = data.merge(route_comp, on='route')"
   ]
  },
  {
   "cell_type": "code",
   "execution_count": 29,
   "metadata": {},
   "outputs": [],
   "source": [
    "#make sure there are no -inf log_avg_price\n",
    "data_no_neginf = data[~np.isneginf(data['log_avg_price'])]"
   ]
  },
  {
   "cell_type": "code",
   "execution_count": 30,
   "metadata": {},
   "outputs": [],
   "source": [
    "sample = data_no_neginf.sample(frac=0.15, random_state=42)"
   ]
  },
  {
   "cell_type": "code",
   "execution_count": 31,
   "metadata": {},
   "outputs": [
    {
     "name": "stdout",
     "output_type": "stream",
     "text": [
      "                            OLS Regression Results                            \n",
      "==============================================================================\n",
      "Dep. Variable:          log_avg_price   R-squared:                       0.186\n",
      "Model:                            OLS   Adj. R-squared:                  0.186\n",
      "Method:                 Least Squares   F-statistic:                     2004.\n",
      "Date:                Mon, 06 Oct 2025   Prob (F-statistic):               0.00\n",
      "Time:                        16:24:46   Log-Likelihood:            -3.6365e+05\n",
      "No. Observations:              350295   AIC:                         7.274e+05\n",
      "Df Residuals:                  350254   BIC:                         7.278e+05\n",
      "Df Model:                          40                                         \n",
      "Covariance Type:            nonrobust                                         \n",
      "====================================================================================\n",
      "                       coef    std err          t      P>|t|      [0.025      0.975]\n",
      "------------------------------------------------------------------------------------\n",
      "Intercept            5.4366      0.007    739.051      0.000       5.422       5.451\n",
      "C(carrier)[T.9E]     0.2041      0.008     27.050      0.000       0.189       0.219\n",
      "C(carrier)[T.9L]     0.1045      0.016      6.563      0.000       0.073       0.136\n",
      "C(carrier)[T.AA]     0.1068      0.007     14.740      0.000       0.093       0.121\n",
      "C(carrier)[T.AS]    -0.1461      0.009    -15.773      0.000      -0.164      -0.128\n",
      "C(carrier)[T.B6]    -0.4034      0.013    -31.791      0.000      -0.428      -0.378\n",
      "C(carrier)[T.CO]     0.1725      0.015     11.257      0.000       0.142       0.203\n",
      "C(carrier)[T.CP]     0.2062      0.013     15.738      0.000       0.181       0.232\n",
      "C(carrier)[T.CS]     1.3254      0.091     14.603      0.000       1.148       1.503\n",
      "C(carrier)[T.DL]     0.1588      0.007     22.963      0.000       0.145       0.172\n",
      "C(carrier)[T.EV]     0.1745      0.007     24.499      0.000       0.161       0.189\n",
      "C(carrier)[T.F8]    -0.0149      0.091     -0.164      0.870      -0.193       0.163\n",
      "C(carrier)[T.F9]    -0.2394      0.016    -14.793      0.000      -0.271      -0.208\n",
      "C(carrier)[T.FL]    -0.7412      0.017    -44.393      0.000      -0.774      -0.708\n",
      "C(carrier)[T.G4]    -1.7022      0.015   -112.623      0.000      -1.732      -1.673\n",
      "C(carrier)[T.G7]     0.1630      0.014     11.745      0.000       0.136       0.190\n",
      "C(carrier)[T.HA]     0.0502      0.020      2.538      0.011       0.011       0.089\n",
      "C(carrier)[T.L3]    -0.3384      0.078     -4.332      0.000      -0.492      -0.185\n",
      "C(carrier)[T.MQ]     0.1152      0.008     15.001      0.000       0.100       0.130\n",
      "C(carrier)[T.NK]    -1.1618      0.023    -50.269      0.000      -1.207      -1.116\n",
      "C(carrier)[T.OH]     0.0168      0.013      1.323      0.186      -0.008       0.042\n",
      "C(carrier)[T.OO]     0.1536      0.007     21.329      0.000       0.140       0.168\n",
      "C(carrier)[T.OW]     0.0516      0.020      2.614      0.009       0.013       0.090\n",
      "C(carrier)[T.QX]    -0.2325      0.011    -21.202      0.000      -0.254      -0.211\n",
      "C(carrier)[T.RP]    -0.0034      0.024     -0.142      0.887      -0.051       0.044\n",
      "C(carrier)[T.S5]     0.0730      0.019      3.778      0.000       0.035       0.111\n",
      "C(carrier)[T.SY]    -2.1624      0.033    -65.468      0.000      -2.227      -2.098\n",
      "C(carrier)[T.U5]    -1.3080      0.483     -2.707      0.007      -2.255      -0.361\n",
      "C(carrier)[T.UA]     0.2746      0.008     33.328      0.000       0.258       0.291\n",
      "C(carrier)[T.US]     0.0101      0.008      1.204      0.229      -0.006       0.026\n",
      "C(carrier)[T.VX]    -0.7136      0.071    -10.084      0.000      -0.852      -0.575\n",
      "C(carrier)[T.WN]    -0.4860      0.008    -62.949      0.000      -0.501      -0.471\n",
      "C(carrier)[T.XE]     0.1162      0.014      8.024      0.000       0.088       0.145\n",
      "C(carrier)[T.XJ]     0.0829      0.018      4.519      0.000       0.047       0.119\n",
      "C(carrier)[T.YV]     0.0568      0.012      4.824      0.000       0.034       0.080\n",
      "C(carrier)[T.YX]     0.0140      0.012      1.204      0.229      -0.009       0.037\n",
      "C(carrier)[T.ZW]    -0.0200      0.013     -1.522      0.128      -0.046       0.006\n",
      "n_carriers           0.0247      0.001     45.928      0.000       0.024       0.026\n",
      "stops                0.2436      0.003     94.355      0.000       0.239       0.249\n",
      "rich_origin         -0.1324      0.013    -10.064      0.000      -0.158      -0.107\n",
      "rich_destination    -0.1006      0.013     -7.731      0.000      -0.126      -0.075\n",
      "==============================================================================\n",
      "Omnibus:                   206251.650   Durbin-Watson:                   2.000\n",
      "Prob(Omnibus):                  0.000   Jarque-Bera (JB):          2977785.419\n",
      "Skew:                          -2.575   Prob(JB):                         0.00\n",
      "Kurtosis:                      16.323   Cond. No.                     2.20e+03\n",
      "==============================================================================\n",
      "\n",
      "Notes:\n",
      "[1] Standard Errors assume that the covariance matrix of the errors is correctly specified.\n",
      "[2] The condition number is large, 2.2e+03. This might indicate that there are\n",
      "strong multicollinearity or other numerical problems.\n"
     ]
    }
   ],
   "source": [
    "m_comp = smf.ols(\n",
    "    'log_avg_price ~ n_carriers + stops + C(carrier) + rich_origin + rich_destination',\n",
    "    data=sample\n",
    ").fit()\n",
    "\n",
    "print(m_comp.summary())"
   ]
  },
  {
   "cell_type": "code",
   "execution_count": 32,
   "metadata": {},
   "outputs": [
    {
     "data": {
      "image/png": "[encoded data removed]",
      "text/plain": [
       "<Figure size 640x480 with 1 Axes>"
      ]
     },
     "metadata": {},
     "output_type": "display_data"
    }
   ],
   "source": [
    "sns.boxplot(x='n_carriers', y='log_avg_price', data=sample)\n",
    "plt.title('Average Log Price by Number of Carriers')\n",
    "plt.xlabel('Number of Airlines on Route')\n",
    "plt.ylabel('Log(Average Price)')\n",
    "plt.show()"
   ]
  },
  {
   "cell_type": "code",
   "execution_count": 33,
   "metadata": {},
   "outputs": [
    {
     "name": "stdout",
     "output_type": "stream",
     "text": [
      "                            OLS Regression Results                            \n",
      "==============================================================================\n",
      "Dep. Variable:          log_avg_price   R-squared:                       0.186\n",
      "Model:                            OLS   Adj. R-squared:                  0.186\n",
      "Method:                 Least Squares   F-statistic:                     2003.\n",
      "Date:                Mon, 06 Oct 2025   Prob (F-statistic):               0.00\n",
      "Time:                        16:24:54   Log-Likelihood:            -3.6367e+05\n",
      "No. Observations:              350295   AIC:                         7.274e+05\n",
      "Df Residuals:                  350254   BIC:                         7.279e+05\n",
      "Df Model:                          40                                         \n",
      "Covariance Type:            nonrobust                                         \n",
      "==========================================================================================\n",
      "                             coef    std err          t      P>|t|      [0.025      0.975]\n",
      "------------------------------------------------------------------------------------------\n",
      "Intercept                  5.4351      0.007    739.179      0.000       5.421       5.450\n",
      "C(carrier)[T.9E]           0.2048      0.008     27.147      0.000       0.190       0.220\n",
      "C(carrier)[T.9L]           0.1052      0.016      6.604      0.000       0.074       0.136\n",
      "C(carrier)[T.AA]           0.1076      0.007     14.850      0.000       0.093       0.122\n",
      "C(carrier)[T.AS]          -0.1459      0.009    -15.748      0.000      -0.164      -0.128\n",
      "C(carrier)[T.B6]          -0.4035      0.013    -31.800      0.000      -0.428      -0.379\n",
      "C(carrier)[T.CO]           0.1736      0.015     11.330      0.000       0.144       0.204\n",
      "C(carrier)[T.CP]           0.2067      0.013     15.777      0.000       0.181       0.232\n",
      "C(carrier)[T.CS]           1.3227      0.091     14.573      0.000       1.145       1.501\n",
      "C(carrier)[T.DL]           0.1596      0.007     23.079      0.000       0.146       0.173\n",
      "C(carrier)[T.EV]           0.1753      0.007     24.608      0.000       0.161       0.189\n",
      "C(carrier)[T.F8]          -0.0130      0.091     -0.144      0.886      -0.191       0.165\n",
      "C(carrier)[T.F9]          -0.2389      0.016    -14.767      0.000      -0.271      -0.207\n",
      "C(carrier)[T.FL]          -0.7417      0.017    -44.421      0.000      -0.774      -0.709\n",
      "C(carrier)[T.G4]          -1.7007      0.015   -112.529      0.000      -1.730      -1.671\n",
      "C(carrier)[T.G7]           0.1644      0.014     11.838      0.000       0.137       0.192\n",
      "C(carrier)[T.HA]           0.0508      0.020      2.567      0.010       0.012       0.090\n",
      "C(carrier)[T.L3]          -0.3381      0.078     -4.327      0.000      -0.491      -0.185\n",
      "C(carrier)[T.MQ]           0.1158      0.008     15.073      0.000       0.101       0.131\n",
      "C(carrier)[T.NK]          -1.1612      0.023    -50.242      0.000      -1.207      -1.116\n",
      "C(carrier)[T.OH]           0.0167      0.013      1.317      0.188      -0.008       0.042\n",
      "C(carrier)[T.OO]           0.1547      0.007     21.468      0.000       0.141       0.169\n",
      "C(carrier)[T.OW]           0.0522      0.020      2.643      0.008       0.013       0.091\n",
      "C(carrier)[T.QX]          -0.2323      0.011    -21.178      0.000      -0.254      -0.211\n",
      "C(carrier)[T.RP]          -0.0032      0.024     -0.133      0.894      -0.050       0.044\n",
      "C(carrier)[T.S5]           0.0721      0.019      3.730      0.000       0.034       0.110\n",
      "C(carrier)[T.SY]          -2.1637      0.033    -65.504      0.000      -2.228      -2.099\n",
      "C(carrier)[T.U5]          -1.3058      0.483     -2.702      0.007      -2.253      -0.359\n",
      "C(carrier)[T.UA]           0.2753      0.008     33.403      0.000       0.259       0.291\n",
      "C(carrier)[T.US]           0.0102      0.008      1.214      0.225      -0.006       0.027\n",
      "C(carrier)[T.VX]          -0.7208      0.071    -10.185      0.000      -0.859      -0.582\n",
      "C(carrier)[T.WN]          -0.4850      0.008    -62.835      0.000      -0.500      -0.470\n",
      "C(carrier)[T.XE]           0.1171      0.014      8.089      0.000       0.089       0.145\n",
      "C(carrier)[T.XJ]           0.0827      0.018      4.506      0.000       0.047       0.119\n",
      "C(carrier)[T.YV]           0.0577      0.012      4.901      0.000       0.035       0.081\n",
      "C(carrier)[T.YX]           0.0119      0.012      1.024      0.306      -0.011       0.035\n",
      "C(carrier)[T.ZW]          -0.0208      0.013     -1.583      0.113      -0.047       0.005\n",
      "n_carriers                 0.0246      0.001     45.549      0.000       0.024       0.026\n",
      "rich_origin               -0.2464      0.026     -9.488      0.000      -0.297      -0.195\n",
      "n_carriers:rich_origin     0.0304      0.006      5.107      0.000       0.019       0.042\n",
      "stops                      0.2442      0.003     94.568      0.000       0.239       0.249\n",
      "==============================================================================\n",
      "Omnibus:                   206214.915   Durbin-Watson:                   2.000\n",
      "Prob(Omnibus):                  0.000   Jarque-Bera (JB):          2975290.656\n",
      "Skew:                          -2.575   Prob(JB):                         0.00\n",
      "Kurtosis:                      16.317   Cond. No.                     2.20e+03\n",
      "==============================================================================\n",
      "\n",
      "Notes:\n",
      "[1] Standard Errors assume that the covariance matrix of the errors is correctly specified.\n",
      "[2] The condition number is large, 2.2e+03. This might indicate that there are\n",
      "strong multicollinearity or other numerical problems.\n"
     ]
    }
   ],
   "source": [
    "m_int = smf.ols(\n",
    "    'log_avg_price ~ n_carriers * rich_origin + stops + C(carrier)',\n",
    "    data=sample\n",
    ").fit()\n",
    "print(m_int.summary())"
   ]
  },
  {
   "cell_type": "markdown",
   "metadata": {},
   "source": [
    "The regression results show that competition and market wealth interact in shaping airline pricing.\n",
    "While an increase in the number of carriers is generally associated with higher average fares, this relationship changes depending on route wealth. On routes originating from richer areas, the impact of competition on lowering fares is significantly weaker — airlines appear to maintain higher prices even in more competitive environments, suggesting lower price sensitivity among wealthier travelers.\n",
    "Conversely, in non-rich markets, additional competition may still exert downward pressure on prices.\n",
    "This pattern points to heterogeneous price discrimination across markets — a behavioral rather than purely structural form of discrimination, where passenger income and competition jointly determine pricing flexibility."
   ]
  },
  {
   "cell_type": "markdown",
   "metadata": {},
   "source": [
    "📈 Economic intuition\n",
    "\t•\tRich areas: airlines can rely on stable, inelastic demand (business travelers, high-income households), so prices remain high even with several competitors.\n",
    "\t•\tPoorer areas: passengers are more price-sensitive; competition has a stronger effect on lowering fares.\n",
    "\t•\tImplication: airlines may implicitly practice third-degree price discrimination by market type — adjusting prices not by individual income, but by average income level of origin regions."
   ]
  },
  {
   "cell_type": "code",
   "execution_count": 34,
   "metadata": {},
   "outputs": [
    {
     "data": {
      "image/png": "[encoded data removed]",
      "text/plain": [
       "<Figure size 640x480 with 1 Axes>"
      ]
     },
     "metadata": {},
     "output_type": "display_data"
    }
   ],
   "source": [
    "# Simulate prediction grid\n",
    "n = np.arange(1, 8)\n",
    "rich = [0, 1]\n",
    "pred = []\n",
    "for r in rich:\n",
    "    for nc in n:\n",
    "        pred.append({\n",
    "            \"n_carriers\": nc,\n",
    "            \"rich_origin\": r,\n",
    "            \"predicted_price\": m_int.predict({\"n_carriers\": [nc], \"rich_origin\": [r], \"stops\": [0], \"carrier\": [\"AA\"]})[0]\n",
    "        })\n",
    "df_pred = pd.DataFrame(pred)\n",
    "\n",
    "# Plot\n",
    "for r in rich:\n",
    "    subset = df_pred[df_pred['rich_origin'] == r]\n",
    "    label = \"Rich origin\" if r == 1 else \"Non-rich origin\"\n",
    "    plt.plot(subset['n_carriers'], np.exp(subset['predicted_price']), label=label)\n",
    "\n",
    "plt.legend()\n",
    "plt.xlabel('Number of carriers')\n",
    "plt.ylabel('Predicted average price ($)')\n",
    "plt.title('Interaction: Competition × Wealth of Origin')\n",
    "plt.show()"
   ]
  },
  {
   "cell_type": "markdown",
   "metadata": {},
   "source": [
    "💡 What it means economically\n",
    "\t•\tRich origins: High-income passengers allow airlines to sustain premium pricing even as more carriers enter the market.\n",
    "→ “Competition doesn’t bite as much when customers can afford not to care.”\n",
    "\t•\tNon-rich origins: Even though prices are higher overall, the market is likely smaller and less profitable, with fewer pricing options and possibly higher cost structures per seat."
   ]
  },
  {
   "cell_type": "markdown",
   "metadata": {},
   "source": [
    "### III. Small Rich Cities"
   ]
  },
  {
   "cell_type": "code",
   "execution_count": 35,
   "metadata": {},
   "outputs": [],
   "source": [
    "small_rich_list = [\n",
    "    'Santa Barbara', 'Boulder', 'Napa', 'Park City', 'Charlottesville',\n",
    "    'Scottsdale', 'Greenwich', 'Aspen', 'Bend', 'Key West'\n",
    "]"
   ]
  },
  {
   "cell_type": "code",
   "execution_count": 36,
   "metadata": {},
   "outputs": [
    {
     "data": {
      "text/plain": [
       "Index(['origin', 'finaldest', 'return', 'year', 'quarter', 'airports',\n",
       "       'return_sym', 'stops', 'avgprice', 'passengers', 'itinfare',\n",
       "       'sharelargest', 'share16', 'share9E', 'share9L', 'shareAA', 'shareAS',\n",
       "       'shareB6', 'shareCO', 'shareCP', 'shareCS', 'shareDL', 'shareEV',\n",
       "       'shareF8', 'shareF9', 'shareFL', 'shareG4', 'shareG7', 'shareHA',\n",
       "       'shareL3', 'shareMQ', 'shareNK', 'shareOH', 'shareOO', 'shareOW',\n",
       "       'shareQX', 'shareRP', 'shareS5', 'shareSY', 'shareU5', 'shareUA',\n",
       "       'shareUS', 'shareVX', 'shareWN', 'shareXE', 'shareXJ', 'shareYV',\n",
       "       'shareYX', 'shareZW', 'treated', 'smallmkt', 'code_O', 'icao_O',\n",
       "       'name_O', 'latitude_O', 'longitude_O', 'elevation_O', 'url_O',\n",
       "       'time_zone_O', 'city_code_O', 'country_O', 'city_O', 'state_O',\n",
       "       'county_O', 'type_O', 'code_D', 'icao_D', 'name_D', 'latitude_D',\n",
       "       'longitude_D', 'elevation_D', 'url_D', 'time_zone_D', 'city_code_D',\n",
       "       'country_D', 'city_D', 'state_D', 'county_D', 'type_D', 'airport_O1',\n",
       "       'city_O1', 'state_O1', 'airport_D1', 'city_D1', 'state_D1', 'rel_fare',\n",
       "       'segment', 'route', 'carrier', 'log_avg_price', 'rich_origin',\n",
       "       'rich_destination', 'n_carriers'],\n",
       "      dtype='object')"
      ]
     },
     "execution_count": 36,
     "metadata": {},
     "output_type": "execute_result"
    }
   ],
   "source": [
    "data.columns"
   ]
  },
  {
   "cell_type": "code",
   "execution_count": 41,
   "metadata": {},
   "outputs": [],
   "source": [
    "data['small_rich_city'] = data['city_O'].isin(small_rich_list).astype(int)"
   ]
  },
  {
   "cell_type": "code",
   "execution_count": 42,
   "metadata": {},
   "outputs": [
    {
     "data": {
      "text/plain": [
       "array(['Aspen'], dtype=object)"
      ]
     },
     "execution_count": 42,
     "metadata": {},
     "output_type": "execute_result"
    }
   ],
   "source": [
    "data.loc[data['small_rich_city'] == 1, 'city_O'].unique()\n"
   ]
  },
  {
   "cell_type": "code",
   "execution_count": 43,
   "metadata": {},
   "outputs": [],
   "source": [
    "data['aspen_route'] = ((data['origin'] == 'ASE') | (data['finaldest'] == 'ASE')).astype(int)"
   ]
  },
  {
   "cell_type": "code",
   "execution_count": 44,
   "metadata": {},
   "outputs": [],
   "source": [
    "#make sure there are no -inf log_avg_price\n",
    "data_no_neginf = data[~np.isneginf(data['log_avg_price'])]"
   ]
  },
  {
   "cell_type": "code",
   "execution_count": 45,
   "metadata": {},
   "outputs": [],
   "source": [
    "sample = data_no_neginf.sample(frac=0.15, random_state=42)"
   ]
  },
  {
   "cell_type": "code",
   "execution_count": 46,
   "metadata": {},
   "outputs": [
    {
     "name": "stdout",
     "output_type": "stream",
     "text": [
      "                            OLS Regression Results                            \n",
      "==============================================================================\n",
      "Dep. Variable:          log_avg_price   R-squared:                       0.186\n",
      "Model:                            OLS   Adj. R-squared:                  0.186\n",
      "Method:                 Least Squares   F-statistic:                     2052.\n",
      "Date:                Mon, 06 Oct 2025   Prob (F-statistic):               0.00\n",
      "Time:                        16:26:36   Log-Likelihood:            -3.6371e+05\n",
      "No. Observations:              350295   AIC:                         7.275e+05\n",
      "Df Residuals:                  350255   BIC:                         7.279e+05\n",
      "Df Model:                          39                                         \n",
      "Covariance Type:            nonrobust                                         \n",
      "====================================================================================\n",
      "                       coef    std err          t      P>|t|      [0.025      0.975]\n",
      "------------------------------------------------------------------------------------\n",
      "Intercept            5.4315      0.007    739.209      0.000       5.417       5.446\n",
      "C(carrier)[T.9E]     0.2059      0.008     27.296      0.000       0.191       0.221\n",
      "C(carrier)[T.9L]     0.1057      0.016      6.638      0.000       0.075       0.137\n",
      "C(carrier)[T.AA]     0.1071      0.007     14.791      0.000       0.093       0.121\n",
      "C(carrier)[T.AS]    -0.1451      0.009    -15.668      0.000      -0.163      -0.127\n",
      "C(carrier)[T.B6]    -0.4025      0.013    -31.720      0.000      -0.427      -0.378\n",
      "C(carrier)[T.CO]     0.1735      0.015     11.323      0.000       0.143       0.204\n",
      "C(carrier)[T.CP]     0.2073      0.013     15.818      0.000       0.182       0.233\n",
      "C(carrier)[T.CS]     1.3245      0.091     14.591      0.000       1.147       1.502\n",
      "C(carrier)[T.DL]     0.1600      0.007     23.139      0.000       0.146       0.174\n",
      "C(carrier)[T.EV]     0.1763      0.007     24.746      0.000       0.162       0.190\n",
      "C(carrier)[T.F8]    -0.0122      0.091     -0.135      0.893      -0.190       0.166\n",
      "C(carrier)[T.F9]    -0.2405      0.016    -14.864      0.000      -0.272      -0.209\n",
      "C(carrier)[T.FL]    -0.7414      0.017    -44.397      0.000      -0.774      -0.709\n",
      "C(carrier)[T.G4]    -1.6980      0.015   -112.345      0.000      -1.728      -1.668\n",
      "C(carrier)[T.G7]     0.1630      0.014     11.736      0.000       0.136       0.190\n",
      "C(carrier)[T.HA]     0.0532      0.020      2.689      0.007       0.014       0.092\n",
      "C(carrier)[T.L3]    -0.3654      0.078     -4.669      0.000      -0.519      -0.212\n",
      "C(carrier)[T.MQ]     0.1172      0.008     15.259      0.000       0.102       0.132\n",
      "C(carrier)[T.NK]    -1.1595      0.023    -50.164      0.000      -1.205      -1.114\n",
      "C(carrier)[T.OH]     0.0169      0.013      1.331      0.183      -0.008       0.042\n",
      "C(carrier)[T.OO]     0.1515      0.007     21.005      0.000       0.137       0.166\n",
      "C(carrier)[T.OW]     0.0538      0.020      2.726      0.006       0.015       0.093\n",
      "C(carrier)[T.QX]    -0.2298      0.011    -20.955      0.000      -0.251      -0.208\n",
      "C(carrier)[T.RP]    -0.0029      0.024     -0.122      0.903      -0.050       0.044\n",
      "C(carrier)[T.S5]     0.0695      0.019      3.596      0.000       0.032       0.107\n",
      "C(carrier)[T.SY]    -2.1612      0.033    -65.422      0.000      -2.226      -2.096\n",
      "C(carrier)[T.U5]    -1.3049      0.483     -2.700      0.007      -2.252      -0.358\n",
      "C(carrier)[T.UA]     0.2746      0.008     33.304      0.000       0.258       0.291\n",
      "C(carrier)[T.US]     0.0098      0.008      1.176      0.239      -0.007       0.026\n",
      "C(carrier)[T.VX]    -0.7200      0.071    -10.173      0.000      -0.859      -0.581\n",
      "C(carrier)[T.WN]    -0.4831      0.008    -62.594      0.000      -0.498      -0.468\n",
      "C(carrier)[T.XE]     0.1176      0.014      8.122      0.000       0.089       0.146\n",
      "C(carrier)[T.XJ]     0.0843      0.018      4.595      0.000       0.048       0.120\n",
      "C(carrier)[T.YV]     0.0588      0.012      4.991      0.000       0.036       0.082\n",
      "C(carrier)[T.YX]     0.0098      0.012      0.840      0.401      -0.013       0.033\n",
      "C(carrier)[T.ZW]    -0.0205      0.013     -1.559      0.119      -0.046       0.005\n",
      "aspen_route          0.1050      0.017      6.053      0.000       0.071       0.139\n",
      "n_carriers           0.0249      0.001     46.322      0.000       0.024       0.026\n",
      "stops                0.2446      0.003     94.731      0.000       0.240       0.250\n",
      "==============================================================================\n",
      "Omnibus:                   206242.530   Durbin-Watson:                   2.000\n",
      "Prob(Omnibus):                  0.000   Jarque-Bera (JB):          2974657.324\n",
      "Skew:                          -2.575   Prob(JB):                         0.00\n",
      "Kurtosis:                      16.315   Cond. No.                     2.20e+03\n",
      "==============================================================================\n",
      "\n",
      "Notes:\n",
      "[1] Standard Errors assume that the covariance matrix of the errors is correctly specified.\n",
      "[2] The condition number is large, 2.2e+03. This might indicate that there are\n",
      "strong multicollinearity or other numerical problems.\n"
     ]
    }
   ],
   "source": [
    "m_aspen = smf.ols(\n",
    "    'log_avg_price ~ aspen_route + n_carriers + stops + C(carrier)',\n",
    "    data=sample\n",
    ").fit()\n",
    "print(m_aspen.summary())"
   ]
  },
  {
   "cell_type": "code",
   "execution_count": 47,
   "metadata": {},
   "outputs": [
    {
     "name": "stdout",
     "output_type": "stream",
     "text": [
      "                            OLS Regression Results                            \n",
      "==============================================================================\n",
      "Dep. Variable:          log_avg_price   R-squared:                       0.186\n",
      "Model:                            OLS   Adj. R-squared:                  0.186\n",
      "Method:                 Least Squares   F-statistic:                     2000.\n",
      "Date:                Mon, 06 Oct 2025   Prob (F-statistic):               0.00\n",
      "Time:                        16:26:52   Log-Likelihood:            -3.6371e+05\n",
      "No. Observations:              350295   AIC:                         7.275e+05\n",
      "Df Residuals:                  350254   BIC:                         7.279e+05\n",
      "Df Model:                          40                                         \n",
      "Covariance Type:            nonrobust                                         \n",
      "==========================================================================================\n",
      "                             coef    std err          t      P>|t|      [0.025      0.975]\n",
      "------------------------------------------------------------------------------------------\n",
      "Intercept                  5.4314      0.007    739.015      0.000       5.417       5.446\n",
      "C(carrier)[T.9E]           0.2059      0.008     27.295      0.000       0.191       0.221\n",
      "C(carrier)[T.9L]           0.1058      0.016      6.638      0.000       0.075       0.137\n",
      "C(carrier)[T.AA]           0.1072      0.007     14.793      0.000       0.093       0.121\n",
      "C(carrier)[T.AS]          -0.1451      0.009    -15.663      0.000      -0.163      -0.127\n",
      "C(carrier)[T.B6]          -0.4025      0.013    -31.718      0.000      -0.427      -0.378\n",
      "C(carrier)[T.CO]           0.1736      0.015     11.325      0.000       0.144       0.204\n",
      "C(carrier)[T.CP]           0.2073      0.013     15.817      0.000       0.182       0.233\n",
      "C(carrier)[T.CS]           1.3246      0.091     14.591      0.000       1.147       1.502\n",
      "C(carrier)[T.DL]           0.1601      0.007     23.140      0.000       0.146       0.174\n",
      "C(carrier)[T.EV]           0.1763      0.007     24.749      0.000       0.162       0.190\n",
      "C(carrier)[T.F8]          -0.0123      0.091     -0.135      0.892      -0.190       0.166\n",
      "C(carrier)[T.F9]          -0.2405      0.016    -14.857      0.000      -0.272      -0.209\n",
      "C(carrier)[T.FL]          -0.7413      0.017    -44.397      0.000      -0.774      -0.709\n",
      "C(carrier)[T.G4]          -1.6979      0.015   -112.340      0.000      -1.728      -1.668\n",
      "C(carrier)[T.G7]           0.1631      0.014     11.742      0.000       0.136       0.190\n",
      "C(carrier)[T.HA]           0.0532      0.020      2.691      0.007       0.014       0.092\n",
      "C(carrier)[T.L3]          -0.3659      0.078     -4.674      0.000      -0.519      -0.212\n",
      "C(carrier)[T.MQ]           0.1172      0.008     15.260      0.000       0.102       0.132\n",
      "C(carrier)[T.NK]          -1.1595      0.023    -50.162      0.000      -1.205      -1.114\n",
      "C(carrier)[T.OH]           0.0169      0.013      1.330      0.184      -0.008       0.042\n",
      "C(carrier)[T.OO]           0.1515      0.007     20.995      0.000       0.137       0.166\n",
      "C(carrier)[T.OW]           0.0538      0.020      2.727      0.006       0.015       0.093\n",
      "C(carrier)[T.QX]          -0.2298      0.011    -20.950      0.000      -0.251      -0.208\n",
      "C(carrier)[T.RP]          -0.0029      0.024     -0.122      0.903      -0.050       0.044\n",
      "C(carrier)[T.S5]           0.0696      0.019      3.601      0.000       0.032       0.107\n",
      "C(carrier)[T.SY]          -2.1612      0.033    -65.420      0.000      -2.226      -2.096\n",
      "C(carrier)[T.U5]          -1.3050      0.483     -2.700      0.007      -2.252      -0.358\n",
      "C(carrier)[T.UA]           0.2746      0.008     33.305      0.000       0.258       0.291\n",
      "C(carrier)[T.US]           0.0099      0.008      1.177      0.239      -0.007       0.026\n",
      "C(carrier)[T.VX]          -0.7200      0.071    -10.172      0.000      -0.859      -0.581\n",
      "C(carrier)[T.WN]          -0.4831      0.008    -62.587      0.000      -0.498      -0.468\n",
      "C(carrier)[T.XE]           0.1176      0.014      8.124      0.000       0.089       0.146\n",
      "C(carrier)[T.XJ]           0.0843      0.018      4.595      0.000       0.048       0.120\n",
      "C(carrier)[T.YV]           0.0588      0.012      4.992      0.000       0.036       0.082\n",
      "C(carrier)[T.YX]           0.0098      0.012      0.837      0.403      -0.013       0.033\n",
      "C(carrier)[T.ZW]          -0.0205      0.013     -1.560      0.119      -0.046       0.005\n",
      "aspen_route                0.1184      0.036      3.332      0.001       0.049       0.188\n",
      "n_carriers                 0.0250      0.001     46.275      0.000       0.024       0.026\n",
      "aspen_route:n_carriers    -0.0033      0.008     -0.432      0.666      -0.018       0.012\n",
      "stops                      0.2446      0.003     94.731      0.000       0.240       0.250\n",
      "==============================================================================\n",
      "Omnibus:                   206242.415   Durbin-Watson:                   2.000\n",
      "Prob(Omnibus):                  0.000   Jarque-Bera (JB):          2974656.912\n",
      "Skew:                          -2.575   Prob(JB):                         0.00\n",
      "Kurtosis:                      16.315   Cond. No.                     2.20e+03\n",
      "==============================================================================\n",
      "\n",
      "Notes:\n",
      "[1] Standard Errors assume that the covariance matrix of the errors is correctly specified.\n",
      "[2] The condition number is large, 2.2e+03. This might indicate that there are\n",
      "strong multicollinearity or other numerical problems.\n"
     ]
    }
   ],
   "source": [
    "m_aspen_int = smf.ols(\n",
    "    'log_avg_price ~ aspen_route * n_carriers + stops + C(carrier)',\n",
    "    data=sample\n",
    ").fit()\n",
    "print(m_aspen_int.summary())"
   ]
  },
  {
   "cell_type": "markdown",
   "metadata": {},
   "source": [
    "So your model tests three things:\n",
    "1️⃣ Is Aspen more expensive overall?\n",
    "2️⃣ Does competition (n_carriers) affect prices in general?\n",
    "3️⃣ Does competition affect Aspen differently from other routes? (That’s the interaction term.)"
   ]
  },
  {
   "cell_type": "markdown",
   "metadata": {},
   "source": [
    "🧠 Economic interpretation\n",
    "\n",
    "1️⃣ Aspen premium: confirmed\n",
    "\n",
    "Flights involving Aspen are significantly more expensive (about 16%) even after controlling for everything else.\n",
    "→ That’s systematic price discrimination based on market wealth and isolation.\n",
    "\n",
    "2️⃣ Competition doesn’t matter much there\n",
    "\n",
    "The interaction (aspen_route:n_carriers) is not statistically significant — meaning even when more airlines fly Aspen routes, prices don’t fall.\n",
    "→ This is classic inelastic demand: wealthy passengers and seasonal luxury travel make competition less effective.\n",
    "Airlines can sustain higher fares without losing customers.\n",
    "\n",
    "3️⃣ Big picture\n",
    "\t•\tIn most markets: competition → small price increase (maybe demand effect).\n",
    "\t•\tIn Aspen: prices stay high regardless of competition → persistent market power.\n",
    "\n",
    "This suggests Aspen operates as a premium niche market, not a competitive one.\n",
    "\n",
    "⸻\n"
   ]
  },
  {
   "cell_type": "markdown",
   "metadata": {},
   "source": [
    "#### Jackson"
   ]
  },
  {
   "cell_type": "code",
   "execution_count": 48,
   "metadata": {},
   "outputs": [],
   "source": [
    "data['jackson_route'] = ((data['origin'] == 'JAC') | (data['finaldest'] == 'JAC')).astype(int)"
   ]
  },
  {
   "cell_type": "code",
   "execution_count": 49,
   "metadata": {},
   "outputs": [],
   "source": [
    "#make sure there are no -inf log_avg_price\n",
    "data_no_neginf = data[~np.isneginf(data['log_avg_price'])]"
   ]
  },
  {
   "cell_type": "code",
   "execution_count": 62,
   "metadata": {},
   "outputs": [],
   "source": [
    "sample = data_no_neginf.sample(frac=0.25, random_state=42)"
   ]
  },
  {
   "cell_type": "code",
   "execution_count": 63,
   "metadata": {},
   "outputs": [
    {
     "name": "stdout",
     "output_type": "stream",
     "text": [
      "                            OLS Regression Results                            \n",
      "==============================================================================\n",
      "Dep. Variable:          log_avg_price   R-squared:                       0.185\n",
      "Model:                            OLS   Adj. R-squared:                  0.185\n",
      "Method:                 Least Squares   F-statistic:                 1.327e+04\n",
      "Date:                Mon, 06 Oct 2025   Prob (F-statistic):               0.00\n",
      "Time:                        16:16:17   Log-Likelihood:            -2.4270e+06\n",
      "No. Observations:             2335297   AIC:                         4.854e+06\n",
      "Df Residuals:                 2335256   BIC:                         4.855e+06\n",
      "Df Model:                          40                                         \n",
      "Covariance Type:            nonrobust                                         \n",
      "============================================================================================\n",
      "                               coef    std err          t      P>|t|      [0.025      0.975]\n",
      "--------------------------------------------------------------------------------------------\n",
      "Intercept                    5.4359      0.003   1905.473      0.000       5.430       5.442\n",
      "C(carrier)[T.9E]             0.1997      0.003     68.290      0.000       0.194       0.205\n",
      "C(carrier)[T.9L]             0.1073      0.006     17.402      0.000       0.095       0.119\n",
      "C(carrier)[T.AA]             0.0955      0.003     34.004      0.000       0.090       0.101\n",
      "C(carrier)[T.AS]            -0.1435      0.004    -39.897      0.000      -0.151      -0.136\n",
      "C(carrier)[T.B6]            -0.4420      0.005    -89.688      0.000      -0.452      -0.432\n",
      "C(carrier)[T.CO]             0.1741      0.006     29.203      0.000       0.162       0.186\n",
      "C(carrier)[T.CP]             0.2083      0.005     41.075      0.000       0.198       0.218\n",
      "C(carrier)[T.CS]             1.2578      0.037     33.871      0.000       1.185       1.331\n",
      "C(carrier)[T.DL]             0.1561      0.003     58.152      0.000       0.151       0.161\n",
      "C(carrier)[T.EV]             0.1751      0.003     63.315      0.000       0.170       0.181\n",
      "C(carrier)[T.F8]            -0.0244      0.037     -0.668      0.504      -0.096       0.047\n",
      "C(carrier)[T.F9]            -0.2329      0.006    -37.073      0.000      -0.245      -0.221\n",
      "C(carrier)[T.FL]            -0.7422      0.007   -114.129      0.000      -0.755      -0.729\n",
      "C(carrier)[T.G4]            -1.6929      0.006   -288.986      0.000      -1.704      -1.681\n",
      "C(carrier)[T.G7]             0.1588      0.005     29.388      0.000       0.148       0.169\n",
      "C(carrier)[T.HA]             0.0560      0.008      7.301      0.000       0.041       0.071\n",
      "C(carrier)[T.L3]            -0.2734      0.030     -9.083      0.000      -0.332      -0.214\n",
      "C(carrier)[T.MQ]             0.1158      0.003     38.879      0.000       0.110       0.122\n",
      "C(carrier)[T.NK]            -1.1501      0.009   -128.652      0.000      -1.168      -1.133\n",
      "C(carrier)[T.OH]            -0.0044      0.005     -0.885      0.376      -0.014       0.005\n",
      "C(carrier)[T.OO]             0.1515      0.003     54.145      0.000       0.146       0.157\n",
      "C(carrier)[T.OW]             0.0349      0.008      4.592      0.000       0.020       0.050\n",
      "C(carrier)[T.QX]            -0.2437      0.004    -57.436      0.000      -0.252      -0.235\n",
      "C(carrier)[T.RP]             0.0461      0.009      5.019      0.000       0.028       0.064\n",
      "C(carrier)[T.S5]             0.0614      0.007      8.197      0.000       0.047       0.076\n",
      "C(carrier)[T.SY]            -2.1207      0.012   -170.937      0.000      -2.145      -2.096\n",
      "C(carrier)[T.U5]            -1.1215      0.143     -7.861      0.000      -1.401      -0.842\n",
      "C(carrier)[T.UA]             0.2682      0.003     83.829      0.000       0.262       0.274\n",
      "C(carrier)[T.US]             0.0094      0.003      2.900      0.004       0.003       0.016\n",
      "C(carrier)[T.VX]            -0.6969      0.029    -24.085      0.000      -0.754      -0.640\n",
      "C(carrier)[T.WN]            -0.4794      0.003   -159.982      0.000      -0.485      -0.473\n",
      "C(carrier)[T.XE]             0.1455      0.006     26.235      0.000       0.135       0.156\n",
      "C(carrier)[T.XJ]             0.0688      0.007      9.695      0.000       0.055       0.083\n",
      "C(carrier)[T.YV]             0.0700      0.005     15.230      0.000       0.061       0.079\n",
      "C(carrier)[T.YX]             0.0057      0.005      1.254      0.210      -0.003       0.015\n",
      "C(carrier)[T.ZW]            -0.0058      0.005     -1.144      0.252      -0.016       0.004\n",
      "jackson_route                0.1070      0.015      7.258      0.000       0.078       0.136\n",
      "n_carriers                   0.0253      0.000    121.251      0.000       0.025       0.026\n",
      "jackson_route:n_carriers    -0.0083      0.003     -3.134      0.002      -0.013      -0.003\n",
      "stops                        0.2427      0.001    241.978      0.000       0.241       0.245\n",
      "==============================================================================\n",
      "Omnibus:                  1377957.999   Durbin-Watson:                   1.290\n",
      "Prob(Omnibus):                  0.000   Jarque-Bera (JB):         19980117.856\n",
      "Skew:                          -2.581   Prob(JB):                         0.00\n",
      "Kurtosis:                      16.367   Cond. No.                     1.67e+03\n",
      "==============================================================================\n",
      "\n",
      "Notes:\n",
      "[1] Standard Errors assume that the covariance matrix of the errors is correctly specified.\n",
      "[2] The condition number is large, 1.67e+03. This might indicate that there are\n",
      "strong multicollinearity or other numerical problems.\n"
     ]
    }
   ],
   "source": [
    "m_jac = smf.ols(\n",
    "    'log_avg_price ~ jackson_route * n_carriers + stops + C(carrier)',\n",
    "    data=data_no_neginf\n",
    ").fit()\n",
    "print(m_jac.summary())"
   ]
  },
  {
   "cell_type": "code",
   "execution_count": 50,
   "metadata": {},
   "outputs": [],
   "source": [
    "data['aspen_route'] = ((data['city_O'] == 'Aspen') | (data['city_D'] == 'Aspen')).astype(int)\n",
    "data['jackson_route'] = ((data['city_O'] == 'Jackson') | (data['city_D'] == 'Jackson')).astype(int)"
   ]
  },
  {
   "cell_type": "code",
   "execution_count": 51,
   "metadata": {},
   "outputs": [
    {
     "name": "stdout",
     "output_type": "stream",
     "text": [
      "                            OLS Regression Results                            \n",
      "==============================================================================\n",
      "Dep. Variable:          log_avg_price   R-squared:                       0.185\n",
      "Model:                            OLS   Adj. R-squared:                  0.185\n",
      "Method:                 Least Squares   F-statistic:                 1.265e+04\n",
      "Date:                Mon, 06 Oct 2025   Prob (F-statistic):               0.00\n",
      "Time:                        16:30:32   Log-Likelihood:            -2.4268e+06\n",
      "No. Observations:             2335297   AIC:                         4.854e+06\n",
      "Df Residuals:                 2335254   BIC:                         4.854e+06\n",
      "Df Model:                          42                                         \n",
      "Covariance Type:            nonrobust                                         \n",
      "============================================================================================\n",
      "                               coef    std err          t      P>|t|      [0.025      0.975]\n",
      "--------------------------------------------------------------------------------------------\n",
      "Intercept                    5.4353      0.003   1904.881      0.000       5.430       5.441\n",
      "C(carrier)[T.9E]             0.1997      0.003     68.303      0.000       0.194       0.205\n",
      "C(carrier)[T.9L]             0.1070      0.006     17.356      0.000       0.095       0.119\n",
      "C(carrier)[T.AA]             0.0956      0.003     34.023      0.000       0.090       0.101\n",
      "C(carrier)[T.AS]            -0.1433      0.004    -39.841      0.000      -0.150      -0.136\n",
      "C(carrier)[T.B6]            -0.4418      0.005    -89.648      0.000      -0.451      -0.432\n",
      "C(carrier)[T.CO]             0.1736      0.006     29.122      0.000       0.162       0.185\n",
      "C(carrier)[T.CP]             0.2083      0.005     41.071      0.000       0.198       0.218\n",
      "C(carrier)[T.CS]             1.2579      0.037     33.874      0.000       1.185       1.331\n",
      "C(carrier)[T.DL]             0.1562      0.003     58.176      0.000       0.151       0.161\n",
      "C(carrier)[T.EV]             0.1748      0.003     63.204      0.000       0.169       0.180\n",
      "C(carrier)[T.F8]            -0.0245      0.037     -0.671      0.502      -0.096       0.047\n",
      "C(carrier)[T.F9]            -0.2346      0.006    -37.327      0.000      -0.247      -0.222\n",
      "C(carrier)[T.FL]            -0.7421      0.007   -114.118      0.000      -0.755      -0.729\n",
      "C(carrier)[T.G4]            -1.6925      0.006   -288.928      0.000      -1.704      -1.681\n",
      "C(carrier)[T.G7]             0.1569      0.005     29.023      0.000       0.146       0.168\n",
      "C(carrier)[T.HA]             0.0562      0.008      7.325      0.000       0.041       0.071\n",
      "C(carrier)[T.L3]            -0.3058      0.030    -10.143      0.000      -0.365      -0.247\n",
      "C(carrier)[T.MQ]             0.1157      0.003     38.842      0.000       0.110       0.122\n",
      "C(carrier)[T.NK]            -1.1498      0.009   -128.628      0.000      -1.167      -1.132\n",
      "C(carrier)[T.OH]            -0.0044      0.005     -0.895      0.371      -0.014       0.005\n",
      "C(carrier)[T.OO]             0.1486      0.003     53.047      0.000       0.143       0.154\n",
      "C(carrier)[T.OW]             0.0349      0.008      4.594      0.000       0.020       0.050\n",
      "C(carrier)[T.QX]            -0.2435      0.004    -57.381      0.000      -0.252      -0.235\n",
      "C(carrier)[T.RP]             0.0460      0.009      5.009      0.000       0.028       0.064\n",
      "C(carrier)[T.S5]             0.0603      0.007      8.051      0.000       0.046       0.075\n",
      "C(carrier)[T.SY]            -2.1203      0.012   -170.912      0.000      -2.145      -2.096\n",
      "C(carrier)[T.U5]            -1.1215      0.143     -7.862      0.000      -1.401      -0.842\n",
      "C(carrier)[T.UA]             0.2668      0.003     83.376      0.000       0.260       0.273\n",
      "C(carrier)[T.US]             0.0094      0.003      2.899      0.004       0.003       0.016\n",
      "C(carrier)[T.VX]            -0.6967      0.029    -24.081      0.000      -0.753      -0.640\n",
      "C(carrier)[T.WN]            -0.4791      0.003   -159.911      0.000      -0.485      -0.473\n",
      "C(carrier)[T.XE]             0.1449      0.006     26.131      0.000       0.134       0.156\n",
      "C(carrier)[T.XJ]             0.0689      0.007      9.705      0.000       0.055       0.083\n",
      "C(carrier)[T.YV]             0.0699      0.005     15.198      0.000       0.061       0.079\n",
      "C(carrier)[T.YX]             0.0044      0.005      0.957      0.339      -0.005       0.013\n",
      "C(carrier)[T.ZW]            -0.0059      0.005     -1.162      0.245      -0.016       0.004\n",
      "aspen_route                  0.1796      0.014     12.882      0.000       0.152       0.207\n",
      "n_carriers                   0.0254      0.000    121.403      0.000       0.025       0.026\n",
      "aspen_route:n_carriers      -0.0143      0.003     -4.758      0.000      -0.020      -0.008\n",
      "jackson_route                0.1057      0.015      7.174      0.000       0.077       0.135\n",
      "jackson_route:n_carriers    -0.0080      0.003     -3.020      0.003      -0.013      -0.003\n",
      "stops                        0.2429      0.001    242.199      0.000       0.241       0.245\n",
      "==============================================================================\n",
      "Omnibus:                  1378472.429   Durbin-Watson:                   1.290\n",
      "Prob(Omnibus):                  0.000   Jarque-Bera (JB):         20006448.040\n",
      "Skew:                          -2.582   Prob(JB):                         0.00\n",
      "Kurtosis:                      16.377   Cond. No.                     1.67e+03\n",
      "==============================================================================\n",
      "\n",
      "Notes:\n",
      "[1] Standard Errors assume that the covariance matrix of the errors is correctly specified.\n",
      "[2] The condition number is large, 1.67e+03. This might indicate that there are\n",
      "strong multicollinearity or other numerical problems.\n"
     ]
    }
   ],
   "source": [
    "m_city = smf.ols(\n",
    "    'log_avg_price ~ aspen_route * n_carriers + jackson_route * n_carriers + stops + C(carrier)',\n",
    "    data=data_no_neginf\n",
    ").fit()\n",
    "print(m_city.summary())"
   ]
  },
  {
   "cell_type": "markdown",
   "metadata": {},
   "source": [
    "### IV Simulatin for both cties"
   ]
  },
  {
   "cell_type": "code",
   "execution_count": 52,
   "metadata": {},
   "outputs": [
    {
     "name": "stdout",
     "output_type": "stream",
     "text": [
      "      city  price_actual  price_counterfactual  price_uniform  \\\n",
      "0    Aspen    443.535151            447.945805     393.090457   \n",
      "1  Jackson    442.560395            441.143369     414.794032   \n",
      "\n",
      "   change_competition_%  change_uniform_%  \n",
      "0              0.994432        -11.373325  \n",
      "1             -0.320188         -6.274028  \n"
     ]
    }
   ],
   "source": [
    "# Step 1: Predict actual log prices\n",
    "data['pred_log_actual'] = m_city.predict(data)\n",
    "data['price_actual'] = np.exp(data['pred_log_actual'])\n",
    "\n",
    "# Step 2: Counterfactual (simulate 5 carriers)\n",
    "results = []\n",
    "\n",
    "for city in ['aspen', 'jackson']:\n",
    "    df_city = data[data[f'{city}_route'] == 1].copy()\n",
    "    df_cf = df_city.copy()\n",
    "    df_cf['n_carriers'] = 5  # simulate 5 competitors\n",
    "    \n",
    "    # Predictions\n",
    "    df_city['price_actual'] = np.exp(m_city.predict(df_city))\n",
    "    df_cf['price_counterfactual'] = np.exp(m_city.predict(df_cf))\n",
    "    \n",
    "    # Uniform pricing (remove discrimination)\n",
    "    df_uniform = df_city.copy()\n",
    "    df_uniform['aspen_route'] = 0\n",
    "    df_uniform['jackson_route'] = 0\n",
    "    df_uniform['price_uniform'] = np.exp(m_city.predict(df_uniform))\n",
    "    \n",
    "    # Summarize\n",
    "    results.append({\n",
    "        'city': city.capitalize(),\n",
    "        'price_actual': df_city['price_actual'].mean(),\n",
    "        'price_counterfactual': df_cf['price_counterfactual'].mean(),\n",
    "        'price_uniform': df_uniform['price_uniform'].mean()\n",
    "    })\n",
    "\n",
    "summary_df = pd.DataFrame(results)\n",
    "summary_df['change_competition_%'] = (summary_df['price_counterfactual'] - summary_df['price_actual']) / summary_df['price_actual'] * 100\n",
    "summary_df['change_uniform_%'] = (summary_df['price_uniform'] - summary_df['price_actual']) / summary_df['price_actual'] * 100\n",
    "\n",
    "print(summary_df)"
   ]
  },
  {
   "cell_type": "code",
   "execution_count": 56,
   "metadata": {},
   "outputs": [
    {
     "data": {
      "image/png": "[encoded data removed]",
      "text/plain": [
       "<Figure size 640x480 with 1 Axes>"
      ]
     },
     "metadata": {},
     "output_type": "display_data"
    }
   ],
   "source": [
    "\n",
    "summary_df_melt = summary_df.melt(id_vars='city', \n",
    "                                  value_vars=['price_actual', 'price_counterfactual', 'price_uniform'],\n",
    "                                  var_name='Scenario', value_name='Price')\n",
    "\n",
    "ax = sns.barplot(data=summary_df_melt, x='city', y='Price', hue='Scenario')\n",
    "plt.title('Counterfactual Airline Pricing: Aspen vs Jackson Hole')\n",
    "plt.ylabel('Predicted Average Price ($)')\n",
    "# Place legend outside the plot area so it does not cover the plot\n",
    "plt.legend(loc='center left', bbox_to_anchor=(1.02, 0.5), borderaxespad=0)\n",
    "plt.tight_layout()\n",
    "plt.show()"
   ]
  },
  {
   "cell_type": "code",
   "execution_count": 57,
   "metadata": {},
   "outputs": [
    {
     "name": "stdout",
     "output_type": "stream",
     "text": [
      "Aspen: Revenue change 1.71%\n",
      "Jackson: Revenue change 0.12%\n"
     ]
    }
   ],
   "source": [
    "for city in ['aspen', 'jackson']:\n",
    "    df_city = data[data[f'{city}_route'] == 1].copy()\n",
    "    df_city['revenue_actual'] = df_city['price_actual'] * df_city['passengers']\n",
    "    \n",
    "    df_cf = df_city.copy()\n",
    "    df_cf['n_carriers'] = 5\n",
    "    df_cf['revenue_cf'] = np.exp(m_city.predict(df_cf)) * df_cf['passengers']\n",
    "    \n",
    "    rev_actual = df_city['revenue_actual'].sum()\n",
    "    rev_cf = df_cf['revenue_cf'].sum()\n",
    "    print(f\"{city.capitalize()}: Revenue change {(rev_cf - rev_actual)/rev_actual*100:.2f}%\")"
   ]
  },
  {
   "cell_type": "markdown",
   "metadata": {},
   "source": [
    "🧠 What this tells us\n",
    "\n",
    "These results show that:\n",
    "\t•\tAspen’s market behaves more competitively — more carriers can increase total airline revenue (because demand expands faster than prices fall).\n",
    "\t•\tJackson’s market is already saturated or less elastic — even if more airlines enter, total market revenue hardly moves.\n",
    "\n",
    "This supports your main narrative:\n",
    "\n",
    "Airlines maintain pricing power on high-income leisure routes. Competition reduces markups in Aspen but has minimal effect in Jackson, where demand is less responsive to fare changes."
   ]
  },
  {
   "cell_type": "markdown",
   "metadata": {},
   "source": [
    "### IV. Simulation"
   ]
  },
  {
   "cell_type": "markdown",
   "metadata": {},
   "source": [
    "We’ll simulate a “what-if” world:\n",
    "\n",
    "What would average fares look like if Aspen had 5 competing carriers,\n",
    "or if airlines could not apply regional price discrimination (i.e., all cities priced equally)?\n",
    "\n",
    "This gives you a causal-style result:\n",
    "\t•\tquantifies price discrimination effect,\n",
    "\t•\tshows market power impact,\n",
    "\t•\tand turns your model into a decision tool."
   ]
  },
  {
   "cell_type": "code",
   "execution_count": 47,
   "metadata": {},
   "outputs": [],
   "source": [
    "m_aspen = smf.ols(\n",
    "    'log_avg_price ~ aspen_route * n_carriers + stops + C(carrier)',\n",
    "    data=sample\n",
    ").fit()"
   ]
  },
  {
   "cell_type": "code",
   "execution_count": 48,
   "metadata": {},
   "outputs": [],
   "source": [
    "import pandas as pd\n",
    "import numpy as np\n",
    "\n",
    "# Start from your sample or subset of data\n",
    "sim_df = sample.copy()\n",
    "\n",
    "# Simulate two worlds:\n",
    "# 1. Current world (as is)\n",
    "# 2. Counterfactual: Aspen has 5 competing carriers\n",
    "sim_df['n_carriers_cf'] = np.where(sim_df['aspen_route'] == 1, 5, sim_df['n_carriers'])"
   ]
  },
  {
   "cell_type": "code",
   "execution_count": 49,
   "metadata": {},
   "outputs": [],
   "source": [
    "# Predict actual log prices\n",
    "sim_df['pred_actual'] = m_aspen.predict(sim_df)\n",
    "\n",
    "# Predict counterfactual log prices (Aspen = 5 carriers)\n",
    "sim_df_cf = sim_df.copy()\n",
    "sim_df_cf['n_carriers'] = sim_df_cf['n_carriers_cf']\n",
    "sim_df['pred_counterfactual'] = m_aspen.predict(sim_df_cf)\n",
    "\n",
    "# Convert to actual price levels\n",
    "sim_df['price_actual'] = np.exp(sim_df['pred_actual'])\n",
    "sim_df['price_counterfactual'] = np.exp(sim_df['pred_counterfactual'])"
   ]
  },
  {
   "cell_type": "code",
   "execution_count": 50,
   "metadata": {},
   "outputs": [
    {
     "data": {
      "text/plain": [
       "price_actual            441.883109\n",
       "price_counterfactual    448.162516\n",
       "change_%                  1.421056\n",
       "dtype: float64"
      ]
     },
     "execution_count": 50,
     "metadata": {},
     "output_type": "execute_result"
    }
   ],
   "source": [
    "# Average effect for Aspen routes only\n",
    "aspen_effect = sim_df.loc[sim_df['aspen_route'] == 1, ['price_actual', 'price_counterfactual']].mean()\n",
    "aspen_effect['change_%'] = (aspen_effect['price_counterfactual'] / aspen_effect['price_actual'] - 1) * 100\n",
    "aspen_effect"
   ]
  },
  {
   "cell_type": "code",
   "execution_count": 51,
   "metadata": {},
   "outputs": [
    {
     "data": {
      "text/plain": [
       "revenue_actual    1.576822e+07\n",
       "revenue_cf        1.615406e+07\n",
       "change_%          2.446955e+00\n",
       "dtype: float64"
      ]
     },
     "execution_count": 51,
     "metadata": {},
     "output_type": "execute_result"
    }
   ],
   "source": [
    "sim_df['revenue_actual'] = sim_df['price_actual'] * sim_df['passengers']\n",
    "sim_df['revenue_cf'] = sim_df['price_counterfactual'] * sim_df['passengers']\n",
    "\n",
    "revenue_diff = sim_df.loc[sim_df['aspen_route'] == 1, ['revenue_actual', 'revenue_cf']].sum()\n",
    "revenue_diff['change_%'] = (revenue_diff['revenue_cf'] / revenue_diff['revenue_actual'] - 1) * 100\n",
    "revenue_diff"
   ]
  },
  {
   "cell_type": "code",
   "execution_count": 52,
   "metadata": {},
   "outputs": [],
   "source": [
    "sim_df_cf2 = sim_df.copy()\n",
    "sim_df_cf2['aspen_route'] = 0\n",
    "sim_df['pred_uniform'] = m_aspen.predict(sim_df_cf2)\n",
    "sim_df['price_uniform'] = np.exp(sim_df['pred_uniform'])"
   ]
  },
  {
   "cell_type": "code",
   "execution_count": 53,
   "metadata": {},
   "outputs": [
    {
     "data": {
      "text/html": [
       "<div>\n",
       "<style scoped>\n",
       "    .dataframe tbody tr th:only-of-type {\n",
       "        vertical-align: middle;\n",
       "    }\n",
       "\n",
       "    .dataframe tbody tr th {\n",
       "        vertical-align: top;\n",
       "    }\n",
       "\n",
       "    .dataframe thead th {\n",
       "        text-align: right;\n",
       "    }\n",
       "</style>\n",
       "<table border=\"1\" class=\"dataframe\">\n",
       "  <thead>\n",
       "    <tr style=\"text-align: right;\">\n",
       "      <th></th>\n",
       "      <th>price_actual</th>\n",
       "      <th>price_uniform</th>\n",
       "      <th>difference_%</th>\n",
       "    </tr>\n",
       "    <tr>\n",
       "      <th>aspen_route</th>\n",
       "      <th></th>\n",
       "      <th></th>\n",
       "      <th></th>\n",
       "    </tr>\n",
       "  </thead>\n",
       "  <tbody>\n",
       "    <tr>\n",
       "      <th>0</th>\n",
       "      <td>370.546563</td>\n",
       "      <td>370.546563</td>\n",
       "      <td>0.000000</td>\n",
       "    </tr>\n",
       "    <tr>\n",
       "      <th>1</th>\n",
       "      <td>441.883109</td>\n",
       "      <td>394.588421</td>\n",
       "      <td>11.985828</td>\n",
       "    </tr>\n",
       "  </tbody>\n",
       "</table>\n",
       "</div>"
      ],
      "text/plain": [
       "             price_actual  price_uniform  difference_%\n",
       "aspen_route                                           \n",
       "0              370.546563     370.546563      0.000000\n",
       "1              441.883109     394.588421     11.985828"
      ]
     },
     "execution_count": 53,
     "metadata": {},
     "output_type": "execute_result"
    }
   ],
   "source": [
    "price_gap = (\n",
    "    sim_df.groupby('aspen_route')[['price_actual', 'price_uniform']].mean()\n",
    ")\n",
    "price_gap['difference_%'] = (\n",
    "    (price_gap['price_actual'] / price_gap['price_uniform'] - 1) * 100\n",
    ")\n",
    "price_gap"
   ]
  },
  {
   "cell_type": "code",
   "execution_count": 54,
   "metadata": {},
   "outputs": [
    {
     "data": {
      "image/png": "[encoded data removed]",
      "text/plain": [
       "<Figure size 800x500 with 1 Axes>"
      ]
     },
     "metadata": {},
     "output_type": "display_data"
    }
   ],
   "source": [
    "import matplotlib.pyplot as plt\n",
    "\n",
    "df_plot = sim_df.groupby('aspen_route')[['price_actual', 'price_counterfactual', 'price_uniform']].mean()\n",
    "df_plot.T.plot(kind='bar', figsize=(8, 5))\n",
    "plt.title('Counterfactual Pricing Scenarios for Aspen Routes')\n",
    "plt.ylabel('Average Predicted Price ($)')\n",
    "plt.xticks(rotation=0)\n",
    "plt.legend(['Non-Aspen', 'Aspen'])\n",
    "plt.show()"
   ]
  },
  {
   "cell_type": "markdown",
   "metadata": {},
   "source": [
    "### V. Monte Carlo(?)"
   ]
  },
  {
   "cell_type": "code",
   "execution_count": 57,
   "metadata": {},
   "outputs": [],
   "source": [
    "# Create a DataFrame for all unique (city, state, airport) combinations from origin and destination\n",
    "city_state_airport_pairs = pd.concat([\n",
    "    data[['city_O', 'state_O', 'airport_O1']].rename(\n",
    "        columns={'city_O': 'city', 'state_O': 'state', 'airport_O1': 'airport'}\n",
    "    ),\n",
    "    data[['city_D', 'state_D', 'airport_D1']].rename(\n",
    "        columns={'city_D': 'city', 'state_D': 'state', 'airport_D1': 'airport'}\n",
    "    )\n",
    "]).dropna().drop_duplicates().reset_index(drop=True)\n",
    "\n",
    "# Save the DataFrame to a CSV file\n",
    "city_state_airport_pairs.to_csv('city_state_airport_pairs.csv', index=False)"
   ]
  },
  {
   "cell_type": "code",
   "execution_count": 58,
   "metadata": {},
   "outputs": [
    {
     "data": {
      "text/plain": [
       "Index(['origin', 'finaldest', 'return', 'year', 'quarter', 'airports',\n",
       "       'return_sym', 'stops', 'avgprice', 'passengers', 'itinfare',\n",
       "       'sharelargest', 'share16', 'share9E', 'share9L', 'shareAA', 'shareAS',\n",
       "       'shareB6', 'shareCO', 'shareCP', 'shareCS', 'shareDL', 'shareEV',\n",
       "       'shareF8', 'shareF9', 'shareFL', 'shareG4', 'shareG7', 'shareHA',\n",
       "       'shareL3', 'shareMQ', 'shareNK', 'shareOH', 'shareOO', 'shareOW',\n",
       "       'shareQX', 'shareRP', 'shareS5', 'shareSY', 'shareU5', 'shareUA',\n",
       "       'shareUS', 'shareVX', 'shareWN', 'shareXE', 'shareXJ', 'shareYV',\n",
       "       'shareYX', 'shareZW', 'treated', 'smallmkt', 'code_O', 'icao_O',\n",
       "       'name_O', 'latitude_O', 'longitude_O', 'elevation_O', 'url_O',\n",
       "       'time_zone_O', 'city_code_O', 'country_O', 'city_O', 'state_O',\n",
       "       'county_O', 'type_O', 'code_D', 'icao_D', 'name_D', 'latitude_D',\n",
       "       'longitude_D', 'elevation_D', 'url_D', 'time_zone_D', 'city_code_D',\n",
       "       'country_D', 'city_D', 'state_D', 'county_D', 'type_D', 'airport_O1',\n",
       "       'city_O1', 'state_O1', 'airport_D1', 'city_D1', 'state_D1', 'rel_fare',\n",
       "       'segment', 'route', 'carrier', 'log_avg_price', 'rich_origin',\n",
       "       'rich_destination', 'n_carriers', 'small_rich_city', 'aspen_route'],\n",
       "      dtype='object')"
      ]
     },
     "execution_count": 58,
     "metadata": {},
     "output_type": "execute_result"
    }
   ],
   "source": [
    "data.columns"
   ]
  },
  {
   "cell_type": "markdown",
   "metadata": {},
   "source": []
  }
 ],
 "metadata": {
  "kernelspec": {
   "display_name": "Python 3",
   "language": "python",
   "name": "python3"
  },
  "language_info": {
   "codemirror_mode": {
    "name": "ipython",
    "version": 3
   },
   "file_extension": ".py",
   "mimetype": "text/x-python",
   "name": "python",
   "nbconvert_exporter": "python",
   "pygments_lexer": "ipython3",
   "version": "3.12.2"
  }
 },
 "nbformat": 4,
 "nbformat_minor": 4
}
