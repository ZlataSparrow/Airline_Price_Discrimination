{
 "cells": [
  {
   "cell_type": "code",
   "execution_count": 2,
   "metadata": {},
   "outputs": [],
   "source": [
    "import os\n",
    "import sys\n",
    "import warnings\n",
    "from datetime import datetime as dt\n",
    "\n",
    "import numpy as np\n",
    "import pandas as pd\n",
    "import statsmodels.formula.api as smf\n",
    "from IPython.core.display import HTML\n",
    "import seaborn as sns\n",
    "\n",
    "import matplotlib.pyplot as plt\n",
    "import matplotlib.dates as mdates\n",
    "\n",
    "warnings.filterwarnings(\"ignore\")\n"
   ]
  },
  {
   "cell_type": "code",
   "execution_count": 3,
   "metadata": {},
   "outputs": [
    {
     "data": {
      "text/html": [
       "<div>\n",
       "<style scoped>\n",
       "    .dataframe tbody tr th:only-of-type {\n",
       "        vertical-align: middle;\n",
       "    }\n",
       "\n",
       "    .dataframe tbody tr th {\n",
       "        vertical-align: top;\n",
       "    }\n",
       "\n",
       "    .dataframe thead th {\n",
       "        text-align: right;\n",
       "    }\n",
       "</style>\n",
       "<table border=\"1\" class=\"dataframe\">\n",
       "  <thead>\n",
       "    <tr style=\"text-align: right;\">\n",
       "      <th></th>\n",
       "      <th>origin</th>\n",
       "      <th>finaldest</th>\n",
       "      <th>return</th>\n",
       "      <th>year</th>\n",
       "      <th>quarter</th>\n",
       "      <th>airports</th>\n",
       "      <th>return_sym</th>\n",
       "      <th>stops</th>\n",
       "      <th>avgprice</th>\n",
       "      <th>passengers</th>\n",
       "      <th>...</th>\n",
       "      <th>city_D1</th>\n",
       "      <th>state_D1</th>\n",
       "      <th>hhi</th>\n",
       "      <th>route</th>\n",
       "      <th>carrier</th>\n",
       "      <th>n_carriers</th>\n",
       "      <th>inv_n_carriers</th>\n",
       "      <th>share_LCC</th>\n",
       "      <th>share_Legacy</th>\n",
       "      <th>carrier_type_dominant</th>\n",
       "    </tr>\n",
       "  </thead>\n",
       "  <tbody>\n",
       "    <tr>\n",
       "      <th>0</th>\n",
       "      <td>ABE</td>\n",
       "      <td>ABI</td>\n",
       "      <td>1</td>\n",
       "      <td>2010</td>\n",
       "      <td>2</td>\n",
       "      <td>7</td>\n",
       "      <td>1.0</td>\n",
       "      <td>2</td>\n",
       "      <td>530.0</td>\n",
       "      <td>1</td>\n",
       "      <td>...</td>\n",
       "      <td>Abilene</td>\n",
       "      <td>TX</td>\n",
       "      <td>20000.0</td>\n",
       "      <td>ABE-ABI</td>\n",
       "      <td>XE</td>\n",
       "      <td>8</td>\n",
       "      <td>0.125</td>\n",
       "      <td>0.0</td>\n",
       "      <td>0.0</td>\n",
       "      <td>Mixed/Other</td>\n",
       "    </tr>\n",
       "    <tr>\n",
       "      <th>1</th>\n",
       "      <td>ABE</td>\n",
       "      <td>ABI</td>\n",
       "      <td>1</td>\n",
       "      <td>2010</td>\n",
       "      <td>3</td>\n",
       "      <td>7</td>\n",
       "      <td>0.0</td>\n",
       "      <td>2</td>\n",
       "      <td>822.5</td>\n",
       "      <td>2</td>\n",
       "      <td>...</td>\n",
       "      <td>Abilene</td>\n",
       "      <td>TX</td>\n",
       "      <td>7500.0</td>\n",
       "      <td>ABE-ABI</td>\n",
       "      <td>AA</td>\n",
       "      <td>8</td>\n",
       "      <td>0.125</td>\n",
       "      <td>0.0</td>\n",
       "      <td>0.5</td>\n",
       "      <td>Legacy-dominant</td>\n",
       "    </tr>\n",
       "    <tr>\n",
       "      <th>2</th>\n",
       "      <td>ABE</td>\n",
       "      <td>ABI</td>\n",
       "      <td>1</td>\n",
       "      <td>2010</td>\n",
       "      <td>4</td>\n",
       "      <td>7</td>\n",
       "      <td>1.0</td>\n",
       "      <td>2</td>\n",
       "      <td>389.5</td>\n",
       "      <td>2</td>\n",
       "      <td>...</td>\n",
       "      <td>Abilene</td>\n",
       "      <td>TX</td>\n",
       "      <td>20000.0</td>\n",
       "      <td>ABE-ABI</td>\n",
       "      <td>MQ</td>\n",
       "      <td>8</td>\n",
       "      <td>0.125</td>\n",
       "      <td>0.0</td>\n",
       "      <td>0.0</td>\n",
       "      <td>Mixed/Other</td>\n",
       "    </tr>\n",
       "    <tr>\n",
       "      <th>3</th>\n",
       "      <td>ABE</td>\n",
       "      <td>ABI</td>\n",
       "      <td>1</td>\n",
       "      <td>2011</td>\n",
       "      <td>1</td>\n",
       "      <td>7</td>\n",
       "      <td>1.0</td>\n",
       "      <td>2</td>\n",
       "      <td>381.0</td>\n",
       "      <td>1</td>\n",
       "      <td>...</td>\n",
       "      <td>Abilene</td>\n",
       "      <td>TX</td>\n",
       "      <td>20000.0</td>\n",
       "      <td>ABE-ABI</td>\n",
       "      <td>MQ</td>\n",
       "      <td>8</td>\n",
       "      <td>0.125</td>\n",
       "      <td>0.0</td>\n",
       "      <td>0.0</td>\n",
       "      <td>Mixed/Other</td>\n",
       "    </tr>\n",
       "    <tr>\n",
       "      <th>4</th>\n",
       "      <td>ABE</td>\n",
       "      <td>ABI</td>\n",
       "      <td>1</td>\n",
       "      <td>2011</td>\n",
       "      <td>3</td>\n",
       "      <td>7</td>\n",
       "      <td>1.0</td>\n",
       "      <td>2</td>\n",
       "      <td>1096.0</td>\n",
       "      <td>1</td>\n",
       "      <td>...</td>\n",
       "      <td>Abilene</td>\n",
       "      <td>TX</td>\n",
       "      <td>20000.0</td>\n",
       "      <td>ABE-ABI</td>\n",
       "      <td>MQ</td>\n",
       "      <td>8</td>\n",
       "      <td>0.125</td>\n",
       "      <td>0.0</td>\n",
       "      <td>0.0</td>\n",
       "      <td>Mixed/Other</td>\n",
       "    </tr>\n",
       "  </tbody>\n",
       "</table>\n",
       "<p>5 rows × 93 columns</p>\n",
       "</div>"
      ],
      "text/plain": [
       "  origin finaldest  return  year  quarter  airports  return_sym  stops  \\\n",
       "0    ABE       ABI       1  2010        2         7         1.0      2   \n",
       "1    ABE       ABI       1  2010        3         7         0.0      2   \n",
       "2    ABE       ABI       1  2010        4         7         1.0      2   \n",
       "3    ABE       ABI       1  2011        1         7         1.0      2   \n",
       "4    ABE       ABI       1  2011        3         7         1.0      2   \n",
       "\n",
       "   avgprice  passengers  ...  city_D1  state_D1      hhi    route  carrier  \\\n",
       "0     530.0           1  ...  Abilene        TX  20000.0  ABE-ABI       XE   \n",
       "1     822.5           2  ...  Abilene        TX   7500.0  ABE-ABI       AA   \n",
       "2     389.5           2  ...  Abilene        TX  20000.0  ABE-ABI       MQ   \n",
       "3     381.0           1  ...  Abilene        TX  20000.0  ABE-ABI       MQ   \n",
       "4    1096.0           1  ...  Abilene        TX  20000.0  ABE-ABI       MQ   \n",
       "\n",
       "   n_carriers  inv_n_carriers  share_LCC  share_Legacy  carrier_type_dominant  \n",
       "0           8           0.125        0.0           0.0            Mixed/Other  \n",
       "1           8           0.125        0.0           0.5        Legacy-dominant  \n",
       "2           8           0.125        0.0           0.0            Mixed/Other  \n",
       "3           8           0.125        0.0           0.0            Mixed/Other  \n",
       "4           8           0.125        0.0           0.0            Mixed/Other  \n",
       "\n",
       "[5 rows x 93 columns]"
      ]
     },
     "execution_count": 3,
     "metadata": {},
     "output_type": "execute_result"
    }
   ],
   "source": [
    "data = pd.read_pickle(\"../data/Airlines_tickets_data_EDA_ready.pkl\")\n",
    "data.head()"
   ]
  },
  {
   "cell_type": "code",
   "execution_count": 4,
   "metadata": {},
   "outputs": [
    {
     "data": {
      "text/plain": [
       "Index(['origin', 'finaldest', 'return', 'year', 'quarter', 'airports',\n",
       "       'return_sym', 'stops', 'avgprice', 'passengers', 'itinfare',\n",
       "       'sharelargest', 'share16', 'share9E', 'share9L', 'shareAA', 'shareAS',\n",
       "       'shareB6', 'shareCO', 'shareCP', 'shareCS', 'shareDL', 'shareEV',\n",
       "       'shareF8', 'shareF9', 'shareFL', 'shareG4', 'shareG7', 'shareHA',\n",
       "       'shareL3', 'shareMQ', 'shareNK', 'shareOH', 'shareOO', 'shareOW',\n",
       "       'shareQX', 'shareRP', 'shareS5', 'shareSY', 'shareU5', 'shareUA',\n",
       "       'shareUS', 'shareVX', 'shareWN', 'shareXE', 'shareXJ', 'shareYV',\n",
       "       'shareYX', 'shareZW', 'treated', 'smallmkt', 'code_O', 'icao_O',\n",
       "       'name_O', 'latitude_O', 'longitude_O', 'elevation_O', 'url_O',\n",
       "       'time_zone_O', 'city_code_O', 'country_O', 'city_O', 'state_O',\n",
       "       'county_O', 'type_O', 'code_D', 'icao_D', 'name_D', 'latitude_D',\n",
       "       'longitude_D', 'elevation_D', 'url_D', 'time_zone_D', 'city_code_D',\n",
       "       'country_D', 'city_D', 'state_D', 'county_D', 'type_D', 'airport_O1',\n",
       "       'city_O1', 'state_O1', 'airport_D1', 'city_D1', 'state_D1', 'hhi',\n",
       "       'route', 'carrier', 'n_carriers', 'inv_n_carriers', 'share_LCC',\n",
       "       'share_Legacy', 'carrier_type_dominant'],\n",
       "      dtype='object')"
      ]
     },
     "execution_count": 4,
     "metadata": {},
     "output_type": "execute_result"
    }
   ],
   "source": [
    "data.columns"
   ]
  },
  {
   "cell_type": "markdown",
   "metadata": {},
   "source": [
    "#### 1. Relative fare"
   ]
  },
  {
   "cell_type": "code",
   "execution_count": 4,
   "metadata": {},
   "outputs": [],
   "source": [
    "# Compute relative fare: price compared to average on same origin-destination & time period\n",
    "data['rel_fare'] = data.groupby(['origin', 'finaldest', 'year', 'quarter'])['avgprice'].transform(lambda x: x / x.mean())"
   ]
  },
  {
   "cell_type": "markdown",
   "metadata": {},
   "source": [
    "#### 2. Segment"
   ]
  },
  {
   "cell_type": "code",
   "execution_count": 5,
   "metadata": {},
   "outputs": [],
   "source": [
    "data['segment'] = np.select(\n",
    "    [\n",
    "        (data['return']==1) & (data['stops']==0) & (data['rel_fare']>1.1),\n",
    "        (data['return']==0) & (data['stops']>0)\n",
    "    ],\n",
    "    ['business', 'leisure'],\n",
    "    default='mixed'\n",
    ")"
   ]
  },
  {
   "cell_type": "code",
   "execution_count": 6,
   "metadata": {},
   "outputs": [
    {
     "data": {
      "text/plain": [
       "segment\n",
       "mixed       1284882\n",
       "leisure     1029309\n",
       "business      30888\n",
       "Name: count, dtype: int64"
      ]
     },
     "execution_count": 6,
     "metadata": {},
     "output_type": "execute_result"
    }
   ],
   "source": [
    "data['segment'].value_counts()"
   ]
  },
  {
   "cell_type": "markdown",
   "metadata": {},
   "source": [
    "#### 3. Segment Boxplot"
   ]
  },
  {
   "cell_type": "code",
   "execution_count": 7,
   "metadata": {},
   "outputs": [
    {
     "data": {
      "text/html": [
       "<div>\n",
       "<style scoped>\n",
       "    .dataframe tbody tr th:only-of-type {\n",
       "        vertical-align: middle;\n",
       "    }\n",
       "\n",
       "    .dataframe tbody tr th {\n",
       "        vertical-align: top;\n",
       "    }\n",
       "\n",
       "    .dataframe thead th {\n",
       "        text-align: right;\n",
       "    }\n",
       "</style>\n",
       "<table border=\"1\" class=\"dataframe\">\n",
       "  <thead>\n",
       "    <tr style=\"text-align: right;\">\n",
       "      <th></th>\n",
       "      <th>count</th>\n",
       "      <th>mean</th>\n",
       "      <th>std</th>\n",
       "      <th>min</th>\n",
       "      <th>25%</th>\n",
       "      <th>50%</th>\n",
       "      <th>75%</th>\n",
       "      <th>max</th>\n",
       "    </tr>\n",
       "    <tr>\n",
       "      <th>segment</th>\n",
       "      <th></th>\n",
       "      <th></th>\n",
       "      <th></th>\n",
       "      <th></th>\n",
       "      <th></th>\n",
       "      <th></th>\n",
       "      <th></th>\n",
       "      <th></th>\n",
       "    </tr>\n",
       "  </thead>\n",
       "  <tbody>\n",
       "    <tr>\n",
       "      <th>business</th>\n",
       "      <td>30888.0</td>\n",
       "      <td>254.341396</td>\n",
       "      <td>173.743691</td>\n",
       "      <td>5.0</td>\n",
       "      <td>98.801211</td>\n",
       "      <td>234.489585</td>\n",
       "      <td>381.90823</td>\n",
       "      <td>2597.6</td>\n",
       "    </tr>\n",
       "    <tr>\n",
       "      <th>leisure</th>\n",
       "      <td>1029309.0</td>\n",
       "      <td>331.650364</td>\n",
       "      <td>192.495391</td>\n",
       "      <td>0.0</td>\n",
       "      <td>213.920000</td>\n",
       "      <td>297.800000</td>\n",
       "      <td>414.00000</td>\n",
       "      <td>4525.0</td>\n",
       "    </tr>\n",
       "    <tr>\n",
       "      <th>mixed</th>\n",
       "      <td>1284882.0</td>\n",
       "      <td>517.095244</td>\n",
       "      <td>264.892712</td>\n",
       "      <td>0.0</td>\n",
       "      <td>374.000000</td>\n",
       "      <td>484.833340</td>\n",
       "      <td>616.35297</td>\n",
       "      <td>7063.0</td>\n",
       "    </tr>\n",
       "  </tbody>\n",
       "</table>\n",
       "</div>"
      ],
      "text/plain": [
       "              count        mean         std  min         25%         50%  \\\n",
       "segment                                                                    \n",
       "business    30888.0  254.341396  173.743691  5.0   98.801211  234.489585   \n",
       "leisure   1029309.0  331.650364  192.495391  0.0  213.920000  297.800000   \n",
       "mixed     1284882.0  517.095244  264.892712  0.0  374.000000  484.833340   \n",
       "\n",
       "                75%     max  \n",
       "segment                      \n",
       "business  381.90823  2597.6  \n",
       "leisure   414.00000  4525.0  \n",
       "mixed     616.35297  7063.0  "
      ]
     },
     "execution_count": 7,
     "metadata": {},
     "output_type": "execute_result"
    },
    {
     "data": {
      "image/png": "[encoded data removed]",
      "text/plain": [
       "<Figure size 640x480 with 1 Axes>"
      ]
     },
     "metadata": {},
     "output_type": "display_data"
    }
   ],
   "source": [
    "sns.boxplot(x='segment', y='avgprice', data=data)\n",
    "data.groupby('segment')['avgprice'].describe()"
   ]
  },
  {
   "cell_type": "markdown",
   "metadata": {},
   "source": [
    "#### 4. Route"
   ]
  },
  {
   "cell_type": "code",
   "execution_count": 11,
   "metadata": {},
   "outputs": [
    {
     "name": "stdout",
     "output_type": "stream",
     "text": [
      "                            OLS Regression Results                            \n",
      "==============================================================================\n",
      "Dep. Variable:              log_price   R-squared:                       0.239\n",
      "Model:                            OLS   Adj. R-squared:                  0.238\n",
      "Method:                 Least Squares   F-statistic:                     232.2\n",
      "Date:                Mon, 06 Oct 2025   Prob (F-statistic):               0.00\n",
      "Time:                        16:24:09   Log-Likelihood:                -50483.\n",
      "No. Observations:               49807   AIC:                         1.011e+05\n",
      "Df Residuals:                   49759   BIC:                         1.015e+05\n",
      "Df Model:                          47                                         \n",
      "Covariance Type:              cluster                                         \n",
      "=========================================================================================\n",
      "                            coef    std err          z      P>|z|      [0.025      0.975]\n",
      "-----------------------------------------------------------------------------------------\n",
      "Intercept                 5.4961      0.035    158.796      0.000       5.428       5.564\n",
      "C(segment)[T.leisure]     0.0226      0.032      0.710      0.478      -0.040       0.085\n",
      "C(segment)[T.mixed]       0.4501      0.032     14.107      0.000       0.388       0.513\n",
      "C(carrier)[T.9E]          0.1220      0.016      7.764      0.000       0.091       0.153\n",
      "C(carrier)[T.9L]          0.1794      0.034      5.240      0.000       0.112       0.246\n",
      "C(carrier)[T.AA]          0.0538      0.016      3.454      0.001       0.023       0.084\n",
      "C(carrier)[T.AS]         -0.1347      0.035     -3.848      0.000      -0.203      -0.066\n",
      "C(carrier)[T.B6]         -0.5163      0.048    -10.794      0.000      -0.610      -0.423\n",
      "C(carrier)[T.CO]          0.2282      0.036      6.376      0.000       0.158       0.298\n",
      "C(carrier)[T.CP]          0.2131      0.027      7.821      0.000       0.160       0.266\n",
      "C(carrier)[T.CS]          1.2753      0.348      3.665      0.000       0.593       1.957\n",
      "C(carrier)[T.DL]          0.0850      0.015      5.848      0.000       0.057       0.114\n",
      "C(carrier)[T.EV]          0.1280      0.015      8.564      0.000       0.099       0.157\n",
      "C(carrier)[T.F8]          0.2090      0.076      2.756      0.006       0.060       0.358\n",
      "C(carrier)[T.F9]         -0.2070      0.039     -5.261      0.000      -0.284      -0.130\n",
      "C(carrier)[T.FL]         -0.7095      0.039    -18.403      0.000      -0.785      -0.634\n",
      "C(carrier)[T.G4]         -1.9720      0.074    -26.701      0.000      -2.117      -1.827\n",
      "C(carrier)[T.G7]          0.1996      0.026      7.662      0.000       0.149       0.251\n",
      "C(carrier)[T.HA]         -0.0042      0.119     -0.036      0.972      -0.237       0.228\n",
      "C(carrier)[T.L3]         -0.1508      0.094     -1.602      0.109      -0.335       0.034\n",
      "C(carrier)[T.MQ]          0.0624      0.018      3.525      0.000       0.028       0.097\n",
      "C(carrier)[T.NK]         -1.3347      0.102    -13.131      0.000      -1.534      -1.135\n",
      "C(carrier)[T.OH]          0.0437      0.030      1.462      0.144      -0.015       0.102\n",
      "C(carrier)[T.OO]          0.0991      0.016      6.234      0.000       0.068       0.130\n",
      "C(carrier)[T.OW]         -0.0180      0.065     -0.279      0.780      -0.145       0.109\n",
      "C(carrier)[T.QX]         -0.2925      0.041     -7.149      0.000      -0.373      -0.212\n",
      "C(carrier)[T.RP]          0.1245      0.066      1.887      0.059      -0.005       0.254\n",
      "C(carrier)[T.S5]          0.1637      0.040      4.106      0.000       0.086       0.242\n",
      "C(carrier)[T.SY]         -2.7565      0.158    -17.458      0.000      -3.066      -2.447\n",
      "C(carrier)[T.U5]         -0.8434      0.095     -8.882      0.000      -1.030      -0.657\n",
      "C(carrier)[T.UA]          0.2365      0.018     13.026      0.000       0.201       0.272\n",
      "C(carrier)[T.US]          0.0259      0.017      1.494      0.135      -0.008       0.060\n",
      "C(carrier)[T.VX]         -0.4046      0.417     -0.971      0.332      -1.222       0.412\n",
      "C(carrier)[T.WN]         -0.5488      0.020    -28.096      0.000      -0.587      -0.511\n",
      "C(carrier)[T.XE]          0.2523      0.029      8.593      0.000       0.195       0.310\n",
      "C(carrier)[T.XJ]          0.0791      0.051      1.558      0.119      -0.020       0.179\n",
      "C(carrier)[T.YV]          0.1159      0.028      4.207      0.000       0.062       0.170\n",
      "C(carrier)[T.YX]          0.0440      0.024      1.796      0.072      -0.004       0.092\n",
      "C(carrier)[T.ZW]          0.0485      0.029      1.646      0.100      -0.009       0.106\n",
      "C(quarter)[T.2]           0.0120      0.009      1.353      0.176      -0.005       0.029\n",
      "C(quarter)[T.3]           0.0044      0.009      0.494      0.622      -0.013       0.022\n",
      "C(quarter)[T.4]          -0.0126      0.009     -1.434      0.152      -0.030       0.005\n",
      "C(year)[T.2011]           0.0810      0.012      6.621      0.000       0.057       0.105\n",
      "C(year)[T.2012]           0.1125      0.012      9.021      0.000       0.088       0.137\n",
      "C(year)[T.2013]           0.1393      0.012     11.168      0.000       0.115       0.164\n",
      "C(year)[T.2014]           0.1746      0.012     14.321      0.000       0.151       0.199\n",
      "C(year)[T.2015]           0.1601      0.012     12.894      0.000       0.136       0.184\n",
      "C(year)[T.2016]           0.1330      0.013     10.548      0.000       0.108       0.158\n",
      "==============================================================================\n",
      "Omnibus:                    30930.077   Durbin-Watson:                   2.013\n",
      "Prob(Omnibus):                  0.000   Jarque-Bera (JB):           493922.444\n",
      "Skew:                          -2.732   Prob(JB):                         0.00\n",
      "Kurtosis:                      17.427   Cond. No.                         219.\n",
      "==============================================================================\n",
      "\n",
      "Notes:\n",
      "[1] Standard Errors are robust to cluster correlation (cluster)\n"
     ]
    }
   ],
   "source": [
    "sample = data.sample(50000, random_state=42).copy()\n",
    "sample = sample[sample['avgprice'] > 0].copy()\n",
    "sample['log_price'] = np.log(sample['avgprice'])\n",
    "relevant_cols = ['log_price', 'segment', 'carrier', 'quarter', 'year', 'route']\n",
    "sample = sample.dropna(subset=relevant_cols)\n",
    "m = smf.ols(\n",
    "    'log_price ~ C(segment) + C(carrier) + C(quarter) + C(year)',\n",
    "    data=sample\n",
    ").fit(cov_type='cluster', cov_kwds={'groups': sample['route']})\n",
    "print(m.summary())"
   ]
  },
  {
   "cell_type": "code",
   "execution_count": 12,
   "metadata": {},
   "outputs": [
    {
     "data": {
      "text/plain": [
       "<Axes: xlabel='avgprice', ylabel='Count'>"
      ]
     },
     "execution_count": 12,
     "metadata": {},
     "output_type": "execute_result"
    },
    {
     "data": {
      "image/png": "[encoded data removed]",
      "text/plain": [
       "<Figure size 640x480 with 1 Axes>"
      ]
     },
     "metadata": {},
     "output_type": "display_data"
    }
   ],
   "source": [
    "route_ex = sample[sample['route']==\"PHX-SPS\"]\n",
    "sns.histplot(route_ex, x='avgprice', hue='segment', bins=40, kde=True)"
   ]
  },
  {
   "cell_type": "code",
   "execution_count": 13,
   "metadata": {},
   "outputs": [
    {
     "data": {
      "text/html": [
       "<div>\n",
       "<style scoped>\n",
       "    .dataframe tbody tr th:only-of-type {\n",
       "        vertical-align: middle;\n",
       "    }\n",
       "\n",
       "    .dataframe tbody tr th {\n",
       "        vertical-align: top;\n",
       "    }\n",
       "\n",
       "    .dataframe thead th {\n",
       "        text-align: right;\n",
       "    }\n",
       "</style>\n",
       "<table border=\"1\" class=\"dataframe\">\n",
       "  <thead>\n",
       "    <tr style=\"text-align: right;\">\n",
       "      <th></th>\n",
       "      <th>1744051</th>\n",
       "      <th>1744030</th>\n",
       "      <th>1744056</th>\n",
       "      <th>1744059</th>\n",
       "      <th>1744036</th>\n",
       "      <th>1744028</th>\n",
       "      <th>1744052</th>\n",
       "    </tr>\n",
       "  </thead>\n",
       "  <tbody>\n",
       "    <tr>\n",
       "      <th>origin</th>\n",
       "      <td>PHX</td>\n",
       "      <td>PHX</td>\n",
       "      <td>PHX</td>\n",
       "      <td>PHX</td>\n",
       "      <td>PHX</td>\n",
       "      <td>PHX</td>\n",
       "      <td>PHX</td>\n",
       "    </tr>\n",
       "    <tr>\n",
       "      <th>finaldest</th>\n",
       "      <td>SPS</td>\n",
       "      <td>SPS</td>\n",
       "      <td>SPS</td>\n",
       "      <td>SPS</td>\n",
       "      <td>SPS</td>\n",
       "      <td>SPS</td>\n",
       "      <td>SPS</td>\n",
       "    </tr>\n",
       "    <tr>\n",
       "      <th>return</th>\n",
       "      <td>0</td>\n",
       "      <td>0</td>\n",
       "      <td>1</td>\n",
       "      <td>1</td>\n",
       "      <td>0</td>\n",
       "      <td>0</td>\n",
       "      <td>0</td>\n",
       "    </tr>\n",
       "    <tr>\n",
       "      <th>year</th>\n",
       "      <td>2016</td>\n",
       "      <td>2011</td>\n",
       "      <td>2011</td>\n",
       "      <td>2011</td>\n",
       "      <td>2012</td>\n",
       "      <td>2010</td>\n",
       "      <td>2016</td>\n",
       "    </tr>\n",
       "    <tr>\n",
       "      <th>quarter</th>\n",
       "      <td>3</td>\n",
       "      <td>2</td>\n",
       "      <td>1</td>\n",
       "      <td>4</td>\n",
       "      <td>4</td>\n",
       "      <td>4</td>\n",
       "      <td>4</td>\n",
       "    </tr>\n",
       "    <tr>\n",
       "      <th>...</th>\n",
       "      <td>...</td>\n",
       "      <td>...</td>\n",
       "      <td>...</td>\n",
       "      <td>...</td>\n",
       "      <td>...</td>\n",
       "      <td>...</td>\n",
       "      <td>...</td>\n",
       "    </tr>\n",
       "    <tr>\n",
       "      <th>segment</th>\n",
       "      <td>leisure</td>\n",
       "      <td>leisure</td>\n",
       "      <td>mixed</td>\n",
       "      <td>mixed</td>\n",
       "      <td>leisure</td>\n",
       "      <td>leisure</td>\n",
       "      <td>leisure</td>\n",
       "    </tr>\n",
       "    <tr>\n",
       "      <th>route</th>\n",
       "      <td>PHX-SPS</td>\n",
       "      <td>PHX-SPS</td>\n",
       "      <td>PHX-SPS</td>\n",
       "      <td>PHX-SPS</td>\n",
       "      <td>PHX-SPS</td>\n",
       "      <td>PHX-SPS</td>\n",
       "      <td>PHX-SPS</td>\n",
       "    </tr>\n",
       "    <tr>\n",
       "      <th>carrier</th>\n",
       "      <td>AA</td>\n",
       "      <td>AA</td>\n",
       "      <td>AA</td>\n",
       "      <td>AA</td>\n",
       "      <td>AA</td>\n",
       "      <td>AA</td>\n",
       "      <td>AA</td>\n",
       "    </tr>\n",
       "    <tr>\n",
       "      <th>log_avg_price</th>\n",
       "      <td>5.695974</td>\n",
       "      <td>4.981893</td>\n",
       "      <td>6.039064</td>\n",
       "      <td>6.210265</td>\n",
       "      <td>4.290459</td>\n",
       "      <td>5.504315</td>\n",
       "      <td>5.799093</td>\n",
       "    </tr>\n",
       "    <tr>\n",
       "      <th>log_price</th>\n",
       "      <td>5.695974</td>\n",
       "      <td>4.981893</td>\n",
       "      <td>6.039064</td>\n",
       "      <td>6.210265</td>\n",
       "      <td>4.290459</td>\n",
       "      <td>5.504315</td>\n",
       "      <td>5.799093</td>\n",
       "    </tr>\n",
       "  </tbody>\n",
       "</table>\n",
       "<p>91 rows × 7 columns</p>\n",
       "</div>"
      ],
      "text/plain": [
       "                1744051   1744030   1744056   1744059   1744036   1744028  \\\n",
       "origin              PHX       PHX       PHX       PHX       PHX       PHX   \n",
       "finaldest           SPS       SPS       SPS       SPS       SPS       SPS   \n",
       "return                0         0         1         1         0         0   \n",
       "year               2016      2011      2011      2011      2012      2010   \n",
       "quarter               3         2         1         4         4         4   \n",
       "...                 ...       ...       ...       ...       ...       ...   \n",
       "segment         leisure   leisure     mixed     mixed   leisure   leisure   \n",
       "route           PHX-SPS   PHX-SPS   PHX-SPS   PHX-SPS   PHX-SPS   PHX-SPS   \n",
       "carrier              AA        AA        AA        AA        AA        AA   \n",
       "log_avg_price  5.695974  4.981893  6.039064  6.210265  4.290459  5.504315   \n",
       "log_price      5.695974  4.981893  6.039064  6.210265  4.290459  5.504315   \n",
       "\n",
       "                1744052  \n",
       "origin              PHX  \n",
       "finaldest           SPS  \n",
       "return                0  \n",
       "year               2016  \n",
       "quarter               4  \n",
       "...                 ...  \n",
       "segment         leisure  \n",
       "route           PHX-SPS  \n",
       "carrier              AA  \n",
       "log_avg_price  5.799093  \n",
       "log_price      5.799093  \n",
       "\n",
       "[91 rows x 7 columns]"
      ]
     },
     "execution_count": 13,
     "metadata": {},
     "output_type": "execute_result"
    }
   ],
   "source": [
    "sample[sample['route']==\"PHX-SPS\"].T"
   ]
  },
  {
   "cell_type": "code",
   "execution_count": 14,
   "metadata": {},
   "outputs": [
    {
     "data": {
      "text/html": [
       "<div>\n",
       "<style scoped>\n",
       "    .dataframe tbody tr th:only-of-type {\n",
       "        vertical-align: middle;\n",
       "    }\n",
       "\n",
       "    .dataframe tbody tr th {\n",
       "        vertical-align: top;\n",
       "    }\n",
       "\n",
       "    .dataframe thead th {\n",
       "        text-align: right;\n",
       "    }\n",
       "</style>\n",
       "<table border=\"1\" class=\"dataframe\">\n",
       "  <thead>\n",
       "    <tr style=\"text-align: right;\">\n",
       "      <th></th>\n",
       "      <th>rev_actual</th>\n",
       "      <th>rev_uniform</th>\n",
       "      <th>rev_gain</th>\n",
       "    </tr>\n",
       "    <tr>\n",
       "      <th>segment</th>\n",
       "      <th></th>\n",
       "      <th></th>\n",
       "      <th></th>\n",
       "    </tr>\n",
       "  </thead>\n",
       "  <tbody>\n",
       "    <tr>\n",
       "      <th>business</th>\n",
       "      <td>4.206123e+07</td>\n",
       "      <td>4.186692e+07</td>\n",
       "      <td>0.464117</td>\n",
       "    </tr>\n",
       "    <tr>\n",
       "      <th>leisure</th>\n",
       "      <td>1.713435e+08</td>\n",
       "      <td>1.729274e+08</td>\n",
       "      <td>-0.915929</td>\n",
       "    </tr>\n",
       "    <tr>\n",
       "      <th>mixed</th>\n",
       "      <td>5.006035e+08</td>\n",
       "      <td>4.986636e+08</td>\n",
       "      <td>0.389028</td>\n",
       "    </tr>\n",
       "  </tbody>\n",
       "</table>\n",
       "</div>"
      ],
      "text/plain": [
       "            rev_actual   rev_uniform  rev_gain\n",
       "segment                                       \n",
       "business  4.206123e+07  4.186692e+07  0.464117\n",
       "leisure   1.713435e+08  1.729274e+08 -0.915929\n",
       "mixed     5.006035e+08  4.986636e+08  0.389028"
      ]
     },
     "execution_count": 14,
     "metadata": {},
     "output_type": "execute_result"
    }
   ],
   "source": [
    "# Actual revenue\n",
    "sample['rev_actual'] = sample['avgprice'] * sample['passengers']\n",
    "\n",
    "# Uniform price: charge everyone the route-quarter mean\n",
    "sample['avg_uniform'] = sample.groupby(['route','year','quarter'])['avgprice'].transform('mean')\n",
    "sample['rev_uniform'] = sample['avg_uniform'] * sample['passengers']\n",
    "\n",
    "rev_comparison = (sample.groupby('segment')[['rev_actual','rev_uniform']]\n",
    "                    .sum().assign(rev_gain=lambda x: (x.rev_actual/x.rev_uniform-1)*100))\n",
    "rev_comparison"
   ]
  },
  {
   "cell_type": "code",
   "execution_count": 15,
   "metadata": {},
   "outputs": [
    {
     "data": {
      "text/plain": [
       "<Axes: xlabel='cluster', ylabel='avgprice'>"
      ]
     },
     "execution_count": 15,
     "metadata": {},
     "output_type": "execute_result"
    },
    {
     "data": {
      "image/png": "[encoded data removed]",
      "text/plain": [
       "<Figure size 640x480 with 1 Axes>"
      ]
     },
     "metadata": {},
     "output_type": "display_data"
    }
   ],
   "source": [
    "from sklearn.preprocessing import StandardScaler\n",
    "from sklearn.cluster import KMeans\n",
    "\n",
    "X = sample[['rel_fare','stops','return']].copy()\n",
    "X = StandardScaler().fit_transform(X)\n",
    "\n",
    "sample['cluster'] = KMeans(n_clusters=2, random_state=0).fit_predict(X)\n",
    "sns.boxplot(x='cluster', y='avgprice', data=sample)"
   ]
  },
  {
   "cell_type": "code",
   "execution_count": 16,
   "metadata": {},
   "outputs": [
    {
     "data": {
      "text/plain": [
       "Index(['origin', 'finaldest', 'return', 'year', 'quarter', 'airports',\n",
       "       'return_sym', 'stops', 'avgprice', 'passengers', 'itinfare',\n",
       "       'sharelargest', 'share16', 'share9E', 'share9L', 'shareAA', 'shareAS',\n",
       "       'shareB6', 'shareCO', 'shareCP', 'shareCS', 'shareDL', 'shareEV',\n",
       "       'shareF8', 'shareF9', 'shareFL', 'shareG4', 'shareG7', 'shareHA',\n",
       "       'shareL3', 'shareMQ', 'shareNK', 'shareOH', 'shareOO', 'shareOW',\n",
       "       'shareQX', 'shareRP', 'shareS5', 'shareSY', 'shareU5', 'shareUA',\n",
       "       'shareUS', 'shareVX', 'shareWN', 'shareXE', 'shareXJ', 'shareYV',\n",
       "       'shareYX', 'shareZW', 'treated', 'smallmkt', 'code_O', 'icao_O',\n",
       "       'name_O', 'latitude_O', 'longitude_O', 'elevation_O', 'url_O',\n",
       "       'time_zone_O', 'city_code_O', 'country_O', 'city_O', 'state_O',\n",
       "       'county_O', 'type_O', 'code_D', 'icao_D', 'name_D', 'latitude_D',\n",
       "       'longitude_D', 'elevation_D', 'url_D', 'time_zone_D', 'city_code_D',\n",
       "       'country_D', 'city_D', 'state_D', 'county_D', 'type_D', 'airport_O1',\n",
       "       'city_O1', 'state_O1', 'airport_D1', 'city_D1', 'state_D1', 'rel_fare',\n",
       "       'segment', 'route', 'carrier', 'log_avg_price'],\n",
       "      dtype='object')"
      ]
     },
     "execution_count": 16,
     "metadata": {},
     "output_type": "execute_result"
    }
   ],
   "source": [
    "data.columns"
   ]
  },
  {
   "cell_type": "code",
   "execution_count": 17,
   "metadata": {},
   "outputs": [],
   "source": [
    "rich_cities = ['San Francisco', 'New York', 'Boston', 'Seattle', 'Los Angeles', 'Washington', 'Chicago']\n",
    "data['rich_origin'] = data['city_O'].isin(rich_cities).astype(int)\n",
    "data['rich_destination'] = data['city_D'].isin(rich_cities).astype(int)"
   ]
  },
  {
   "cell_type": "code",
   "execution_count": 18,
   "metadata": {},
   "outputs": [
    {
     "data": {
      "text/plain": [
       "rich_origin\n",
       "0    2326529\n",
       "1      18550\n",
       "Name: count, dtype: int64"
      ]
     },
     "execution_count": 18,
     "metadata": {},
     "output_type": "execute_result"
    }
   ],
   "source": [
    "data['rich_origin'].value_counts()"
   ]
  },
  {
   "cell_type": "code",
   "execution_count": 19,
   "metadata": {},
   "outputs": [
    {
     "data": {
      "text/plain": [
       "rich_origin\n",
       "0    432.674551\n",
       "1    377.535447\n",
       "Name: avgprice, dtype: float64"
      ]
     },
     "execution_count": 19,
     "metadata": {},
     "output_type": "execute_result"
    }
   ],
   "source": [
    "data.groupby('rich_origin')['avgprice'].mean()"
   ]
  },
  {
   "cell_type": "code",
   "execution_count": 20,
   "metadata": {},
   "outputs": [
    {
     "name": "stdout",
     "output_type": "stream",
     "text": [
      "                  rich_origin  rich_destination\n",
      "rich_origin            1.0000           -0.0031\n",
      "rich_destination      -0.0031            1.0000\n"
     ]
    }
   ],
   "source": [
    "print(data[['rich_origin','rich_destination']].corr())"
   ]
  },
  {
   "cell_type": "code",
   "execution_count": 21,
   "metadata": {},
   "outputs": [
    {
     "data": {
      "text/plain": [
       "count    2.345079e+06\n",
       "mean     4.322384e+02\n",
       "std      2.528049e+02\n",
       "min      0.000000e+00\n",
       "25%      2.686667e+02\n",
       "50%      4.021892e+02\n",
       "75%      5.452000e+02\n",
       "max      7.063000e+03\n",
       "Name: avgprice, dtype: float64"
      ]
     },
     "execution_count": 21,
     "metadata": {},
     "output_type": "execute_result"
    }
   ],
   "source": [
    "data['avgprice'].describe()"
   ]
  },
  {
   "cell_type": "code",
   "execution_count": 22,
   "metadata": {},
   "outputs": [
    {
     "data": {
      "text/plain": [
       "np.int64(0)"
      ]
     },
     "execution_count": 22,
     "metadata": {},
     "output_type": "execute_result"
    }
   ],
   "source": [
    "data['avgprice'].describe()\n",
    "(data['avgprice'] <= 0).sum()\n",
    "data['avgprice'].isna().sum()"
   ]
  },
  {
   "cell_type": "code",
   "execution_count": 23,
   "metadata": {},
   "outputs": [
    {
     "data": {
      "text/plain": [
       "rich_destination\n",
       "0    2326322\n",
       "1      18757\n",
       "Name: count, dtype: int64"
      ]
     },
     "execution_count": 23,
     "metadata": {},
     "output_type": "execute_result"
    }
   ],
   "source": [
    "data['rich_origin'].value_counts(dropna=False)\n",
    "data['rich_destination'].value_counts(dropna=False)"
   ]
  },
  {
   "cell_type": "code",
   "execution_count": 24,
   "metadata": {},
   "outputs": [
    {
     "data": {
      "text/plain": [
       "Index(['origin', 'finaldest', 'return', 'year', 'quarter', 'airports',\n",
       "       'return_sym', 'stops', 'avgprice', 'passengers', 'itinfare',\n",
       "       'sharelargest', 'share16', 'share9E', 'share9L', 'shareAA', 'shareAS',\n",
       "       'shareB6', 'shareCO', 'shareCP', 'shareCS', 'shareDL', 'shareEV',\n",
       "       'shareF8', 'shareF9', 'shareFL', 'shareG4', 'shareG7', 'shareHA',\n",
       "       'shareL3', 'shareMQ', 'shareNK', 'shareOH', 'shareOO', 'shareOW',\n",
       "       'shareQX', 'shareRP', 'shareS5', 'shareSY', 'shareU5', 'shareUA',\n",
       "       'shareUS', 'shareVX', 'shareWN', 'shareXE', 'shareXJ', 'shareYV',\n",
       "       'shareYX', 'shareZW', 'treated', 'smallmkt', 'code_O', 'icao_O',\n",
       "       'name_O', 'latitude_O', 'longitude_O', 'elevation_O', 'url_O',\n",
       "       'time_zone_O', 'city_code_O', 'country_O', 'city_O', 'state_O',\n",
       "       'county_O', 'type_O', 'code_D', 'icao_D', 'name_D', 'latitude_D',\n",
       "       'longitude_D', 'elevation_D', 'url_D', 'time_zone_D', 'city_code_D',\n",
       "       'country_D', 'city_D', 'state_D', 'county_D', 'type_D', 'airport_O1',\n",
       "       'city_O1', 'state_O1', 'airport_D1', 'city_D1', 'state_D1', 'rel_fare',\n",
       "       'segment', 'route', 'carrier', 'log_avg_price', 'rich_origin',\n",
       "       'rich_destination'],\n",
       "      dtype='object')"
      ]
     },
     "execution_count": 24,
     "metadata": {},
     "output_type": "execute_result"
    }
   ],
   "source": [
    "data.columns"
   ]
  },
  {
   "cell_type": "code",
   "execution_count": 25,
   "metadata": {},
   "outputs": [],
   "source": [
    "data['rich_origin'] = data['rich_origin'].fillna(0).astype(int)\n",
    "data['rich_destination'] = data['rich_destination'].fillna(0).astype(int)"
   ]
  },
  {
   "cell_type": "code",
   "execution_count": 26,
   "metadata": {},
   "outputs": [
    {
     "name": "stdout",
     "output_type": "stream",
     "text": [
      "         avgprice  log_avg_price\n",
      "225           0.0           -inf\n",
      "237           0.0           -inf\n",
      "249           0.0           -inf\n",
      "1115          0.0           -inf\n",
      "1293          0.0           -inf\n",
      "...           ...            ...\n",
      "2342224       0.0           -inf\n",
      "2342371       0.0           -inf\n",
      "2343607       0.0           -inf\n",
      "2344318       0.0           -inf\n",
      "2345060       0.0           -inf\n",
      "\n",
      "[9796 rows x 2 columns]\n"
     ]
    }
   ],
   "source": [
    "negative_log_avgprice = data[data['log_avg_price'] < 0]\n",
    "print(negative_log_avgprice[['avgprice', 'log_avg_price']])"
   ]
  },
  {
   "cell_type": "code",
   "execution_count": 27,
   "metadata": {},
   "outputs": [
    {
     "name": "stdout",
     "output_type": "stream",
     "text": [
      "                            OLS Regression Results                            \n",
      "==============================================================================\n",
      "Dep. Variable:          log_avg_price   R-squared:                       0.000\n",
      "Model:                            OLS   Adj. R-squared:                  0.000\n",
      "Method:                 Least Squares   F-statistic:                     525.7\n",
      "Date:                Mon, 06 Oct 2025   Prob (F-statistic):          5.53e-229\n",
      "Time:                        16:24:33   Log-Likelihood:            -2.6656e+06\n",
      "No. Observations:             2335297   AIC:                         5.331e+06\n",
      "Df Residuals:                 2335294   BIC:                         5.331e+06\n",
      "Df Model:                           2                                         \n",
      "Covariance Type:            nonrobust                                         \n",
      "====================================================================================\n",
      "                       coef    std err          t      P>|t|      [0.025      0.975]\n",
      "------------------------------------------------------------------------------------\n",
      "Intercept            5.8768      0.000   1.18e+04      0.000       5.876       5.878\n",
      "rich_origin         -0.1523      0.006    -27.180      0.000      -0.163      -0.141\n",
      "rich_destination    -0.0988      0.006    -17.767      0.000      -0.110      -0.088\n",
      "==============================================================================\n",
      "Omnibus:                  1198728.922   Durbin-Watson:                   1.027\n",
      "Prob(Omnibus):                  0.000   Jarque-Bera (JB):         10876664.106\n",
      "Skew:                          -2.306   Prob(JB):                         0.00\n",
      "Kurtosis:                      12.513   Cond. No.                         11.3\n",
      "==============================================================================\n",
      "\n",
      "Notes:\n",
      "[1] Standard Errors assume that the covariance matrix of the errors is correctly specified.\n"
     ]
    }
   ],
   "source": [
    "data_no_neginf = data[~np.isneginf(data['log_avg_price'])]\n",
    "m = smf.ols('log_avg_price ~ rich_origin + rich_destination', data=data_no_neginf).fit()\n",
    "print(m.summary())"
   ]
  },
  {
   "cell_type": "markdown",
   "metadata": {},
   "source": [
    "### II. Regression"
   ]
  },
  {
   "cell_type": "markdown",
   "metadata": {},
   "source": [
    "In this regression, I examine how airline competition and market characteristics affect ticket pricing across U.S. domestic routes.\n",
    "\n",
    "The main goal is to test whether prices **decrease when more airlines operate on the same route** — a key assumption of **competitive markets**."
   ]
  },
  {
   "cell_type": "markdown",
   "metadata": {},
   "source": [
    "The variable `n_carriers` captures the number of airlines per route, serving as a proxy for competition intensity.\n",
    "\n",
    "I control for flight characteristics (`stops`), carrier-specific pricing differences (C(`carrier`)), and regional income effects (`rich_origin`, `rich_destination`) to isolate the impact of competition on fares.\n",
    "\n",
    "By analyzing these relationships, I aim to detect potential evidence of **monopoly-based price** discrimination and assess whether competition actually translates into lower consumer prices in the airline industry."
   ]
  },
  {
   "cell_type": "code",
   "execution_count": 28,
   "metadata": {},
   "outputs": [],
   "source": [
    "#create n_carriers variable\n",
    "route_comp = data.groupby('route')['carrier'].nunique().reset_index(name='n_carriers')\n",
    "data = data.merge(route_comp, on='route')"
   ]
  },
  {
   "cell_type": "code",
   "execution_count": 29,
   "metadata": {},
   "outputs": [],
   "source": [
    "#make sure there are no -inf log_avg_price\n",
    "data_no_neginf = data[~np.isneginf(data['log_avg_price'])]"
   ]
  },
  {
   "cell_type": "code",
   "execution_count": 30,
   "metadata": {},
   "outputs": [],
   "source": [
    "sample = data_no_neginf.sample(frac=0.15, random_state=42)"
   ]
  },
  {
   "cell_type": "code",
   "execution_count": 31,
   "metadata": {},
   "outputs": [
    {
     "name": "stdout",
     "output_type": "stream",
     "text": [
      "                            OLS Regression Results                            \n",
      "==============================================================================\n",
      "Dep. Variable:          log_avg_price   R-squared:                       0.186\n",
      "Model:                            OLS   Adj. R-squared:                  0.186\n",
      "Method:                 Least Squares   F-statistic:                     2004.\n",
      "Date:                Mon, 06 Oct 2025   Prob (F-statistic):               0.00\n",
      "Time:                        16:24:46   Log-Likelihood:            -3.6365e+05\n",
      "No. Observations:              350295   AIC:                         7.274e+05\n",
      "Df Residuals:                  350254   BIC:                         7.278e+05\n",
      "Df Model:                          40                                         \n",
      "Covariance Type:            nonrobust                                         \n",
      "====================================================================================\n",
      "                       coef    std err          t      P>|t|      [0.025      0.975]\n",
      "------------------------------------------------------------------------------------\n",
      "Intercept            5.4366      0.007    739.051      0.000       5.422       5.451\n",
      "C(carrier)[T.9E]     0.2041      0.008     27.050      0.000       0.189       0.219\n",
      "C(carrier)[T.9L]     0.1045      0.016      6.563      0.000       0.073       0.136\n",
      "C(carrier)[T.AA]     0.1068      0.007     14.740      0.000       0.093       0.121\n",
      "C(carrier)[T.AS]    -0.1461      0.009    -15.773      0.000      -0.164      -0.128\n",
      "C(carrier)[T.B6]    -0.4034      0.013    -31.791      0.000      -0.428      -0.378\n",
      "C(carrier)[T.CO]     0.1725      0.015     11.257      0.000       0.142       0.203\n",
      "C(carrier)[T.CP]     0.2062      0.013     15.738      0.000       0.181       0.232\n",
      "C(carrier)[T.CS]     1.3254      0.091     14.603      0.000       1.148       1.503\n",
      "C(carrier)[T.DL]     0.1588      0.007     22.963      0.000       0.145       0.172\n",
      "C(carrier)[T.EV]     0.1745      0.007     24.499      0.000       0.161       0.189\n",
      "C(carrier)[T.F8]    -0.0149      0.091     -0.164      0.870      -0.193       0.163\n",
      "C(carrier)[T.F9]    -0.2394      0.016    -14.793      0.000      -0.271      -0.208\n",
      "C(carrier)[T.FL]    -0.7412      0.017    -44.393      0.000      -0.774      -0.708\n",
      "C(carrier)[T.G4]    -1.7022      0.015   -112.623      0.000      -1.732      -1.673\n",
      "C(carrier)[T.G7]     0.1630      0.014     11.745      0.000       0.136       0.190\n",
      "C(carrier)[T.HA]     0.0502      0.020      2.538      0.011       0.011       0.089\n",
      "C(carrier)[T.L3]    -0.3384      0.078     -4.332      0.000      -0.492      -0.185\n",
      "C(carrier)[T.MQ]     0.1152      0.008     15.001      0.000       0.100       0.130\n",
      "C(carrier)[T.NK]    -1.1618      0.023    -50.269      0.000      -1.207      -1.116\n",
      "C(carrier)[T.OH]     0.0168      0.013      1.323      0.186      -0.008       0.042\n",
      "C(carrier)[T.OO]     0.1536      0.007     21.329      0.000       0.140       0.168\n",
      "C(carrier)[T.OW]     0.0516      0.020      2.614      0.009       0.013       0.090\n",
      "C(carrier)[T.QX]    -0.2325      0.011    -21.202      0.000      -0.254      -0.211\n",
      "C(carrier)[T.RP]    -0.0034      0.024     -0.142      0.887      -0.051       0.044\n",
      "C(carrier)[T.S5]     0.0730      0.019      3.778      0.000       0.035       0.111\n",
      "C(carrier)[T.SY]    -2.1624      0.033    -65.468      0.000      -2.227      -2.098\n",
      "C(carrier)[T.U5]    -1.3080      0.483     -2.707      0.007      -2.255      -0.361\n",
      "C(carrier)[T.UA]     0.2746      0.008     33.328      0.000       0.258       0.291\n",
      "C(carrier)[T.US]     0.0101      0.008      1.204      0.229      -0.006       0.026\n",
      "C(carrier)[T.VX]    -0.7136      0.071    -10.084      0.000      -0.852      -0.575\n",
      "C(carrier)[T.WN]    -0.4860      0.008    -62.949      0.000      -0.501      -0.471\n",
      "C(carrier)[T.XE]     0.1162      0.014      8.024      0.000       0.088       0.145\n",
      "C(carrier)[T.XJ]     0.0829      0.018      4.519      0.000       0.047       0.119\n",
      "C(carrier)[T.YV]     0.0568      0.012      4.824      0.000       0.034       0.080\n",
      "C(carrier)[T.YX]     0.0140      0.012      1.204      0.229      -0.009       0.037\n",
      "C(carrier)[T.ZW]    -0.0200      0.013     -1.522      0.128      -0.046       0.006\n",
      "n_carriers           0.0247      0.001     45.928      0.000       0.024       0.026\n",
      "stops                0.2436      0.003     94.355      0.000       0.239       0.249\n",
      "rich_origin         -0.1324      0.013    -10.064      0.000      -0.158      -0.107\n",
      "rich_destination    -0.1006      0.013     -7.731      0.000      -0.126      -0.075\n",
      "==============================================================================\n",
      "Omnibus:                   206251.650   Durbin-Watson:                   2.000\n",
      "Prob(Omnibus):                  0.000   Jarque-Bera (JB):          2977785.419\n",
      "Skew:                          -2.575   Prob(JB):                         0.00\n",
      "Kurtosis:                      16.323   Cond. No.                     2.20e+03\n",
      "==============================================================================\n",
      "\n",
      "Notes:\n",
      "[1] Standard Errors assume that the covariance matrix of the errors is correctly specified.\n",
      "[2] The condition number is large, 2.2e+03. This might indicate that there are\n",
      "strong multicollinearity or other numerical problems.\n"
     ]
    }
   ],
   "source": [
    "m_comp = smf.ols(\n",
    "    'log_avg_price ~ n_carriers + stops + C(carrier) + rich_origin + rich_destination',\n",
    "    data=sample\n",
    ").fit()\n",
    "\n",
    "print(m_comp.summary())"
   ]
  },
  {
   "cell_type": "code",
   "execution_count": 32,
   "metadata": {},
   "outputs": [
    {
     "data": {
      "image/png": "[encoded data removed]",
      "text/plain": [
       "<Figure size 640x480 with 1 Axes>"
      ]
     },
     "metadata": {},
     "output_type": "display_data"
    }
   ],
   "source": [
    "sns.boxplot(x='n_carriers', y='log_avg_price', data=sample)\n",
    "plt.title('Average Log Price by Number of Carriers')\n",
    "plt.xlabel('Number of Airlines on Route')\n",
    "plt.ylabel('Log(Average Price)')\n",
    "plt.show()"
   ]
  },
  {
   "cell_type": "code",
   "execution_count": 33,
   "metadata": {},
   "outputs": [
    {
     "name": "stdout",
     "output_type": "stream",
     "text": [
      "                            OLS Regression Results                            \n",
      "==============================================================================\n",
      "Dep. Variable:          log_avg_price   R-squared:                       0.186\n",
      "Model:                            OLS   Adj. R-squared:                  0.186\n",
      "Method:                 Least Squares   F-statistic:                     2003.\n",
      "Date:                Mon, 06 Oct 2025   Prob (F-statistic):               0.00\n",
      "Time:                        16:24:54   Log-Likelihood:            -3.6367e+05\n",
      "No. Observations:              350295   AIC:                         7.274e+05\n",
      "Df Residuals:                  350254   BIC:                         7.279e+05\n",
      "Df Model:                          40                                         \n",
      "Covariance Type:            nonrobust                                         \n",
      "==========================================================================================\n",
      "                             coef    std err          t      P>|t|      [0.025      0.975]\n",
      "------------------------------------------------------------------------------------------\n",
      "Intercept                  5.4351      0.007    739.179      0.000       5.421       5.450\n",
      "C(carrier)[T.9E]           0.2048      0.008     27.147      0.000       0.190       0.220\n",
      "C(carrier)[T.9L]           0.1052      0.016      6.604      0.000       0.074       0.136\n",
      "C(carrier)[T.AA]           0.1076      0.007     14.850      0.000       0.093       0.122\n",
      "C(carrier)[T.AS]          -0.1459      0.009    -15.748      0.000      -0.164      -0.128\n",
      "C(carrier)[T.B6]          -0.4035      0.013    -31.800      0.000      -0.428      -0.379\n",
      "C(carrier)[T.CO]           0.1736      0.015     11.330      0.000       0.144       0.204\n",
      "C(carrier)[T.CP]           0.2067      0.013     15.777      0.000       0.181       0.232\n",
      "C(carrier)[T.CS]           1.3227      0.091     14.573      0.000       1.145       1.501\n",
      "C(carrier)[T.DL]           0.1596      0.007     23.079      0.000       0.146       0.173\n",
      "C(carrier)[T.EV]           0.1753      0.007     24.608      0.000       0.161       0.189\n",
      "C(carrier)[T.F8]          -0.0130      0.091     -0.144      0.886      -0.191       0.165\n",
      "C(carrier)[T.F9]          -0.2389      0.016    -14.767      0.000      -0.271      -0.207\n",
      "C(carrier)[T.FL]          -0.7417      0.017    -44.421      0.000      -0.774      -0.709\n",
      "C(carrier)[T.G4]          -1.7007      0.015   -112.529      0.000      -1.730      -1.671\n",
      "C(carrier)[T.G7]           0.1644      0.014     11.838      0.000       0.137       0.192\n",
      "C(carrier)[T.HA]           0.0508      0.020      2.567      0.010       0.012       0.090\n",
      "C(carrier)[T.L3]          -0.3381      0.078     -4.327      0.000      -0.491      -0.185\n",
      "C(carrier)[T.MQ]           0.1158      0.008     15.073      0.000       0.101       0.131\n",
      "C(carrier)[T.NK]          -1.1612      0.023    -50.242      0.000      -1.207      -1.116\n",
      "C(carrier)[T.OH]           0.0167      0.013      1.317      0.188      -0.008       0.042\n",
      "C(carrier)[T.OO]           0.1547      0.007     21.468      0.000       0.141       0.169\n",
      "C(carrier)[T.OW]           0.0522      0.020      2.643      0.008       0.013       0.091\n",
      "C(carrier)[T.QX]          -0.2323      0.011    -21.178      0.000      -0.254      -0.211\n",
      "C(carrier)[T.RP]          -0.0032      0.024     -0.133      0.894      -0.050       0.044\n",
      "C(carrier)[T.S5]           0.0721      0.019      3.730      0.000       0.034       0.110\n",
      "C(carrier)[T.SY]          -2.1637      0.033    -65.504      0.000      -2.228      -2.099\n",
      "C(carrier)[T.U5]          -1.3058      0.483     -2.702      0.007      -2.253      -0.359\n",
      "C(carrier)[T.UA]           0.2753      0.008     33.403      0.000       0.259       0.291\n",
      "C(carrier)[T.US]           0.0102      0.008      1.214      0.225      -0.006       0.027\n",
      "C(carrier)[T.VX]          -0.7208      0.071    -10.185      0.000      -0.859      -0.582\n",
      "C(carrier)[T.WN]          -0.4850      0.008    -62.835      0.000      -0.500      -0.470\n",
      "C(carrier)[T.XE]           0.1171      0.014      8.089      0.000       0.089       0.145\n",
      "C(carrier)[T.XJ]           0.0827      0.018      4.506      0.000       0.047       0.119\n",
      "C(carrier)[T.YV]           0.0577      0.012      4.901      0.000       0.035       0.081\n",
      "C(carrier)[T.YX]           0.0119      0.012      1.024      0.306      -0.011       0.035\n",
      "C(carrier)[T.ZW]          -0.0208      0.013     -1.583      0.113      -0.047       0.005\n",
      "n_carriers                 0.0246      0.001     45.549      0.000       0.024       0.026\n",
      "rich_origin               -0.2464      0.026     -9.488      0.000      -0.297      -0.195\n",
      "n_carriers:rich_origin     0.0304      0.006      5.107      0.000       0.019       0.042\n",
      "stops                      0.2442      0.003     94.568      0.000       0.239       0.249\n",
      "==============================================================================\n",
      "Omnibus:                   206214.915   Durbin-Watson:                   2.000\n",
      "Prob(Omnibus):                  0.000   Jarque-Bera (JB):          2975290.656\n",
      "Skew:                          -2.575   Prob(JB):                         0.00\n",
      "Kurtosis:                      16.317   Cond. No.                     2.20e+03\n",
      "==============================================================================\n",
      "\n",
      "Notes:\n",
      "[1] Standard Errors assume that the covariance matrix of the errors is correctly specified.\n",
      "[2] The condition number is large, 2.2e+03. This might indicate that there are\n",
      "strong multicollinearity or other numerical problems.\n"
     ]
    }
   ],
   "source": [
    "m_int = smf.ols(\n",
    "    'log_avg_price ~ n_carriers * rich_origin + stops + C(carrier)',\n",
    "    data=sample\n",
    ").fit()\n",
    "print(m_int.summary())"
   ]
  },
  {
   "cell_type": "markdown",
   "metadata": {},
   "source": [
    "The regression results show that competition and market wealth interact in shaping airline pricing.\n",
    "While an increase in the number of carriers is generally associated with higher average fares, this relationship changes depending on route wealth. On routes originating from richer areas, the impact of competition on lowering fares is significantly weaker — airlines appear to maintain higher prices even in more competitive environments, suggesting lower price sensitivity among wealthier travelers.\n",
    "Conversely, in non-rich markets, additional competition may still exert downward pressure on prices.\n",
    "This pattern points to heterogeneous price discrimination across markets — a behavioral rather than purely structural form of discrimination, where passenger income and competition jointly determine pricing flexibility."
   ]
  },
  {
   "cell_type": "markdown",
   "metadata": {},
   "source": [
    "📈 Economic intuition\n",
    "\t•\tRich areas: airlines can rely on stable, inelastic demand (business travelers, high-income households), so prices remain high even with several competitors.\n",
    "\t•\tPoorer areas: passengers are more price-sensitive; competition has a stronger effect on lowering fares.\n",
    "\t•\tImplication: airlines may implicitly practice third-degree price discrimination by market type — adjusting prices not by individual income, but by average income level of origin regions."
   ]
  },
  {
   "cell_type": "code",
   "execution_count": 34,
   "metadata": {},
   "outputs": [
    {
     "data": {
      "image/png": "[encoded data removed]",
      "text/plain": [
       "<Figure size 640x480 with 1 Axes>"
      ]
     },
     "metadata": {},
     "output_type": "display_data"
    }
   ],
   "source": [
    "# Simulate prediction grid\n",
    "n = np.arange(1, 8)\n",
    "rich = [0, 1]\n",
    "pred = []\n",
    "for r in rich:\n",
    "    for nc in n:\n",
    "        pred.append({\n",
    "            \"n_carriers\": nc,\n",
    "            \"rich_origin\": r,\n",
    "            \"predicted_price\": m_int.predict({\"n_carriers\": [nc], \"rich_origin\": [r], \"stops\": [0], \"carrier\": [\"AA\"]})[0]\n",
    "        })\n",
    "df_pred = pd.DataFrame(pred)\n",
    "\n",
    "# Plot\n",
    "for r in rich:\n",
    "    subset = df_pred[df_pred['rich_origin'] == r]\n",
    "    label = \"Rich origin\" if r == 1 else \"Non-rich origin\"\n",
    "    plt.plot(subset['n_carriers'], np.exp(subset['predicted_price']), label=label)\n",
    "\n",
    "plt.legend()\n",
    "plt.xlabel('Number of carriers')\n",
    "plt.ylabel('Predicted average price ($)')\n",
    "plt.title('Interaction: Competition × Wealth of Origin')\n",
    "plt.show()"
   ]
  },
  {
   "cell_type": "markdown",
   "metadata": {},
   "source": [
    "💡 What it means economically\n",
    "\t•\tRich origins: High-income passengers allow airlines to sustain premium pricing even as more carriers enter the market.\n",
    "→ “Competition doesn’t bite as much when customers can afford not to care.”\n",
    "\t•\tNon-rich origins: Even though prices are higher overall, the market is likely smaller and less profitable, with fewer pricing options and possibly higher cost structures per seat."
   ]
  },
  {
   "cell_type": "markdown",
   "metadata": {},
   "source": [
    "### III. Small Rich Cities"
   ]
  },
  {
   "cell_type": "code",
   "execution_count": 35,
   "metadata": {},
   "outputs": [],
   "source": [
    "small_rich_list = [\n",
    "    'Santa Barbara', 'Boulder', 'Napa', 'Park City', 'Charlottesville',\n",
    "    'Scottsdale', 'Greenwich', 'Aspen', 'Bend', 'Key West'\n",
    "]"
   ]
  },
  {
   "cell_type": "code",
   "execution_count": 36,
   "metadata": {},
   "outputs": [
    {
     "data": {
      "text/plain": [
       "Index(['origin', 'finaldest', 'return', 'year', 'quarter', 'airports',\n",
       "       'return_sym', 'stops', 'avgprice', 'passengers', 'itinfare',\n",
       "       'sharelargest', 'share16', 'share9E', 'share9L', 'shareAA', 'shareAS',\n",
       "       'shareB6', 'shareCO', 'shareCP', 'shareCS', 'shareDL', 'shareEV',\n",
       "       'shareF8', 'shareF9', 'shareFL', 'shareG4', 'shareG7', 'shareHA',\n",
       "       'shareL3', 'shareMQ', 'shareNK', 'shareOH', 'shareOO', 'shareOW',\n",
       "       'shareQX', 'shareRP', 'shareS5', 'shareSY', 'shareU5', 'shareUA',\n",
       "       'shareUS', 'shareVX', 'shareWN', 'shareXE', 'shareXJ', 'shareYV',\n",
       "       'shareYX', 'shareZW', 'treated', 'smallmkt', 'code_O', 'icao_O',\n",
       "       'name_O', 'latitude_O', 'longitude_O', 'elevation_O', 'url_O',\n",
       "       'time_zone_O', 'city_code_O', 'country_O', 'city_O', 'state_O',\n",
       "       'county_O', 'type_O', 'code_D', 'icao_D', 'name_D', 'latitude_D',\n",
       "       'longitude_D', 'elevation_D', 'url_D', 'time_zone_D', 'city_code_D',\n",
       "       'country_D', 'city_D', 'state_D', 'county_D', 'type_D', 'airport_O1',\n",
       "       'city_O1', 'state_O1', 'airport_D1', 'city_D1', 'state_D1', 'rel_fare',\n",
       "       'segment', 'route', 'carrier', 'log_avg_price', 'rich_origin',\n",
       "       'rich_destination', 'n_carriers'],\n",
       "      dtype='object')"
      ]
     },
     "execution_count": 36,
     "metadata": {},
     "output_type": "execute_result"
    }
   ],
   "source": [
    "data.columns"
   ]
  },
  {
   "cell_type": "code",
   "execution_count": 41,
   "metadata": {},
   "outputs": [],
   "source": [
    "data['small_rich_city'] = data['city_O'].isin(small_rich_list).astype(int)"
   ]
  },
  {
   "cell_type": "code",
   "execution_count": 42,
   "metadata": {},
   "outputs": [
    {
     "data": {
      "text/plain": [
       "array(['Aspen'], dtype=object)"
      ]
     },
     "execution_count": 42,
     "metadata": {},
     "output_type": "execute_result"
    }
   ],
   "source": [
    "data.loc[data['small_rich_city'] == 1, 'city_O'].unique()\n"
   ]
  },
  {
   "cell_type": "code",
   "execution_count": 43,
   "metadata": {},
   "outputs": [],
   "source": [
    "data['aspen_route'] = ((data['origin'] == 'ASE') | (data['finaldest'] == 'ASE')).astype(int)"
   ]
  },
  {
   "cell_type": "code",
   "execution_count": 44,
   "metadata": {},
   "outputs": [],
   "source": [
    "#make sure there are no -inf log_avg_price\n",
    "data_no_neginf = data[~np.isneginf(data['log_avg_price'])]"
   ]
  },
  {
   "cell_type": "code",
   "execution_count": 45,
   "metadata": {},
   "outputs": [],
   "source": [
    "sample = data_no_neginf.sample(frac=0.15, random_state=42)"
   ]
  },
  {
   "cell_type": "code",
   "execution_count": 46,
   "metadata": {},
   "outputs": [
    {
     "name": "stdout",
     "output_type": "stream",
     "text": [
      "                            OLS Regression Results                            \n",
      "==============================================================================\n",
      "Dep. Variable:          log_avg_price   R-squared:                       0.186\n",
      "Model:                            OLS   Adj. R-squared:                  0.186\n",
      "Method:                 Least Squares   F-statistic:                     2052.\n",
      "Date:                Mon, 06 Oct 2025   Prob (F-statistic):               0.00\n",
      "Time:                        16:26:36   Log-Likelihood:            -3.6371e+05\n",
      "No. Observations:              350295   AIC:                         7.275e+05\n",
      "Df Residuals:                  350255   BIC:                         7.279e+05\n",
      "Df Model:                          39                                         \n",
      "Covariance Type:            nonrobust                                         \n",
      "====================================================================================\n",
      "                       coef    std err          t      P>|t|      [0.025      0.975]\n",
      "------------------------------------------------------------------------------------\n",
      "Intercept            5.4315      0.007    739.209      0.000       5.417       5.446\n",
      "C(carrier)[T.9E]     0.2059      0.008     27.296      0.000       0.191       0.221\n",
      "C(carrier)[T.9L]     0.1057      0.016      6.638      0.000       0.075       0.137\n",
      "C(carrier)[T.AA]     0.1071      0.007     14.791      0.000       0.093       0.121\n",
      "C(carrier)[T.AS]    -0.1451      0.009    -15.668      0.000      -0.163      -0.127\n",
      "C(carrier)[T.B6]    -0.4025      0.013    -31.720      0.000      -0.427      -0.378\n",
      "C(carrier)[T.CO]     0.1735      0.015     11.323      0.000       0.143       0.204\n",
      "C(carrier)[T.CP]     0.2073      0.013     15.818      0.000       0.182       0.233\n",
      "C(carrier)[T.CS]     1.3245      0.091     14.591      0.000       1.147       1.502\n",
      "C(carrier)[T.DL]     0.1600      0.007     23.139      0.000       0.146       0.174\n",
      "C(carrier)[T.EV]     0.1763      0.007     24.746      0.000       0.162       0.190\n",
      "C(carrier)[T.F8]    -0.0122      0.091     -0.135      0.893      -0.190       0.166\n",
      "C(carrier)[T.F9]    -0.2405      0.016    -14.864      0.000      -0.272      -0.209\n",
      "C(carrier)[T.FL]    -0.7414      0.017    -44.397      0.000      -0.774      -0.709\n",
      "C(carrier)[T.G4]    -1.6980      0.015   -112.345      0.000      -1.728      -1.668\n",
      "C(carrier)[T.G7]     0.1630      0.014     11.736      0.000       0.136       0.190\n",
      "C(carrier)[T.HA]     0.0532      0.020      2.689      0.007       0.014       0.092\n",
      "C(carrier)[T.L3]    -0.3654      0.078     -4.669      0.000      -0.519      -0.212\n",
      "C(carrier)[T.MQ]     0.1172      0.008     15.259      0.000       0.102       0.132\n",
      "C(carrier)[T.NK]    -1.1595      0.023    -50.164      0.000      -1.205      -1.114\n",
      "C(carrier)[T.OH]     0.0169      0.013      1.331      0.183      -0.008       0.042\n",
      "C(carrier)[T.OO]     0.1515      0.007     21.005      0.000       0.137       0.166\n",
      "C(carrier)[T.OW]     0.0538      0.020      2.726      0.006       0.015       0.093\n",
      "C(carrier)[T.QX]    -0.2298      0.011    -20.955      0.000      -0.251      -0.208\n",
      "C(carrier)[T.RP]    -0.0029      0.024     -0.122      0.903      -0.050       0.044\n",
      "C(carrier)[T.S5]     0.0695      0.019      3.596      0.000       0.032       0.107\n",
      "C(carrier)[T.SY]    -2.1612      0.033    -65.422      0.000      -2.226      -2.096\n",
      "C(carrier)[T.U5]    -1.3049      0.483     -2.700      0.007      -2.252      -0.358\n",
      "C(carrier)[T.UA]     0.2746      0.008     33.304      0.000       0.258       0.291\n",
      "C(carrier)[T.US]     0.0098      0.008      1.176      0.239      -0.007       0.026\n",
      "C(carrier)[T.VX]    -0.7200      0.071    -10.173      0.000      -0.859      -0.581\n",
      "C(carrier)[T.WN]    -0.4831      0.008    -62.594      0.000      -0.498      -0.468\n",
      "C(carrier)[T.XE]     0.1176      0.014      8.122      0.000       0.089       0.146\n",
      "C(carrier)[T.XJ]     0.0843      0.018      4.595      0.000       0.048       0.120\n",
      "C(carrier)[T.YV]     0.0588      0.012      4.991      0.000       0.036       0.082\n",
      "C(carrier)[T.YX]     0.0098      0.012      0.840      0.401      -0.013       0.033\n",
      "C(carrier)[T.ZW]    -0.0205      0.013     -1.559      0.119      -0.046       0.005\n",
      "aspen_route          0.1050      0.017      6.053      0.000       0.071       0.139\n",
      "n_carriers           0.0249      0.001     46.322      0.000       0.024       0.026\n",
      "stops                0.2446      0.003     94.731      0.000       0.240       0.250\n",
      "==============================================================================\n",
      "Omnibus:                   206242.530   Durbin-Watson:                   2.000\n",
      "Prob(Omnibus):                  0.000   Jarque-Bera (JB):          2974657.324\n",
      "Skew:                          -2.575   Prob(JB):                         0.00\n",
      "Kurtosis:                      16.315   Cond. No.                     2.20e+03\n",
      "==============================================================================\n",
      "\n",
      "Notes:\n",
      "[1] Standard Errors assume that the covariance matrix of the errors is correctly specified.\n",
      "[2] The condition number is large, 2.2e+03. This might indicate that there are\n",
      "strong multicollinearity or other numerical problems.\n"
     ]
    }
   ],
   "source": [
    "m_aspen = smf.ols(\n",
    "    'log_avg_price ~ aspen_route + n_carriers + stops + C(carrier)',\n",
    "    data=sample\n",
    ").fit()\n",
    "print(m_aspen.summary())"
   ]
  },
  {
   "cell_type": "code",
   "execution_count": 47,
   "metadata": {},
   "outputs": [
    {
     "name": "stdout",
     "output_type": "stream",
     "text": [
      "                            OLS Regression Results                            \n",
      "==============================================================================\n",
      "Dep. Variable:          log_avg_price   R-squared:                       0.186\n",
      "Model:                            OLS   Adj. R-squared:                  0.186\n",
      "Method:                 Least Squares   F-statistic:                     2000.\n",
      "Date:                Mon, 06 Oct 2025   Prob (F-statistic):               0.00\n",
      "Time:                        16:26:52   Log-Likelihood:            -3.6371e+05\n",
      "No. Observations:              350295   AIC:                         7.275e+05\n",
      "Df Residuals:                  350254   BIC:                         7.279e+05\n",
      "Df Model:                          40                                         \n",
      "Covariance Type:            nonrobust                                         \n",
      "==========================================================================================\n",
      "                             coef    std err          t      P>|t|      [0.025      0.975]\n",
      "------------------------------------------------------------------------------------------\n",
      "Intercept                  5.4314      0.007    739.015      0.000       5.417       5.446\n",
      "C(carrier)[T.9E]           0.2059      0.008     27.295      0.000       0.191       0.221\n",
      "C(carrier)[T.9L]           0.1058      0.016      6.638      0.000       0.075       0.137\n",
      "C(carrier)[T.AA]           0.1072      0.007     14.793      0.000       0.093       0.121\n",
      "C(carrier)[T.AS]          -0.1451      0.009    -15.663      0.000      -0.163      -0.127\n",
      "C(carrier)[T.B6]          -0.4025      0.013    -31.718      0.000      -0.427      -0.378\n",
      "C(carrier)[T.CO]           0.1736      0.015     11.325      0.000       0.144       0.204\n",
      "C(carrier)[T.CP]           0.2073      0.013     15.817      0.000       0.182       0.233\n",
      "C(carrier)[T.CS]           1.3246      0.091     14.591      0.000       1.147       1.502\n",
      "C(carrier)[T.DL]           0.1601      0.007     23.140      0.000       0.146       0.174\n",
      "C(carrier)[T.EV]           0.1763      0.007     24.749      0.000       0.162       0.190\n",
      "C(carrier)[T.F8]          -0.0123      0.091     -0.135      0.892      -0.190       0.166\n",
      "C(carrier)[T.F9]          -0.2405      0.016    -14.857      0.000      -0.272      -0.209\n",
      "C(carrier)[T.FL]          -0.7413      0.017    -44.397      0.000      -0.774      -0.709\n",
      "C(carrier)[T.G4]          -1.6979      0.015   -112.340      0.000      -1.728      -1.668\n",
      "C(carrier)[T.G7]           0.1631      0.014     11.742      0.000       0.136       0.190\n",
      "C(carrier)[T.HA]           0.0532      0.020      2.691      0.007       0.014       0.092\n",
      "C(carrier)[T.L3]          -0.3659      0.078     -4.674      0.000      -0.519      -0.212\n",
      "C(carrier)[T.MQ]           0.1172      0.008     15.260      0.000       0.102       0.132\n",
      "C(carrier)[T.NK]          -1.1595      0.023    -50.162      0.000      -1.205      -1.114\n",
      "C(carrier)[T.OH]           0.0169      0.013      1.330      0.184      -0.008       0.042\n",
      "C(carrier)[T.OO]           0.1515      0.007     20.995      0.000       0.137       0.166\n",
      "C(carrier)[T.OW]           0.0538      0.020      2.727      0.006       0.015       0.093\n",
      "C(carrier)[T.QX]          -0.2298      0.011    -20.950      0.000      -0.251      -0.208\n",
      "C(carrier)[T.RP]          -0.0029      0.024     -0.122      0.903      -0.050       0.044\n",
      "C(carrier)[T.S5]           0.0696      0.019      3.601      0.000       0.032       0.107\n",
      "C(carrier)[T.SY]          -2.1612      0.033    -65.420      0.000      -2.226      -2.096\n",
      "C(carrier)[T.U5]          -1.3050      0.483     -2.700      0.007      -2.252      -0.358\n",
      "C(carrier)[T.UA]           0.2746      0.008     33.305      0.000       0.258       0.291\n",
      "C(carrier)[T.US]           0.0099      0.008      1.177      0.239      -0.007       0.026\n",
      "C(carrier)[T.VX]          -0.7200      0.071    -10.172      0.000      -0.859      -0.581\n",
      "C(carrier)[T.WN]          -0.4831      0.008    -62.587      0.000      -0.498      -0.468\n",
      "C(carrier)[T.XE]           0.1176      0.014      8.124      0.000       0.089       0.146\n",
      "C(carrier)[T.XJ]           0.0843      0.018      4.595      0.000       0.048       0.120\n",
      "C(carrier)[T.YV]           0.0588      0.012      4.992      0.000       0.036       0.082\n",
      "C(carrier)[T.YX]           0.0098      0.012      0.837      0.403      -0.013       0.033\n",
      "C(carrier)[T.ZW]          -0.0205      0.013     -1.560      0.119      -0.046       0.005\n",
      "aspen_route                0.1184      0.036      3.332      0.001       0.049       0.188\n",
      "n_carriers                 0.0250      0.001     46.275      0.000       0.024       0.026\n",
      "aspen_route:n_carriers    -0.0033      0.008     -0.432      0.666      -0.018       0.012\n",
      "stops                      0.2446      0.003     94.731      0.000       0.240       0.250\n",
      "==============================================================================\n",
      "Omnibus:                   206242.415   Durbin-Watson:                   2.000\n",
      "Prob(Omnibus):                  0.000   Jarque-Bera (JB):          2974656.912\n",
      "Skew:                          -2.575   Prob(JB):                         0.00\n",
      "Kurtosis:                      16.315   Cond. No.                     2.20e+03\n",
      "==============================================================================\n",
      "\n",
      "Notes:\n",
      "[1] Standard Errors assume that the covariance matrix of the errors is correctly specified.\n",
      "[2] The condition number is large, 2.2e+03. This might indicate that there are\n",
      "strong multicollinearity or other numerical problems.\n"
     ]
    }
   ],
   "source": [
    "m_aspen_int = smf.ols(\n",
    "    'log_avg_price ~ aspen_route * n_carriers + stops + C(carrier)',\n",
    "    data=sample\n",
    ").fit()\n",
    "print(m_aspen_int.summary())"
   ]
  },
  {
   "cell_type": "markdown",
   "metadata": {},
   "source": [
    "So your model tests three things:\n",
    "1️⃣ Is Aspen more expensive overall?\n",
    "2️⃣ Does competition (n_carriers) affect prices in general?\n",
    "3️⃣ Does competition affect Aspen differently from other routes? (That’s the interaction term.)"
   ]
  },
  {
   "cell_type": "markdown",
   "metadata": {},
   "source": [
    "🧠 Economic interpretation\n",
    "\n",
    "1️⃣ Aspen premium: confirmed\n",
    "\n",
    "Flights involving Aspen are significantly more expensive (about 16%) even after controlling for everything else.\n",
    "→ That’s systematic price discrimination based on market wealth and isolation.\n",
    "\n",
    "2️⃣ Competition doesn’t matter much there\n",
    "\n",
    "The interaction (aspen_route:n_carriers) is not statistically significant — meaning even when more airlines fly Aspen routes, prices don’t fall.\n",
    "→ This is classic inelastic demand: wealthy passengers and seasonal luxury travel make competition less effective.\n",
    "Airlines can sustain higher fares without losing customers.\n",
    "\n",
    "3️⃣ Big picture\n",
    "\t•\tIn most markets: competition → small price increase (maybe demand effect).\n",
    "\t•\tIn Aspen: prices stay high regardless of competition → persistent market power.\n",
    "\n",
    "This suggests Aspen operates as a premium niche market, not a competitive one.\n",
    "\n",
    "⸻\n"
   ]
  },
  {
   "cell_type": "markdown",
   "metadata": {},
   "source": [
    "#### Jackson"
   ]
  },
  {
   "cell_type": "code",
   "execution_count": 48,
   "metadata": {},
   "outputs": [],
   "source": [
    "data['jackson_route'] = ((data['origin'] == 'JAC') | (data['finaldest'] == 'JAC')).astype(int)"
   ]
  },
  {
   "cell_type": "code",
   "execution_count": 49,
   "metadata": {},
   "outputs": [],
   "source": [
    "#make sure there are no -inf log_avg_price\n",
    "data_no_neginf = data[~np.isneginf(data['log_avg_price'])]"
   ]
  },
  {
   "cell_type": "code",
   "execution_count": 62,
   "metadata": {},
   "outputs": [],
   "source": [
    "sample = data_no_neginf.sample(frac=0.25, random_state=42)"
   ]
  },
  {
   "cell_type": "code",
   "execution_count": 63,
   "metadata": {},
   "outputs": [
    {
     "name": "stdout",
     "output_type": "stream",
     "text": [
      "                            OLS Regression Results                            \n",
      "==============================================================================\n",
      "Dep. Variable:          log_avg_price   R-squared:                       0.185\n",
      "Model:                            OLS   Adj. R-squared:                  0.185\n",
      "Method:                 Least Squares   F-statistic:                 1.327e+04\n",
      "Date:                Mon, 06 Oct 2025   Prob (F-statistic):               0.00\n",
      "Time:                        16:16:17   Log-Likelihood:            -2.4270e+06\n",
      "No. Observations:             2335297   AIC:                         4.854e+06\n",
      "Df Residuals:                 2335256   BIC:                         4.855e+06\n",
      "Df Model:                          40                                         \n",
      "Covariance Type:            nonrobust                                         \n",
      "============================================================================================\n",
      "                               coef    std err          t      P>|t|      [0.025      0.975]\n",
      "--------------------------------------------------------------------------------------------\n",
      "Intercept                    5.4359      0.003   1905.473      0.000       5.430       5.442\n",
      "C(carrier)[T.9E]             0.1997      0.003     68.290      0.000       0.194       0.205\n",
      "C(carrier)[T.9L]             0.1073      0.006     17.402      0.000       0.095       0.119\n",
      "C(carrier)[T.AA]             0.0955      0.003     34.004      0.000       0.090       0.101\n",
      "C(carrier)[T.AS]            -0.1435      0.004    -39.897      0.000      -0.151      -0.136\n",
      "C(carrier)[T.B6]            -0.4420      0.005    -89.688      0.000      -0.452      -0.432\n",
      "C(carrier)[T.CO]             0.1741      0.006     29.203      0.000       0.162       0.186\n",
      "C(carrier)[T.CP]             0.2083      0.005     41.075      0.000       0.198       0.218\n",
      "C(carrier)[T.CS]             1.2578      0.037     33.871      0.000       1.185       1.331\n",
      "C(carrier)[T.DL]             0.1561      0.003     58.152      0.000       0.151       0.161\n",
      "C(carrier)[T.EV]             0.1751      0.003     63.315      0.000       0.170       0.181\n",
      "C(carrier)[T.F8]            -0.0244      0.037     -0.668      0.504      -0.096       0.047\n",
      "C(carrier)[T.F9]            -0.2329      0.006    -37.073      0.000      -0.245      -0.221\n",
      "C(carrier)[T.FL]            -0.7422      0.007   -114.129      0.000      -0.755      -0.729\n",
      "C(carrier)[T.G4]            -1.6929      0.006   -288.986      0.000      -1.704      -1.681\n",
      "C(carrier)[T.G7]             0.1588      0.005     29.388      0.000       0.148       0.169\n",
      "C(carrier)[T.HA]             0.0560      0.008      7.301      0.000       0.041       0.071\n",
      "C(carrier)[T.L3]            -0.2734      0.030     -9.083      0.000      -0.332      -0.214\n",
      "C(carrier)[T.MQ]             0.1158      0.003     38.879      0.000       0.110       0.122\n",
      "C(carrier)[T.NK]            -1.1501      0.009   -128.652      0.000      -1.168      -1.133\n",
      "C(carrier)[T.OH]            -0.0044      0.005     -0.885      0.376      -0.014       0.005\n",
      "C(carrier)[T.OO]             0.1515      0.003     54.145      0.000       0.146       0.157\n",
      "C(carrier)[T.OW]             0.0349      0.008      4.592      0.000       0.020       0.050\n",
      "C(carrier)[T.QX]            -0.2437      0.004    -57.436      0.000      -0.252      -0.235\n",
      "C(carrier)[T.RP]             0.0461      0.009      5.019      0.000       0.028       0.064\n",
      "C(carrier)[T.S5]             0.0614      0.007      8.197      0.000       0.047       0.076\n",
      "C(carrier)[T.SY]            -2.1207      0.012   -170.937      0.000      -2.145      -2.096\n",
      "C(carrier)[T.U5]            -1.1215      0.143     -7.861      0.000      -1.401      -0.842\n",
      "C(carrier)[T.UA]             0.2682      0.003     83.829      0.000       0.262       0.274\n",
      "C(carrier)[T.US]             0.0094      0.003      2.900      0.004       0.003       0.016\n",
      "C(carrier)[T.VX]            -0.6969      0.029    -24.085      0.000      -0.754      -0.640\n",
      "C(carrier)[T.WN]            -0.4794      0.003   -159.982      0.000      -0.485      -0.473\n",
      "C(carrier)[T.XE]             0.1455      0.006     26.235      0.000       0.135       0.156\n",
      "C(carrier)[T.XJ]             0.0688      0.007      9.695      0.000       0.055       0.083\n",
      "C(carrier)[T.YV]             0.0700      0.005     15.230      0.000       0.061       0.079\n",
      "C(carrier)[T.YX]             0.0057      0.005      1.254      0.210      -0.003       0.015\n",
      "C(carrier)[T.ZW]            -0.0058      0.005     -1.144      0.252      -0.016       0.004\n",
      "jackson_route                0.1070      0.015      7.258      0.000       0.078       0.136\n",
      "n_carriers                   0.0253      0.000    121.251      0.000       0.025       0.026\n",
      "jackson_route:n_carriers    -0.0083      0.003     -3.134      0.002      -0.013      -0.003\n",
      "stops                        0.2427      0.001    241.978      0.000       0.241       0.245\n",
      "==============================================================================\n",
      "Omnibus:                  1377957.999   Durbin-Watson:                   1.290\n",
      "Prob(Omnibus):                  0.000   Jarque-Bera (JB):         19980117.856\n",
      "Skew:                          -2.581   Prob(JB):                         0.00\n",
      "Kurtosis:                      16.367   Cond. No.                     1.67e+03\n",
      "==============================================================================\n",
      "\n",
      "Notes:\n",
      "[1] Standard Errors assume that the covariance matrix of the errors is correctly specified.\n",
      "[2] The condition number is large, 1.67e+03. This might indicate that there are\n",
      "strong multicollinearity or other numerical problems.\n"
     ]
    }
   ],
   "source": [
    "m_jac = smf.ols(\n",
    "    'log_avg_price ~ jackson_route * n_carriers + stops + C(carrier)',\n",
    "    data=data_no_neginf\n",
    ").fit()\n",
    "print(m_jac.summary())"
   ]
  },
  {
   "cell_type": "code",
   "execution_count": 50,
   "metadata": {},
   "outputs": [],
   "source": [
    "data['aspen_route'] = ((data['city_O'] == 'Aspen') | (data['city_D'] == 'Aspen')).astype(int)\n",
    "data['jackson_route'] = ((data['city_O'] == 'Jackson') | (data['city_D'] == 'Jackson')).astype(int)"
   ]
  },
  {
   "cell_type": "code",
   "execution_count": 51,
   "metadata": {},
   "outputs": [
    {
     "name": "stdout",
     "output_type": "stream",
     "text": [
      "                            OLS Regression Results                            \n",
      "==============================================================================\n",
      "Dep. Variable:          log_avg_price   R-squared:                       0.185\n",
      "Model:                            OLS   Adj. R-squared:                  0.185\n",
      "Method:                 Least Squares   F-statistic:                 1.265e+04\n",
      "Date:                Mon, 06 Oct 2025   Prob (F-statistic):               0.00\n",
      "Time:                        16:30:32   Log-Likelihood:            -2.4268e+06\n",
      "No. Observations:             2335297   AIC:                         4.854e+06\n",
      "Df Residuals:                 2335254   BIC:                         4.854e+06\n",
      "Df Model:                          42                                         \n",
      "Covariance Type:            nonrobust                                         \n",
      "============================================================================================\n",
      "                               coef    std err          t      P>|t|      [0.025      0.975]\n",
      "--------------------------------------------------------------------------------------------\n",
      "Intercept                    5.4353      0.003   1904.881      0.000       5.430       5.441\n",
      "C(carrier)[T.9E]             0.1997      0.003     68.303      0.000       0.194       0.205\n",
      "C(carrier)[T.9L]             0.1070      0.006     17.356      0.000       0.095       0.119\n",
      "C(carrier)[T.AA]             0.0956      0.003     34.023      0.000       0.090       0.101\n",
      "C(carrier)[T.AS]            -0.1433      0.004    -39.841      0.000      -0.150      -0.136\n",
      "C(carrier)[T.B6]            -0.4418      0.005    -89.648      0.000      -0.451      -0.432\n",
      "C(carrier)[T.CO]             0.1736      0.006     29.122      0.000       0.162       0.185\n",
      "C(carrier)[T.CP]             0.2083      0.005     41.071      0.000       0.198       0.218\n",
      "C(carrier)[T.CS]             1.2579      0.037     33.874      0.000       1.185       1.331\n",
      "C(carrier)[T.DL]             0.1562      0.003     58.176      0.000       0.151       0.161\n",
      "C(carrier)[T.EV]             0.1748      0.003     63.204      0.000       0.169       0.180\n",
      "C(carrier)[T.F8]            -0.0245      0.037     -0.671      0.502      -0.096       0.047\n",
      "C(carrier)[T.F9]            -0.2346      0.006    -37.327      0.000      -0.247      -0.222\n",
      "C(carrier)[T.FL]            -0.7421      0.007   -114.118      0.000      -0.755      -0.729\n",
      "C(carrier)[T.G4]            -1.6925      0.006   -288.928      0.000      -1.704      -1.681\n",
      "C(carrier)[T.G7]             0.1569      0.005     29.023      0.000       0.146       0.168\n",
      "C(carrier)[T.HA]             0.0562      0.008      7.325      0.000       0.041       0.071\n",
      "C(carrier)[T.L3]            -0.3058      0.030    -10.143      0.000      -0.365      -0.247\n",
      "C(carrier)[T.MQ]             0.1157      0.003     38.842      0.000       0.110       0.122\n",
      "C(carrier)[T.NK]            -1.1498      0.009   -128.628      0.000      -1.167      -1.132\n",
      "C(carrier)[T.OH]            -0.0044      0.005     -0.895      0.371      -0.014       0.005\n",
      "C(carrier)[T.OO]             0.1486      0.003     53.047      0.000       0.143       0.154\n",
      "C(carrier)[T.OW]             0.0349      0.008      4.594      0.000       0.020       0.050\n",
      "C(carrier)[T.QX]            -0.2435      0.004    -57.381      0.000      -0.252      -0.235\n",
      "C(carrier)[T.RP]             0.0460      0.009      5.009      0.000       0.028       0.064\n",
      "C(carrier)[T.S5]             0.0603      0.007      8.051      0.000       0.046       0.075\n",
      "C(carrier)[T.SY]            -2.1203      0.012   -170.912      0.000      -2.145      -2.096\n",
      "C(carrier)[T.U5]            -1.1215      0.143     -7.862      0.000      -1.401      -0.842\n",
      "C(carrier)[T.UA]             0.2668      0.003     83.376      0.000       0.260       0.273\n",
      "C(carrier)[T.US]             0.0094      0.003      2.899      0.004       0.003       0.016\n",
      "C(carrier)[T.VX]            -0.6967      0.029    -24.081      0.000      -0.753      -0.640\n",
      "C(carrier)[T.WN]            -0.4791      0.003   -159.911      0.000      -0.485      -0.473\n",
      "C(carrier)[T.XE]             0.1449      0.006     26.131      0.000       0.134       0.156\n",
      "C(carrier)[T.XJ]             0.0689      0.007      9.705      0.000       0.055       0.083\n",
      "C(carrier)[T.YV]             0.0699      0.005     15.198      0.000       0.061       0.079\n",
      "C(carrier)[T.YX]             0.0044      0.005      0.957      0.339      -0.005       0.013\n",
      "C(carrier)[T.ZW]            -0.0059      0.005     -1.162      0.245      -0.016       0.004\n",
      "aspen_route                  0.1796      0.014     12.882      0.000       0.152       0.207\n",
      "n_carriers                   0.0254      0.000    121.403      0.000       0.025       0.026\n",
      "aspen_route:n_carriers      -0.0143      0.003     -4.758      0.000      -0.020      -0.008\n",
      "jackson_route                0.1057      0.015      7.174      0.000       0.077       0.135\n",
      "jackson_route:n_carriers    -0.0080      0.003     -3.020      0.003      -0.013      -0.003\n",
      "stops                        0.2429      0.001    242.199      0.000       0.241       0.245\n",
      "==============================================================================\n",
      "Omnibus:                  1378472.429   Durbin-Watson:                   1.290\n",
      "Prob(Omnibus):                  0.000   Jarque-Bera (JB):         20006448.040\n",
      "Skew:                          -2.582   Prob(JB):                         0.00\n",
      "Kurtosis:                      16.377   Cond. No.                     1.67e+03\n",
      "==============================================================================\n",
      "\n",
      "Notes:\n",
      "[1] Standard Errors assume that the covariance matrix of the errors is correctly specified.\n",
      "[2] The condition number is large, 1.67e+03. This might indicate that there are\n",
      "strong multicollinearity or other numerical problems.\n"
     ]
    }
   ],
   "source": [
    "m_city = smf.ols(\n",
    "    'log_avg_price ~ aspen_route * n_carriers + jackson_route * n_carriers + stops + C(carrier)',\n",
    "    data=data_no_neginf\n",
    ").fit()\n",
    "print(m_city.summary())"
   ]
  },
  {
   "cell_type": "markdown",
   "metadata": {},
   "source": [
    "### IV Simulatin for both cties"
   ]
  },
  {
   "cell_type": "code",
   "execution_count": 52,
   "metadata": {},
   "outputs": [
    {
     "name": "stdout",
     "output_type": "stream",
     "text": [
      "      city  price_actual  price_counterfactual  price_uniform  \\\n",
      "0    Aspen    443.535151            447.945805     393.090457   \n",
      "1  Jackson    442.560395            441.143369     414.794032   \n",
      "\n",
      "   change_competition_%  change_uniform_%  \n",
      "0              0.994432        -11.373325  \n",
      "1             -0.320188         -6.274028  \n"
     ]
    }
   ],
   "source": [
    "# Step 1: Predict actual log prices\n",
    "data['pred_log_actual'] = m_city.predict(data)\n",
    "data['price_actual'] = np.exp(data['pred_log_actual'])\n",
    "\n",
    "# Step 2: Counterfactual (simulate 5 carriers)\n",
    "results = []\n",
    "\n",
    "for city in ['aspen', 'jackson']:\n",
    "    df_city = data[data[f'{city}_route'] == 1].copy()\n",
    "    df_cf = df_city.copy()\n",
    "    df_cf['n_carriers'] = 5  # simulate 5 competitors\n",
    "    \n",
    "    # Predictions\n",
    "    df_city['price_actual'] = np.exp(m_city.predict(df_city))\n",
    "    df_cf['price_counterfactual'] = np.exp(m_city.predict(df_cf))\n",
    "    \n",
    "    # Uniform pricing (remove discrimination)\n",
    "    df_uniform = df_city.copy()\n",
    "    df_uniform['aspen_route'] = 0\n",
    "    df_uniform['jackson_route'] = 0\n",
    "    df_uniform['price_uniform'] = np.exp(m_city.predict(df_uniform))\n",
    "    \n",
    "    # Summarize\n",
    "    results.append({\n",
    "        'city': city.capitalize(),\n",
    "        'price_actual': df_city['price_actual'].mean(),\n",
    "        'price_counterfactual': df_cf['price_counterfactual'].mean(),\n",
    "        'price_uniform': df_uniform['price_uniform'].mean()\n",
    "    })\n",
    "\n",
    "summary_df = pd.DataFrame(results)\n",
    "summary_df['change_competition_%'] = (summary_df['price_counterfactual'] - summary_df['price_actual']) / summary_df['price_actual'] * 100\n",
    "summary_df['change_uniform_%'] = (summary_df['price_uniform'] - summary_df['price_actual']) / summary_df['price_actual'] * 100\n",
    "\n",
    "print(summary_df)"
   ]
  },
  {
   "cell_type": "code",
   "execution_count": 56,
   "metadata": {},
   "outputs": [
    {
     "data": {
      "image/png": "[encoded data removed]",
      "text/plain": [
       "<Figure size 640x480 with 1 Axes>"
      ]
     },
     "metadata": {},
     "output_type": "display_data"
    }
   ],
   "source": [
    "\n",
    "summary_df_melt = summary_df.melt(id_vars='city', \n",
    "                                  value_vars=['price_actual', 'price_counterfactual', 'price_uniform'],\n",
    "                                  var_name='Scenario', value_name='Price')\n",
    "\n",
    "ax = sns.barplot(data=summary_df_melt, x='city', y='Price', hue='Scenario')\n",
    "plt.title('Counterfactual Airline Pricing: Aspen vs Jackson Hole')\n",
    "plt.ylabel('Predicted Average Price ($)')\n",
    "# Place legend outside the plot area so it does not cover the plot\n",
    "plt.legend(loc='center left', bbox_to_anchor=(1.02, 0.5), borderaxespad=0)\n",
    "plt.tight_layout()\n",
    "plt.show()"
   ]
  },
  {
   "cell_type": "code",
   "execution_count": 57,
   "metadata": {},
   "outputs": [
    {
     "name": "stdout",
     "output_type": "stream",
     "text": [
      "Aspen: Revenue change 1.71%\n",
      "Jackson: Revenue change 0.12%\n"
     ]
    }
   ],
   "source": [
    "for city in ['aspen', 'jackson']:\n",
    "    df_city = data[data[f'{city}_route'] == 1].copy()\n",
    "    df_city['revenue_actual'] = df_city['price_actual'] * df_city['passengers']\n",
    "    \n",
    "    df_cf = df_city.copy()\n",
    "    df_cf['n_carriers'] = 5\n",
    "    df_cf['revenue_cf'] = np.exp(m_city.predict(df_cf)) * df_cf['passengers']\n",
    "    \n",
    "    rev_actual = df_city['revenue_actual'].sum()\n",
    "    rev_cf = df_cf['revenue_cf'].sum()\n",
    "    print(f\"{city.capitalize()}: Revenue change {(rev_cf - rev_actual)/rev_actual*100:.2f}%\")"
   ]
  },
  {
   "cell_type": "markdown",
   "metadata": {},
   "source": [
    "🧠 What this tells us\n",
    "\n",
    "These results show that:\n",
    "\t•\tAspen’s market behaves more competitively — more carriers can increase total airline revenue (because demand expands faster than prices fall).\n",
    "\t•\tJackson’s market is already saturated or less elastic — even if more airlines enter, total market revenue hardly moves.\n",
    "\n",
    "This supports your main narrative:\n",
    "\n",
    "Airlines maintain pricing power on high-income leisure routes. Competition reduces markups in Aspen but has minimal effect in Jackson, where demand is less responsive to fare changes."
   ]
  },
  {
   "cell_type": "markdown",
   "metadata": {},
   "source": [
    "### IV. Simulation"
   ]
  },
  {
   "cell_type": "markdown",
   "metadata": {},
   "source": [
    "We’ll simulate a “what-if” world:\n",
    "\n",
    "What would average fares look like if Aspen had 5 competing carriers,\n",
    "or if airlines could not apply regional price discrimination (i.e., all cities priced equally)?\n",
    "\n",
    "This gives you a causal-style result:\n",
    "\t•\tquantifies price discrimination effect,\n",
    "\t•\tshows market power impact,\n",
    "\t•\tand turns your model into a decision tool."
   ]
  },
  {
   "cell_type": "code",
   "execution_count": 47,
   "metadata": {},
   "outputs": [],
   "source": [
    "m_aspen = smf.ols(\n",
    "    'log_avg_price ~ aspen_route * n_carriers + stops + C(carrier)',\n",
    "    data=sample\n",
    ").fit()"
   ]
  },
  {
   "cell_type": "code",
   "execution_count": 48,
   "metadata": {},
   "outputs": [],
   "source": [
    "import pandas as pd\n",
    "import numpy as np\n",
    "\n",
    "# Start from your sample or subset of data\n",
    "sim_df = sample.copy()\n",
    "\n",
    "# Simulate two worlds:\n",
    "# 1. Current world (as is)\n",
    "# 2. Counterfactual: Aspen has 5 competing carriers\n",
    "sim_df['n_carriers_cf'] = np.where(sim_df['aspen_route'] == 1, 5, sim_df['n_carriers'])"
   ]
  },
  {
   "cell_type": "code",
   "execution_count": 49,
   "metadata": {},
   "outputs": [],
   "source": [
    "# Predict actual log prices\n",
    "sim_df['pred_actual'] = m_aspen.predict(sim_df)\n",
    "\n",
    "# Predict counterfactual log prices (Aspen = 5 carriers)\n",
    "sim_df_cf = sim_df.copy()\n",
    "sim_df_cf['n_carriers'] = sim_df_cf['n_carriers_cf']\n",
    "sim_df['pred_counterfactual'] = m_aspen.predict(sim_df_cf)\n",
    "\n",
    "# Convert to actual price levels\n",
    "sim_df['price_actual'] = np.exp(sim_df['pred_actual'])\n",
    "sim_df['price_counterfactual'] = np.exp(sim_df['pred_counterfactual'])"
   ]
  },
  {
   "cell_type": "code",
   "execution_count": 50,
   "metadata": {},
   "outputs": [
    {
     "data": {
      "text/plain": [
       "price_actual            441.883109\n",
       "price_counterfactual    448.162516\n",
       "change_%                  1.421056\n",
       "dtype: float64"
      ]
     },
     "execution_count": 50,
     "metadata": {},
     "output_type": "execute_result"
    }
   ],
   "source": [
    "# Average effect for Aspen routes only\n",
    "aspen_effect = sim_df.loc[sim_df['aspen_route'] == 1, ['price_actual', 'price_counterfactual']].mean()\n",
    "aspen_effect['change_%'] = (aspen_effect['price_counterfactual'] / aspen_effect['price_actual'] - 1) * 100\n",
    "aspen_effect"
   ]
  },
  {
   "cell_type": "code",
   "execution_count": 51,
   "metadata": {},
   "outputs": [
    {
     "data": {
      "text/plain": [
       "revenue_actual    1.576822e+07\n",
       "revenue_cf        1.615406e+07\n",
       "change_%          2.446955e+00\n",
       "dtype: float64"
      ]
     },
     "execution_count": 51,
     "metadata": {},
     "output_type": "execute_result"
    }
   ],
   "source": [
    "sim_df['revenue_actual'] = sim_df['price_actual'] * sim_df['passengers']\n",
    "sim_df['revenue_cf'] = sim_df['price_counterfactual'] * sim_df['passengers']\n",
    "\n",
    "revenue_diff = sim_df.loc[sim_df['aspen_route'] == 1, ['revenue_actual', 'revenue_cf']].sum()\n",
    "revenue_diff['change_%'] = (revenue_diff['revenue_cf'] / revenue_diff['revenue_actual'] - 1) * 100\n",
    "revenue_diff"
   ]
  },
  {
   "cell_type": "code",
   "execution_count": 52,
   "metadata": {},
   "outputs": [],
   "source": [
    "sim_df_cf2 = sim_df.copy()\n",
    "sim_df_cf2['aspen_route'] = 0\n",
    "sim_df['pred_uniform'] = m_aspen.predict(sim_df_cf2)\n",
    "sim_df['price_uniform'] = np.exp(sim_df['pred_uniform'])"
   ]
  },
  {
   "cell_type": "code",
   "execution_count": 53,
   "metadata": {},
   "outputs": [
    {
     "data": {
      "text/html": [
       "<div>\n",
       "<style scoped>\n",
       "    .dataframe tbody tr th:only-of-type {\n",
       "        vertical-align: middle;\n",
       "    }\n",
       "\n",
       "    .dataframe tbody tr th {\n",
       "        vertical-align: top;\n",
       "    }\n",
       "\n",
       "    .dataframe thead th {\n",
       "        text-align: right;\n",
       "    }\n",
       "</style>\n",
       "<table border=\"1\" class=\"dataframe\">\n",
       "  <thead>\n",
       "    <tr style=\"text-align: right;\">\n",
       "      <th></th>\n",
       "      <th>price_actual</th>\n",
       "      <th>price_uniform</th>\n",
       "      <th>difference_%</th>\n",
       "    </tr>\n",
       "    <tr>\n",
       "      <th>aspen_route</th>\n",
       "      <th></th>\n",
       "      <th></th>\n",
       "      <th></th>\n",
       "    </tr>\n",
       "  </thead>\n",
       "  <tbody>\n",
       "    <tr>\n",
       "      <th>0</th>\n",
       "      <td>370.546563</td>\n",
       "      <td>370.546563</td>\n",
       "      <td>0.000000</td>\n",
       "    </tr>\n",
       "    <tr>\n",
       "      <th>1</th>\n",
       "      <td>441.883109</td>\n",
       "      <td>394.588421</td>\n",
       "      <td>11.985828</td>\n",
       "    </tr>\n",
       "  </tbody>\n",
       "</table>\n",
       "</div>"
      ],
      "text/plain": [
       "             price_actual  price_uniform  difference_%\n",
       "aspen_route                                           \n",
       "0              370.546563     370.546563      0.000000\n",
       "1              441.883109     394.588421     11.985828"
      ]
     },
     "execution_count": 53,
     "metadata": {},
     "output_type": "execute_result"
    }
   ],
   "source": [
    "price_gap = (\n",
    "    sim_df.groupby('aspen_route')[['price_actual', 'price_uniform']].mean()\n",
    ")\n",
    "price_gap['difference_%'] = (\n",
    "    (price_gap['price_actual'] / price_gap['price_uniform'] - 1) * 100\n",
    ")\n",
    "price_gap"
   ]
  },
  {
   "cell_type": "code",
   "execution_count": 54,
   "metadata": {},
   "outputs": [
    {
     "data": {
      "image/png": "[encoded data removed]",
      "text/plain": [
       "<Figure size 800x500 with 1 Axes>"
      ]
     },
     "metadata": {},
     "output_type": "display_data"
    }
   ],
   "source": [
    "import matplotlib.pyplot as plt\n",
    "\n",
    "df_plot = sim_df.groupby('aspen_route')[['price_actual', 'price_counterfactual', 'price_uniform']].mean()\n",
    "df_plot.T.plot(kind='bar', figsize=(8, 5))\n",
    "plt.title('Counterfactual Pricing Scenarios for Aspen Routes')\n",
    "plt.ylabel('Average Predicted Price ($)')\n",
    "plt.xticks(rotation=0)\n",
    "plt.legend(['Non-Aspen', 'Aspen'])\n",
    "plt.show()"
   ]
  },
  {
   "cell_type": "markdown",
   "metadata": {},
   "source": [
    "### V. Monte Carlo(?)"
   ]
  },
  {
   "cell_type": "code",
   "execution_count": 57,
   "metadata": {},
   "outputs": [],
   "source": [
    "# Create a DataFrame for all unique (city, state, airport) combinations from origin and destination\n",
    "city_state_airport_pairs = pd.concat([\n",
    "    data[['city_O', 'state_O', 'airport_O1']].rename(\n",
    "        columns={'city_O': 'city', 'state_O': 'state', 'airport_O1': 'airport'}\n",
    "    ),\n",
    "    data[['city_D', 'state_D', 'airport_D1']].rename(\n",
    "        columns={'city_D': 'city', 'state_D': 'state', 'airport_D1': 'airport'}\n",
    "    )\n",
    "]).dropna().drop_duplicates().reset_index(drop=True)\n",
    "\n",
    "# Save the DataFrame to a CSV file\n",
    "city_state_airport_pairs.to_csv('city_state_airport_pairs.csv', index=False)"
   ]
  },
  {
   "cell_type": "code",
   "execution_count": 58,
   "metadata": {},
   "outputs": [
    {
     "data": {
      "text/plain": [
       "Index(['origin', 'finaldest', 'return', 'year', 'quarter', 'airports',\n",
       "       'return_sym', 'stops', 'avgprice', 'passengers', 'itinfare',\n",
       "       'sharelargest', 'share16', 'share9E', 'share9L', 'shareAA', 'shareAS',\n",
       "       'shareB6', 'shareCO', 'shareCP', 'shareCS', 'shareDL', 'shareEV',\n",
       "       'shareF8', 'shareF9', 'shareFL', 'shareG4', 'shareG7', 'shareHA',\n",
       "       'shareL3', 'shareMQ', 'shareNK', 'shareOH', 'shareOO', 'shareOW',\n",
       "       'shareQX', 'shareRP', 'shareS5', 'shareSY', 'shareU5', 'shareUA',\n",
       "       'shareUS', 'shareVX', 'shareWN', 'shareXE', 'shareXJ', 'shareYV',\n",
       "       'shareYX', 'shareZW', 'treated', 'smallmkt', 'code_O', 'icao_O',\n",
       "       'name_O', 'latitude_O', 'longitude_O', 'elevation_O', 'url_O',\n",
       "       'time_zone_O', 'city_code_O', 'country_O', 'city_O', 'state_O',\n",
       "       'county_O', 'type_O', 'code_D', 'icao_D', 'name_D', 'latitude_D',\n",
       "       'longitude_D', 'elevation_D', 'url_D', 'time_zone_D', 'city_code_D',\n",
       "       'country_D', 'city_D', 'state_D', 'county_D', 'type_D', 'airport_O1',\n",
       "       'city_O1', 'state_O1', 'airport_D1', 'city_D1', 'state_D1', 'rel_fare',\n",
       "       'segment', 'route', 'carrier', 'log_avg_price', 'rich_origin',\n",
       "       'rich_destination', 'n_carriers', 'small_rich_city', 'aspen_route'],\n",
       "      dtype='object')"
      ]
     },
     "execution_count": 58,
     "metadata": {},
     "output_type": "execute_result"
    }
   ],
   "source": [
    "data.columns"
   ]
  },
  {
   "cell_type": "markdown",
   "metadata": {},
   "source": []
  }
 ],
 "metadata": {
  "kernelspec": {
   "display_name": "Python 3",
   "language": "python",
   "name": "python3"
  },
  "language_info": {
   "codemirror_mode": {
    "name": "ipython",
    "version": 3
   },
   "file_extension": ".py",
   "mimetype": "text/x-python",
   "name": "python",
   "nbconvert_exporter": "python",
   "pygments_lexer": "ipython3",
   "version": "3.12.2"
  }
 },
 "nbformat": 4,
 "nbformat_minor": 4
}
